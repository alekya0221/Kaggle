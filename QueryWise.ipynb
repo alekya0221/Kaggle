{
 "cells": [
  {
   "cell_type": "markdown",
   "metadata": {},
   "source": [
    "# --------------------------- QueryWise---------------------------"
   ]
  },
  {
   "cell_type": "markdown",
   "metadata": {},
   "source": [
    "## Project Goal\n",
    "\n",
    "**Build a RAG System**\n",
    "\n",
    "The objective of this project is to develop a robust generative search system in the insurance domain that can effectively and accurately answer questions by retrieving and synthesizing information from various insurance policy documents. Leveraging frameworks like LangChain or LlamaIndex, the system will combine semantic search, embedding generation, and large language model (LLM) response generation to provide precise and verifiable answers.\n"
   ]
  },
  {
   "cell_type": "markdown",
   "metadata": {},
   "source": [
    "# Retrieval-Augmented Generation (RAG) for Insurance Document Analysis\n",
    "\n",
    "---\n",
    "\n",
    "## 1. Problem Statement\n",
    "\n",
    "The insurance domain is characterized by complex policy documents that contain critical information such as benefits, exclusions, premium details, and terms. For both customers and agents, quickly finding accurate answers from these documents is challenging. Our project addresses this problem by developing a Retrieval-Augmented Generation (RAG) system that leverages advanced language models to retrieve, re-rank, and generate answers from insurance policy documents.\n",
    "\n",
    "We chose frameworks like **LangChain** and **LlamaIndex** as they provide modular, extensible components for:\n",
    "\n",
    "- **Document Ingestion:**  \n",
    "  Our code uses `pdfplumber` to load and process PDFs, which mirrors the document loaders and data connectors found in LangChain and LlamaIndex.\n",
    "\n",
    "- **Embedding and Retrieval:**  \n",
    "  We generate embeddings using OpenAI’s `text-embedding-ada-002` and store them in ChromaDB, reflecting the vector representation and semantic search capabilities provided by both frameworks.\n",
    "\n",
    "- **LLM Integration:**  \n",
    "  The integration with GPT-3.5-turbo for generating natural language responses is a key aspect of our pipeline, similar to how LangChain and LlamaIndex interface with large language models.\n",
    "\n",
    "- **Re-ranking:**  \n",
    "  We use a cross encoder (`cross-encoder/ms-marco-MiniLM-L-6-v2`) to re-rank the initial semantic search results, which is a feature supported by both frameworks to improve result relevance.\n",
    "\n",
    "This clear mapping of components shows why LangChain or LlamaIndex would be ideal choices for building a robust end-to-end RAG system like ours.\n",
    "\n",
    "\n",
    "These frameworks are ideal for our problem because they support end-to-end pipelines that combine retrieval (from large document corpora) with generation, resulting in more accurate and verifiable answers.\n",
    "\n",
    "---\n",
    "\n",
    "## 2. Overall System Design\n",
    "\n",
    "### System Architecture and Workflow\n",
    "\n",
    "1. **Document Ingestion and Preprocessing:**\n",
    "   - **PDF Extraction:** We use `pdfplumber` to extract text and tables from insurance policy PDFs.\n",
    "   - **Text Segmentation:** The extracted content is processed to separate regular text from tabular data using bounding box checks.\n",
    "\n",
    "2. **Data Preparation and Indexing:**\n",
    "   - **Data Structuring:** Extracted text and metadata (e.g., policy name and page number) are stored in a DataFrame.\n",
    "   - **Embedding Generation:** We generate embeddings for each page using OpenAI's `text-embedding-ada-002` model.\n",
    "   - **Vector Storage:** The embeddings are stored in a persistent ChromaDB collection, enabling fast semantic search.\n",
    "\n",
    "3. **Retrieval and Re-ranking:**\n",
    "   - **Semantic Search:** We perform initial retrieval on the stored embeddings to get the top responses.\n",
    "   - **Cache Mechanism:** A separate cache collection stores previous query results to optimize performance.\n",
    "   - **Cross Encoder Re-ranking:** We re-rank the retrieved responses using the `cross-encoder/ms-marco-MiniLM-L-6-v2` model from Sentence Transformers to ensure higher relevance.\n",
    "\n",
    "4. **Response Generation:**\n",
    "   - **Prompt Construction:** A detailed prompt is built with the user query and top search results.\n",
    "   - **LLM Response:** GPT-3.5-turbo is used to generate a final answer that includes citations from the source documents.\n",
    "   \n",
    "5. **Output Delivery:**\n",
    "   - The final response is displayed to the user, including relevant citations (policy name and page numbers) to verify the answer.\n",
    "\n",
    "### Innovation and Use of Components\n",
    "\n",
    "- **Modular Design:** Our implementation combines custom code with components inspired by LangChain and LlamaIndex, such as document loaders, embedding functions, vector stores, and re-ranking models.\n",
    "- **Hybrid Approach:** We integrate semantic search with a caching mechanism and cross encoder re-ranking to achieve a robust, efficient, and accurate retrieval pipeline.\n",
    "- **Scalability:** The system can be extended to include additional document types, more sophisticated indexing, and improved query handling as needed.\n",
    "\n",
    "\n"
   ]
  },
  {
   "cell_type": "markdown",
   "metadata": {},
   "source": [
    "### Flowchart of the System Architecture\n"
   ]
  },
  {
   "cell_type": "markdown",
   "metadata": {},
   "source": [
    "\n",
    "```mermaid\n",
    "flowchart TD\n",
    "    A[Start: User Query Input] --> B[PDF Ingestion with pdfplumber]\n",
    "    B --> C[Extract Text and Tables]\n",
    "    C --> D[Preprocess Data]\n",
    "    D --> E[Generate Embeddings using OpenAI Model]\n",
    "    E --> F[Store Embeddings in ChromaDB]\n",
    "    F --> G[Perform Semantic Search]\n",
    "    G --> H[Cache Lookup and Comparison]\n",
    "    H --> I{Cache Hit?}\n",
    "    I -- Yes --> J[Retrieve from Cache]\n",
    "    I -- No --> K[Re-rank with Cross Encoder]\n",
    "    K --> L[Generate Final Prompt]\n",
    "    L --> M[Generate Response with GPT-3.5-turbo]\n",
    "    M --> N[Display Response with Citations]\n",
    "    N --> O[End]\n"
   ]
  },
  {
   "cell_type": "markdown",
   "metadata": {},
   "source": [
    "## 3. Code Implementation\n",
    "\n",
    "Our implementation is broken down into the following components:\n",
    "\n",
    "### 3.1 Library Installation & Imports\n",
    "- **Purpose:** Set up the environment by installing and importing all necessary libraries.\n",
    "- **Key Libraries:**\n",
    "  - `pdfplumber` for text extraction from PDFs.\n",
    "  - `openai` for embedding generation and LLM interaction.\n",
    "  - `chromadb` for storing and retrieving embeddings.\n",
    "  - `sentence-transformers` for cross encoder-based re-ranking.\n",
    "\n",
    "### 3.2 PDF Extraction\n",
    "- **What It Does:** Extracts text and tables from insurance PDFs using `pdfplumber` and separates them into regular text and structured tabular data.\n",
    "- **Key Features:**\n",
    "  - Bounding box checks for segregating table text from regular text.\n",
    "  - Organized data storage in a DataFrame for downstream processing.\n",
    "\n",
    "### 3.3 Data Aggregation & Preparation\n",
    "- **What It Does:** Aggregates extracted data into a DataFrame and prepares metadata for embeddings and retrieval.\n",
    "- **Key Steps:**\n",
    "  - Columns like `Text_Length` and `Metadata` are added to track text properties and source information.\n",
    "  - Unique document IDs are generated for use in ChromaDB.\n",
    "\n",
    "### 3.4 Embedding & Indexing\n",
    "- **What It Does:** Embeds text data using OpenAI's `text-embedding-ada-002` model and stores it in a ChromaDB collection.\n",
    "- **Key Features:**\n",
    "  - Persistent storage with ChromaDB.\n",
    "  - Deduplication logic to avoid re-adding existing documents.\n",
    "  - Metadata linking embeddings to original document pages.\n",
    "\n",
    "### 3.5 Query & Retrieval\n",
    "- **What It Does:** Retrieves relevant results from ChromaDB based on the user's query.\n",
    "- **Key Steps:**\n",
    "  - A cache collection is used for previously seen queries to optimize performance.\n",
    "  - Semantic search identifies the most relevant pages based on embeddings.\n",
    "  - Cross encoder re-ranking refines the initial results to improve relevance.\n",
    "\n",
    "### 3.6 Response Generation\n",
    "- **What It Does:** Constructs a prompt for GPT-3.5-turbo that incorporates user queries and retrieved results to generate a natural language response.\n",
    "- **Key Features:**\n",
    "  - Citations (policy name and page numbers) are included for user reference.\n",
    "  - Tabular data is reformatted if relevant information is present in tables.\n",
    "\n",
    "### 3.7 Final Output\n",
    "- **What It Does:** Displays the generated response in a user-friendly format, with citations for verification.\n",
    "- **Why It’s Important:** Provides users with concise, accurate, and verifiable answers from complex insurance documents.\n",
    "\n",
    "---\n",
    "\n",
    "## 4. Documentation and Challenges\n",
    "\n",
    "### 4.1 Project Goals\n",
    "- Provide a system for efficiently querying insurance policy documents.\n",
    "- Generate accurate, verifiable responses to user queries with minimal user effort.\n",
    "\n",
    "### 4.2 Data Sources\n",
    "- **Documents:** PDFs containing detailed insurance policy information.\n",
    "- **Metadata:** Extracted during preprocessing, including policy names and page numbers.\n",
    "\n",
    "### 4.3 Design Choices\n",
    "- **Embedding Model:** `text-embedding-ada-002` is chosen for its ability to generate high-quality, compact vector representations of text.\n",
    "- **Vector Store (ChromaDB):** Persistent, efficient storage and retrieval of embeddings.\n",
    "- **Cross Encoder Re-ranking:** Enhances the relevance of retrieved results by scoring query-document pairs.\n",
    "- **LLM (GPT-3.5-turbo):** Used for generating detailed, user-friendly responses.\n",
    "\n",
    "### 4.4 Challenges Faced\n",
    "1. **Data Extraction:**  \n",
    "   - Variability in PDF structures (e.g., tables, multi-column layouts) required robust preprocessing.\n",
    "   - Solutions: Used bounding box checks and table-specific extraction logic.\n",
    "\n",
    "2. **Performance:**  \n",
    "   - Semantic search on large corpora posed performance bottlenecks.\n",
    "   - Solutions: Introduced caching and re-ranking to optimize retrieval.\n",
    "\n",
    "3. **Integration of Multiple Tools:**  \n",
    "   - Seamlessly combining OpenAI, ChromaDB, and sentence-transformers was complex.\n",
    "   - Solutions: Modularized code with clear responsibilities for each layer of the pipeline.\n",
    "\n",
    "4. **Response Generation Accuracy:**  \n",
    "   - Ensuring the generated response addressed user queries with citations.\n",
    "   - Solutions: Structured prompt engineering with clear instructions to GPT-3.5-turbo.\n",
    "\n",
    "### 4.5 Lessons Learned\n",
    "\n",
    "- **BadRequestError with Embedding Function:**  \n",
    "  - *Issue:* Ensure API parameter compatibility, especially with third-party libraries.  \n",
    "  - *Solution:* Carefully review the API documentation and parameter specifications.\n",
    "\n",
    "- **Duplicate Embedding IDs:**  \n",
    "  - *Issue:* Simple incremental IDs caused conflicts when documents were re-added.  \n",
    "  - *Solution:* Use unique identifiers by combining multiple fields (e.g., policy name and page number).\n",
    "\n",
    "- **Virtual Environment Issues:**  \n",
    "  - *Issue:* Dependency conflicts arose due to mismatched versions of libraries.  \n",
    "  - *Solution:* Create a clean, isolated virtual environment for smooth package management.\n",
    "\n"
   ]
  },
  {
   "cell_type": "markdown",
   "metadata": {},
   "source": [
    "#  README  \n",
    "\n",
    "\n",
    "# Insurance Document Retrieval-Augmented Generation (RAG) System\n",
    "\n",
    "## Overview\n",
    "\n",
    "This project implements a Retrieval-Augmented Generation (RAG) system that extracts information from insurance policy PDFs, performs semantic search, re-ranks the results using a cross encoder, and generates natural language responses with GPT-3.5-turbo. The system is designed to help users quickly find relevant details from complex insurance documents.\n",
    "\n",
    "## Features\n",
    "\n",
    "- **PDF Extraction:** Extracts text and tables from policy documents using `pdfplumber`.\n",
    "- **Semantic Search:** Utilizes OpenAI embeddings and ChromaDB for fast and accurate document retrieval.\n",
    "- **Re-ranking:** Uses a cross encoder to refine search results.\n",
    "- **Response Generation:** Generates user-friendly answers with citations using GPT-3.5-turbo.\n",
    "- **Caching:** Implements a cache mechanism to speed up repeated queries.\n",
    "\n",
    "## Prerequisites\n",
    "\n",
    "- Python 3.7+\n",
    "- Required libraries (install via pip):\n",
    "  - pdfplumber\n",
    "  - tiktoken\n",
    "  - openai\n",
    "  - chromadb\n",
    "  - sentence-transformers\n",
    "  - pandas\n",
    "\n",
    "## Dependencies and Requirements\n",
    " - pdfplumber==0.6.0 \n",
    " - tiktoken==0.3.3 \n",
    " - openai==0.27.0 \n",
    " - chromadb==0.3.21 \n",
    " - sentence-transformers==2.2.2 \n",
    " - pandas==1.5.3 \n",
    " - numpy==1.23.5\n",
    "\n",
    "\n",
    "Here we have listed all the necessary Python libraries and their exact versions required to run the project. This ensures that anyone setting up or deploying the project installs the correct dependencies, which helps maintain reproducibility and minimizes version-related issues.\n",
    "\n",
    "*Note: You may need to adjust version numbers based on your development environment and compatibility requirements.*\n",
    "\n",
    "\n",
    "## Configure API Keys\n",
    "\n",
    "- Place your OpenAI API key in a text file (e.g., `OpenAI_API_Key.txt`) and update the file path in the code accordingly.\n",
    "\n",
    "## Prepare PDF Data\n",
    "\n",
    "- Store your insurance policy PDFs in a designated folder. Update the file path in the code to point to this folder.\n",
    "\n",
    "## Documents Used in this Case Study\n",
    "\n",
    "Here are the links to the documents used in this case study:\n",
    "\n",
    "- [HDFC Life Easy Health - Policy Bond (Single Pay)](https://www.hdfclife.com/content/dam/hdfclifeinsurancecompany/customer-services/policy-documents-pdf/health-live/HDFC-Life-Easy-Health-101N110V03-Policy-Bond-Single-Pay.pdf)\n",
    "- [HDFC Life Group Poorna Suraksha - Policy Document](https://www.hdfclife.com/content/dam/hdfclifeinsurancecompany/customer-services/policy-documents-pdf/group-others-live/HDFC-Life-Group-Poorna-Suraksha-101N137V02-Policy-Document.pdf)\n",
    "- [HDFC Life Group Term Life - Customer Information Sheet](https://www.hdfclife.com/content/dam/hdfclifeinsurancecompany/customer-services/customer-information-sheet/group-others-live/HDFC-Life-Group-Term-Life-101N169V03-Customer-Information-Sheet.pdf)\n",
    "- [HDFC Life Sampoorna Jeevan - Policy Document](https://www.hdfclife.com/content/dam/hdfclifeinsurancecompany/customer-services/policy-documents-pdf/savings-and-investment-withdrawn/HDFC-Life-Sampoorna-Jeevan-101N158V04-Policy-Document.pdf)\n",
    "- [HDFC Life Sanchay Plus - Life Long Income Option - Policy Document](https://www.hdfclife.com/content/dam/hdfclifeinsurancecompany/customer-services/policy-documents-pdf/savings-and-investment-withdrawn/HDFC-Life-Sanchay-Plus-Life-Long-Income-Option-101N134V19-Policy-Document.pdf)\n",
    "- [HDFC Life Smart Pension Plan - Policy Document (Online)](https://www.hdfclife.com/content/dam/hdfclifeinsurancecompany/customer-services/policy-documents-pdf/retirement-live/HDFC-Life-Smart-Pension-Plan-Policy-Document-Online.pdf)\n",
    "- [HDFC Surgicare Plan - Policy Document](https://www.hdfclife.com/content/dam/hdfclifeinsurancecompany/customer-services/policy-documents-pdf/health-withdrawn/HDFC-Surgicare-Plan-101N043V01.pdf)\n",
    "\n",
    "\n",
    "## Running the Project\n",
    "\n",
    "### Execute the Notebook or Script\n",
    "- Run the main notebook  or execute the Python script to start the pipeline.\n",
    "- The system will extract text from PDFs, build embeddings, perform semantic search, and generate responses based on user queries.\n",
    "\n",
    "### Interacting with the System\n",
    "- When prompted, enter your insurance-related query.\n",
    "- The system will output a detailed answer with relevant citations from the policy documents.\n",
    "\n",
    "## Deployment\n",
    "\n",
    "### Local Deployment\n",
    "- Follow the setup instructions and run the project locally.\n",
    "\n",
    "### Cloud Deployment\n",
    "- The project can be deployed on cloud platforms (e.g., AWS, GCP) by containerizing the application with Docker.\n",
    "- Ensure API keys and data paths are configured as environment variables.\n",
    "\n",
    "## Troubleshooting\n",
    "\n",
    "### Model Loading Issues\n",
    "- If you encounter errors with model loading (e.g., CrossEncoder), verify that the model name is correct and that your environment has access to the Hugging Face repository.\n",
    "\n",
    "### API Key Errors\n",
    "- Ensure that the OpenAI API key is correctly placed and the file path is updated.\n",
    "\n",
    "## Conclusion\n",
    "\n",
    "This project demonstrates an end-to-end implementation of a Retrieval-Augmented Generation (RAG) system tailored for the insurance domain. By combining robust document extraction, semantic search, re-ranking, and advanced language models, the system provides accurate and\n",
    "\n",
    "\n",
    "\n",
    "---\n",
    "\n"
   ]
  },
  {
   "cell_type": "markdown",
   "metadata": {},
   "source": [
    "-------------------"
   ]
  },
  {
   "cell_type": "markdown",
   "metadata": {
    "id": "ghrNO9TjM_mS"
   },
   "source": [
    "## 1. Install and Import the Required Libraries"
   ]
  },
  {
   "cell_type": "markdown",
   "metadata": {},
   "source": [
    "# Environment Setup\n",
    "\n",
    "This code snippet sets up our environment by installing and importing the libraries required for the rest of our pipeline. Below is an explanation of each part and how it fits into our custom Retrieval-Augmented Generation (RAG) system:\n",
    "\n",
    "---\n",
    "\n",
    "## Installation of Libraries\n",
    "\n",
    "- **pdfplumber**:  \n",
    "  We use this library to extract text from PDF files, acting as our **Document Loader**—similar to those found in both LangChain and LlamaIndex for document ingestion.\n",
    "\n",
    "- **tiktoken**:  \n",
    "  This library helps us tokenize text, which is crucial for managing token counts when interacting with language models such as GPT-3.5-turbo. It serves as our **Tokenization/Preprocessing** utility.\n",
    "\n",
    "- **openai**:  \n",
    "  We rely on this library to interface with OpenAI's API, allowing us to use models like GPT-3.5-turbo and the embedding model (\"text-embedding-ada-002\"). It is a core component for our **LLM Integration**.\n",
    "\n",
    "- **chromaDB**:  \n",
    "  This is our vector database where we store and search through embeddings. It is a key part of the **Retrieval** component, acting as our **Vector Store**, similar to integrations available in LangChain and LlamaIndex.\n",
    "\n",
    "- **sentence-transformers**:  \n",
    "  Although we might use OpenAI's embedding model, this library provides an alternative or additional option for generating embeddings, contributing to our **Embedding Model** component.\n",
    "\n",
    "---\n",
    "\n",
    "## Importing Standard Python Libraries\n",
    "\n",
    "- **pathlib, pandas, json**:  \n",
    "  We use these libraries for file system operations, data manipulation, and handling JSON data, respectively. These are fundamental for our **Data Processing and Management**.\n",
    "\n",
    "- **operator.itemgetter**:  \n",
    "  This utility assists us in sorting or extracting specific items from collections, which is particularly useful when re-ranking our results during the retrieval process.\n",
    "\n",
    "---\n",
    "\n",
    "## Pipeline Context and Components\n",
    "\n",
    "We are building a custom Retrieval-Augmented Generation (RAG) pipeline. This initial code sets the stage for:\n",
    "\n",
    "- **Document Ingestion and Extraction**: Using `pdfplumber` to read and extract text from PDFs.\n",
    "- **Preprocessing and Tokenization**: Utilizing `tiktoken` to prepare text data for further processing.\n",
    "- **Embedding Generation**: Employing `sentence-transformers` (or OpenAI's embedding model) to convert text into vector representations.\n",
    "- **Storage and Retrieval**: Using `chromaDB` to store these embeddings and perform similarity searches.\n",
    "- **LLM Integration**: Leveraging `openai` to interact with GPT-3.5-turbo for generating responses.\n",
    "\n",
    "### LangChain and LlamaIndex\n",
    "\n",
    "- **LangChain Components**:  \n",
    "  Our code aligns with LangChain's document loader, token management, and vector store integration components.\n",
    "\n",
    "- **LlamaIndex Components**:  \n",
    "  It also mirrors LlamaIndex's approach to document ingestion, indexing (via vector stores like chromaDB), and retrieval.\n",
    "\n",
    "By installing and importing these libraries, we are preparing our environment to manually implement components that are conceptually similar to those provided by frameworks like LangChain and LlamaIndex. This approach allows us to build a modular, custom RAG system as part of our case study.\n"
   ]
  },
  {
   "cell_type": "code",
   "execution_count": 1,
   "metadata": {
    "id": "8PsPVtxoSY_V"
   },
   "outputs": [],
   "source": [
    "# Install all the required libraries\n",
    "\n",
    "!pip install pdfplumber tiktoken openai chromaDB sentence-transformers -q"
   ]
  },
  {
   "cell_type": "code",
   "execution_count": 2,
   "metadata": {
    "id": "R7uDlZS0M99u"
   },
   "outputs": [],
   "source": [
    "# Import all the required Libraries\n",
    "\n",
    "import pdfplumber\n",
    "from pathlib import Path\n",
    "import pandas as pd\n",
    "from operator import itemgetter\n",
    "import json\n",
    "import tiktoken\n",
    "import openai\n",
    "import chromadb"
   ]
  },
  {
   "cell_type": "markdown",
   "metadata": {
    "id": "l-CoovqcqgkM"
   },
   "source": [
    "## 2. Read, Process, and Chunk the PDF Files\n",
    "\n",
    "We will be using [pdfplumber](https://https://pypi.org/project/pdfplumber/) to read and process the PDF files.\n",
    "\n",
    "`pdfplumber` allows for better parsing of the PDF file as it can read various elements of the PDF apart from the plain text, such as, tables, images, etc. It also offers wide functionaties and visual debugging features to help with advanced preprocessing as well."
   ]
  },
  {
   "cell_type": "code",
   "execution_count": 3,
   "metadata": {
    "id": "D-5PTZeh2l-C"
   },
   "outputs": [],
   "source": [
    "# Define the path of the PDF\n",
    "single_pdf_path = r'C:\\FromOneDrive\\Documents\\Upgrad\\05_Generative_AI\\M7_HelpMate_AI_Project_DL\\1_Main\\Policy_Documents\\HDFC-Life-Easy-Health-101N110V03-Policy-Bond-Single-Pay.pdf'\n"
   ]
  },
  {
   "cell_type": "markdown",
   "metadata": {
    "id": "YDMaFpe4p6Dx"
   },
   "source": [
    "#### 2.1 Reading a single PDF file and exploring it through pdfplumber"
   ]
  },
  {
   "cell_type": "code",
   "execution_count": 4,
   "metadata": {
    "colab": {
     "base_uri": "https://localhost:8080/"
    },
    "id": "FHFLn9wn2Xea",
    "outputId": "ef90e594-c8b8-4eed-cfba-3d97198ca0bb"
   },
   "outputs": [
    {
     "name": "stdout",
     "output_type": "stream",
     "text": [
      "apart; and\n",
      "ii. Requiring continuous permanent supplementary oxygen therapy for hypoxemia;\n",
      "and\n",
      "iii. Arterial blood gas analysis with partial oxygen pressure of 55mmHg or less\n",
      "(PaO2 < 55mmHg); and\n",
      "iv. Dyspnea at rest.\n",
      "Confirmation by a consultant physician acceptable to the Company of the loss of\n",
      "independent existence due to Illness or trauma, which has lasted for a minimum\n",
      "period of 6 months and results in a permanent inability to perform at least three (3) of\n",
      "the Activities of Daily Living (either with or without the use of mechanical\n",
      "equipment, special devices or other aids and adaptations in use for disabled persons).\n",
      "For the purpose of this benefit, the word “permanent”, shall mean beyond the hope of\n",
      "recovery with current medical knowledge and technology.\n",
      "Activities of Daily Living are:-\n",
      "a) Washing: the ability to wash in the bath or shower (including getting into and out\n",
      "of the bath or shower) or wash satisfactorily by other means.\n",
      "Loss of\n",
      "b) Dressing: the ability to put on, take off, secure and unfasten all garments and, as\n",
      "Independe\n",
      "11 appropriate, any braces, artificial limbs or other surgical appliances.\n",
      "nt\n",
      "c) Transferring: the ability to move from a bed or an upright chair or wheelchair and\n",
      "Existence\n",
      "vice versa.\n",
      "d) Mobility: The ability to move indoors from room to room on level surfaces.\n",
      "e) Toileting: the ability to use the lavatory or otherwise manage bowel and bladder\n",
      "functions so as to maintain a satisfactory level of personal hygiene.\n",
      "f) Feeding: the ability to feed oneself once food has been prepared and made\n",
      "available.\n",
      "The following is excluded:\n",
      "Any injury or loss as a result of War, invasion, hostilities (whether war is declared or\n",
      "not), civil war, rebellion, revolution or taking part in a riot or civil commotion\n",
      "Total, permanent and irreversible loss of all vision in both eyes as a result of illness or\n",
      "accident.\n",
      "The Blindness is evidenced by:\n",
      "12 Blindness i. corrected visual acuity being 3/60 or less in both eyes or ;\n",
      "ii. the field of vision being less than 10 degrees in both eyes.\n",
      "The diagnosis of blindness must be confirmed and must not be correctable by aids or\n",
      "surgical procedure.\n",
      "Third There must be third-degree burns with scarring that cover at least 20% of the body’s\n",
      "13 Degree surface area. The diagnosis must confirm the total area involved using standardized,\n",
      "Burns clinically accepted, body surface area charts covering 20% of the body surface area.\n",
      "Accidental head injury resulting in permanent Neurological deficit to be assessed no\n",
      "sooner than 3 months from the date of the accident. This diagnosis must be supported\n",
      "by unequivocal findings on Magnetic Resonance Imaging,\n",
      "Computerized Tomography, or other reliable imaging techniques. The accident must\n",
      "be caused solely and directly by accidental, violent, external and visible means and\n",
      "Major independently of all other causes.\n",
      "14 Head The Accidental Head injury must result in an inability to perform at least three (3)of\n",
      "Trauma the following Activities of Daily Living either with or without the use of mechanical\n",
      "equipment, special devices or other aids and adaptations in use for disabled persons.\n",
      "For the purpose of this benefit, the word “permanent” shall mean beyond the scope of\n",
      "recovery with current medical knowledge and technology.\n",
      "The following are excluded:\n",
      "i. Spinal cord injury\n",
      "Motor Motor neurone disease diagnosed by a specialist medical practitioner as spinal\n",
      "Neurone muscular atrophy, progressive bulbar palsy, amyotrophic lateral sclerosis or primary\n",
      "Disease lateral sclerosis. There must be progressive degeneration of corticospinal tracts and\n",
      "15\n",
      "With anterior horn cells or bulbar efferent neurons. There must be current significant and\n",
      "Permanent permanent functional neurological impairment with objective evidence of motor\n",
      "Symptoms dysfunction that has persisted for a continuous period of at least 3 months.\n",
      "16 Multiple The unequivocal diagnosis of Definite Multiple Sclerosis confirmed and evidenced by\n"
     ]
    }
   ],
   "source": [
    "# Open the PDF file\n",
    "with pdfplumber.open(single_pdf_path) as pdf:\n",
    "\n",
    "    # Get one of the pages from the PDF and examine it\n",
    "    single_page = pdf.pages[6] # 0 means first page\n",
    "\n",
    "    # Extract text from the first page\n",
    "    text = single_page.extract_text()\n",
    "\n",
    "    # Extract tables from the first page\n",
    "    tables = single_page.extract_tables()\n",
    "\n",
    "    # Print the extracted text\n",
    "    print(text)"
   ]
  },
  {
   "cell_type": "code",
   "execution_count": 5,
   "metadata": {
    "colab": {
     "base_uri": "https://localhost:8080/"
    },
    "id": "L_1gYHV13vmG",
    "outputId": "ce48ac81-26dc-4b8e-f899-cf662160b53d"
   },
   "outputs": [
    {
     "data": {
      "text/plain": [
       "[['',\n",
       "  '',\n",
       "  'apart; and\\nii. Requiring continuous permanent supplementary oxygen therapy for hypoxemia;\\nand\\niii. Arterial blood gas analysis with partial oxygen pressure of 55mmHg or less\\n(PaO2 < 55mmHg); and\\niv. Dyspnea at rest.'],\n",
       " ['11',\n",
       "  'Loss of\\nIndepende\\nnt\\nExistence',\n",
       "  'Confirmation by a consultant physician acceptable to the Company of the loss of\\nindependent existence due to Illness or trauma, which has lasted for a minimum\\nperiod of 6 months and results in a permanent inability to perform at least three (3) of\\nthe Activities of Daily Living (either with or without the use of mechanical\\nequipment, special devices or other aids and adaptations in use for disabled persons).\\nFor the purpose of this benefit, the word “permanent”, shall mean beyond the hope of\\nrecovery with current medical knowledge and technology.\\nActivities of Daily Living are:-\\na) Washing: the ability to wash in the bath or shower (including getting into and out\\nof the bath or shower) or wash satisfactorily by other means.\\nb) Dressing: the ability to put on, take off, secure and unfasten all garments and, as\\nappropriate, any braces, artificial limbs or other surgical appliances.\\nc) Transferring: the ability to move from a bed or an upright chair or wheelchair and\\nvice versa.\\nd) Mobility: The ability to move indoors from room to room on level surfaces.\\ne) Toileting: the ability to use the lavatory or otherwise manage bowel and bladder\\nfunctions so as to maintain a satisfactory level of personal hygiene.\\nf) Feeding: the ability to feed oneself once food has been prepared and made\\navailable.\\nThe following is excluded:\\nAny injury or loss as a result of War, invasion, hostilities (whether war is declared or\\nnot), civil war, rebellion, revolution or taking part in a riot or civil commotion'],\n",
       " ['12',\n",
       "  'Blindness',\n",
       "  'Total, permanent and irreversible loss of all vision in both eyes as a result of illness or\\naccident.\\nThe Blindness is evidenced by:\\ni. corrected visual acuity being 3/60 or less in both eyes or ;\\nii. the field of vision being less than 10 degrees in both eyes.\\nThe diagnosis of blindness must be confirmed and must not be correctable by aids or\\nsurgical procedure.'],\n",
       " ['13',\n",
       "  'Third\\nDegree\\nBurns',\n",
       "  'There must be third-degree burns with scarring that cover at least 20% of the body’s\\nsurface area. The diagnosis must confirm the total area involved using standardized,\\nclinically accepted, body surface area charts covering 20% of the body surface area.'],\n",
       " ['14',\n",
       "  'Major\\nHead\\nTrauma',\n",
       "  'Accidental head injury resulting in permanent Neurological deficit to be assessed no\\nsooner than 3 months from the date of the accident. This diagnosis must be supported\\nby unequivocal findings on Magnetic Resonance Imaging,\\nComputerized Tomography, or other reliable imaging techniques. The accident must\\nbe caused solely and directly by accidental, violent, external and visible means and\\nindependently of all other causes.\\nThe Accidental Head injury must result in an inability to perform at least three (3)of\\nthe following Activities of Daily Living either with or without the use of mechanical\\nequipment, special devices or other aids and adaptations in use for disabled persons.\\nFor the purpose of this benefit, the word “permanent” shall mean beyond the scope of\\nrecovery with current medical knowledge and technology.\\nThe following are excluded:\\ni. Spinal cord injury'],\n",
       " ['15',\n",
       "  'Motor\\nNeurone\\nDisease\\nWith\\nPermanent\\nSymptoms',\n",
       "  'Motor neurone disease diagnosed by a specialist medical practitioner as spinal\\nmuscular atrophy, progressive bulbar palsy, amyotrophic lateral sclerosis or primary\\nlateral sclerosis. There must be progressive degeneration of corticospinal tracts and\\nanterior horn cells or bulbar efferent neurons. There must be current significant and\\npermanent functional neurological impairment with objective evidence of motor\\ndysfunction that has persisted for a continuous period of at least 3 months.'],\n",
       " ['16',\n",
       "  'Multiple',\n",
       "  'The unequivocal diagnosis of Definite Multiple Sclerosis confirmed and evidenced by']]"
      ]
     },
     "execution_count": 5,
     "metadata": {},
     "output_type": "execute_result"
    }
   ],
   "source": [
    "# View the table in the page, if any\n",
    "\n",
    "tables[0]"
   ]
  },
  {
   "cell_type": "markdown",
   "metadata": {
    "id": "BQorWwRMcOhy"
   },
   "source": [
    "#### 2.2 Extracting text from multiple PDFs\n",
    "\n",
    "Let's now try and read multiple documents, extract text from them using appropriate preprocessing, and store them in a dataframe\n"
   ]
  },
  {
   "cell_type": "code",
   "execution_count": 6,
   "metadata": {
    "id": "iw_75A_zQiU_"
   },
   "outputs": [],
   "source": [
    "# Define the path where all pdf documents are present\n",
    "\n",
    "pdf_path = r\"C:\\FromOneDrive\\Documents\\Upgrad\\05_Generative_AI\\M7_HelpMate_AI_Project_DL\\1_Main\\Policy_Documents\""
   ]
  },
  {
   "cell_type": "code",
   "execution_count": 7,
   "metadata": {
    "id": "yaRqBDikEi-e"
   },
   "outputs": [],
   "source": [
    "# Function to check whether a word is present in a table or not for segregation of regular text and tables\n",
    "\n",
    "def check_bboxes(word, table_bbox):\n",
    "    # Check whether word is inside a table bbox.\n",
    "    l = word['x0'], word['top'], word['x1'], word['bottom']\n",
    "    r = table_bbox\n",
    "    return l[0] > r[0] and l[1] > r[1] and l[2] < r[2] and l[3] < r[3]"
   ]
  },
  {
   "cell_type": "markdown",
   "metadata": {},
   "source": [
    "This function, `check_bboxes()`, determines whether a given word is inside a table's bounding box (bbox). It compares the word’s coordinates (`x0, top, x1, bottom`) with the table's bounding box (`table_bbox`) and returns `True` if the word is entirely within the table, helping to segregate regular text from table data.\n"
   ]
  },
  {
   "cell_type": "code",
   "execution_count": 8,
   "metadata": {
    "id": "5vl3fNNvDyBG"
   },
   "outputs": [],
   "source": [
    "# Function to extract text from a PDF file.\n",
    "# 1. Declare a variable p to store the iteration of the loop that will help us store page numbers alongside the text\n",
    "# 2. Declare an empty list 'full_text' to store all the text files\n",
    "# 3. Use pdfplumber to open the pdf pages one by one\n",
    "# 4. Find the tables and their locations in the page\n",
    "# 5. Extract the text from the tables in the variable 'tables'\n",
    "# 6. Extract the regular words by calling the function check_bboxes() and checking whether words are present in the table or not\n",
    "# 7. Use the cluster_objects utility to cluster non-table and table words together so that they retain the same chronology as in the original PDF\n",
    "# 8. Declare an empty list 'lines' to store the page text\n",
    "# 9. If a text element in present in the cluster, append it to 'lines', else if a table element is present, append the table\n",
    "# 10. Append the page number and all lines to full_text, and increment 'p'\n",
    "# 11. When the function has iterated over all pages, return the 'full_text' list\n",
    "\n",
    "def extract_text_from_pdf(pdf_path):\n",
    "    p = 0\n",
    "    full_text = []\n",
    "\n",
    "\n",
    "    with pdfplumber.open(pdf_path) as pdf:\n",
    "        for page in pdf.pages:\n",
    "            page_no = f\"Page {p+1}\"\n",
    "            text = page.extract_text()\n",
    "\n",
    "            tables = page.find_tables()\n",
    "            table_bboxes = [i.bbox for i in tables]\n",
    "            tables = [{'table': i.extract(), 'top': i.bbox[1]} for i in tables]\n",
    "            non_table_words = [word for word in page.extract_words() if not any(\n",
    "                [check_bboxes(word, table_bbox) for table_bbox in table_bboxes])]\n",
    "            lines = []\n",
    "\n",
    "            for cluster in pdfplumber.utils.cluster_objects(non_table_words + tables, itemgetter('top'), tolerance=5):\n",
    "\n",
    "                if 'text' in cluster[0]:\n",
    "                    try:\n",
    "                        lines.append(' '.join([i['text'] for i in cluster]))\n",
    "                    except KeyError:\n",
    "                        pass\n",
    "\n",
    "                elif 'table' in cluster[0]:\n",
    "                    lines.append(json.dumps(cluster[0]['table'])) # json.dump conveting to str\n",
    "\n",
    "\n",
    "            full_text.append([page_no, \" \".join(lines)])\n",
    "            p +=1\n",
    "\n",
    "    return full_text"
   ]
  },
  {
   "cell_type": "markdown",
   "metadata": {
    "id": "JIBPOBOxefd0"
   },
   "source": [
    "This function iterates through each page of a PDF, extracts both table and non-table text by checking word bounding boxes, clusters them to preserve the original order, and returns a list of pages with their combined text.\n",
    "\n",
    "\n",
    "*Now that we have defined the function for extracting the text and tables from a PDF, let's iterate and call this function for all the PDFs in our drive and store them in a list.*"
   ]
  },
  {
   "cell_type": "code",
   "execution_count": 9,
   "metadata": {
    "colab": {
     "base_uri": "https://localhost:8080/"
    },
    "id": "gi8dV-BN6U7A",
    "outputId": "e74ce49f-38ce-467a-b2da-c3d93966a211"
   },
   "outputs": [
    {
     "name": "stdout",
     "output_type": "stream",
     "text": [
      "...Processing HDFC-Life-Easy-Health-101N110V03-Policy-Bond-Single-Pay.pdf\n",
      "Finished processing HDFC-Life-Easy-Health-101N110V03-Policy-Bond-Single-Pay.pdf\n",
      "...Processing HDFC-Life-Group-Poorna-Suraksha-101N137V02-Policy-Document.pdf\n",
      "Finished processing HDFC-Life-Group-Poorna-Suraksha-101N137V02-Policy-Document.pdf\n",
      "...Processing HDFC-Life-Group-Term-Life-Policy.pdf\n",
      "Finished processing HDFC-Life-Group-Term-Life-Policy.pdf\n",
      "...Processing HDFC-Life-Sampoorna-Jeevan-101N158V04-Policy-Document (1).pdf\n",
      "Finished processing HDFC-Life-Sampoorna-Jeevan-101N158V04-Policy-Document (1).pdf\n",
      "...Processing HDFC-Life-Sanchay-Plus-Life-Long-Income-Option-101N134V19-Policy-Document.pdf\n",
      "Finished processing HDFC-Life-Sanchay-Plus-Life-Long-Income-Option-101N134V19-Policy-Document.pdf\n",
      "...Processing HDFC-Life-Smart-Pension-Plan-Policy-Document-Online.pdf\n",
      "Finished processing HDFC-Life-Smart-Pension-Plan-Policy-Document-Online.pdf\n",
      "...Processing HDFC-Surgicare-Plan-101N043V01.pdf\n",
      "Finished processing HDFC-Surgicare-Plan-101N043V01.pdf\n",
      "All PDFs have been processed.\n"
     ]
    }
   ],
   "source": [
    "# Define the directory containing the PDF files\n",
    "pdf_directory = Path(pdf_path)\n",
    "\n",
    "# Initialize an empty list to store the extracted texts and document names\n",
    "data = []\n",
    "\n",
    "# Loop through all files in the directory\n",
    "for pdf_path in pdf_directory.glob(\"*.pdf\"):\n",
    "\n",
    "    # Process the PDF file\n",
    "    print(f\"...Processing {pdf_path.name}\")\n",
    "\n",
    "    # Call the function to extract the text from the PDF\n",
    "    extracted_text = extract_text_from_pdf(pdf_path)\n",
    "\n",
    "    # Convert the extracted list to a PDF, and add a column to store document names\n",
    "    extracted_text_df = pd.DataFrame(extracted_text, columns=['Page No.', 'Page_Text'])\n",
    "    extracted_text_df['Document Name'] = pdf_path.name\n",
    "\n",
    "    # Append the extracted text and document name to the list\n",
    "    data.append(extracted_text_df)\n",
    "\n",
    "    # Print a message to indicate progress\n",
    "    print(f\"Finished processing {pdf_path.name}\")\n",
    "\n",
    "# Print a message to indicate all PDFs have been processed\n",
    "print(\"All PDFs have been processed.\")"
   ]
  },
  {
   "cell_type": "markdown",
   "metadata": {},
   "source": [
    "This above code iterates through all PDF files in a specified directory, extracts text from each using our extraction function, converts the output to a DataFrame with document names, and aggregates the results into a list while printing progress messages.\n"
   ]
  },
  {
   "cell_type": "code",
   "execution_count": 10,
   "metadata": {
    "id": "xDlL7PADDrrk"
   },
   "outputs": [],
   "source": [
    "# Concatenate all the DFs in the list 'data' together\n",
    "\n",
    "insurance_pdfs_data = pd.concat(data, ignore_index=True)"
   ]
  },
  {
   "cell_type": "markdown",
   "metadata": {},
   "source": [
    "Here we are concatenating all DataFrames stored in the `data` list into a single DataFrame called `insurance_pdfs_data`, resetting the index in the process.\n"
   ]
  },
  {
   "cell_type": "code",
   "execution_count": 11,
   "metadata": {
    "colab": {
     "base_uri": "https://localhost:8080/",
     "height": 423
    },
    "id": "U9aKtiUhCdjl",
    "outputId": "6a421e7f-0caf-473e-b1ac-d45f905e37e2"
   },
   "outputs": [
    {
     "data": {
      "text/html": [
       "<div>\n",
       "<style scoped>\n",
       "    .dataframe tbody tr th:only-of-type {\n",
       "        vertical-align: middle;\n",
       "    }\n",
       "\n",
       "    .dataframe tbody tr th {\n",
       "        vertical-align: top;\n",
       "    }\n",
       "\n",
       "    .dataframe thead th {\n",
       "        text-align: right;\n",
       "    }\n",
       "</style>\n",
       "<table border=\"1\" class=\"dataframe\">\n",
       "  <thead>\n",
       "    <tr style=\"text-align: right;\">\n",
       "      <th></th>\n",
       "      <th>Page No.</th>\n",
       "      <th>Page_Text</th>\n",
       "      <th>Document Name</th>\n",
       "    </tr>\n",
       "  </thead>\n",
       "  <tbody>\n",
       "    <tr>\n",
       "      <th>0</th>\n",
       "      <td>Page 1</td>\n",
       "      <td>Part A &lt;&lt;Date&gt;&gt; &lt;&lt;Policyholder’s Name&gt;&gt; &lt;&lt;Poli...</td>\n",
       "      <td>HDFC-Life-Easy-Health-101N110V03-Policy-Bond-S...</td>\n",
       "    </tr>\n",
       "    <tr>\n",
       "      <th>1</th>\n",
       "      <td>Page 2</td>\n",
       "      <td>Agency/Intermediary Contact Details: &lt;&lt;Agency/...</td>\n",
       "      <td>HDFC-Life-Easy-Health-101N110V03-Policy-Bond-S...</td>\n",
       "    </tr>\n",
       "    <tr>\n",
       "      <th>2</th>\n",
       "      <td>Page 3</td>\n",
       "      <td>POLICY DOCUMENT- HDFC LIFE EASY HEALTH Unique ...</td>\n",
       "      <td>HDFC-Life-Easy-Health-101N110V03-Policy-Bond-S...</td>\n",
       "    </tr>\n",
       "    <tr>\n",
       "      <th>3</th>\n",
       "      <td>Page 4</td>\n",
       "      <td>[[null, \"&lt;&lt; dd/mm/yyyy &gt;&gt;\"], [\"Appointee's Add...</td>\n",
       "      <td>HDFC-Life-Easy-Health-101N110V03-Policy-Bond-S...</td>\n",
       "    </tr>\n",
       "    <tr>\n",
       "      <th>4</th>\n",
       "      <td>Page 5</td>\n",
       "      <td>Part B Definitions The following capitalised t...</td>\n",
       "      <td>HDFC-Life-Easy-Health-101N110V03-Policy-Bond-S...</td>\n",
       "    </tr>\n",
       "    <tr>\n",
       "      <th>...</th>\n",
       "      <td>...</td>\n",
       "      <td>...</td>\n",
       "      <td>...</td>\n",
       "    </tr>\n",
       "    <tr>\n",
       "      <th>212</th>\n",
       "      <td>Page 11</td>\n",
       "      <td>HDFC Standard Life Insurance Company Limited H...</td>\n",
       "      <td>HDFC-Surgicare-Plan-101N043V01.pdf</td>\n",
       "    </tr>\n",
       "    <tr>\n",
       "      <th>213</th>\n",
       "      <td>Page 12</td>\n",
       "      <td>HDFC Standard Life Insurance Company Limited H...</td>\n",
       "      <td>HDFC-Surgicare-Plan-101N043V01.pdf</td>\n",
       "    </tr>\n",
       "    <tr>\n",
       "      <th>214</th>\n",
       "      <td>Page 13</td>\n",
       "      <td>HDFC Standard Life Insurance Company Limited H...</td>\n",
       "      <td>HDFC-Surgicare-Plan-101N043V01.pdf</td>\n",
       "    </tr>\n",
       "    <tr>\n",
       "      <th>215</th>\n",
       "      <td>Page 14</td>\n",
       "      <td>HDFC Standard Life Insurance Company Limited H...</td>\n",
       "      <td>HDFC-Surgicare-Plan-101N043V01.pdf</td>\n",
       "    </tr>\n",
       "    <tr>\n",
       "      <th>216</th>\n",
       "      <td>Page 15</td>\n",
       "      <td>HDFC Standard Life Insurance Company Limited H...</td>\n",
       "      <td>HDFC-Surgicare-Plan-101N043V01.pdf</td>\n",
       "    </tr>\n",
       "  </tbody>\n",
       "</table>\n",
       "<p>217 rows × 3 columns</p>\n",
       "</div>"
      ],
      "text/plain": [
       "    Page No.                                          Page_Text  \\\n",
       "0     Page 1  Part A <<Date>> <<Policyholder’s Name>> <<Poli...   \n",
       "1     Page 2  Agency/Intermediary Contact Details: <<Agency/...   \n",
       "2     Page 3  POLICY DOCUMENT- HDFC LIFE EASY HEALTH Unique ...   \n",
       "3     Page 4  [[null, \"<< dd/mm/yyyy >>\"], [\"Appointee's Add...   \n",
       "4     Page 5  Part B Definitions The following capitalised t...   \n",
       "..       ...                                                ...   \n",
       "212  Page 11  HDFC Standard Life Insurance Company Limited H...   \n",
       "213  Page 12  HDFC Standard Life Insurance Company Limited H...   \n",
       "214  Page 13  HDFC Standard Life Insurance Company Limited H...   \n",
       "215  Page 14  HDFC Standard Life Insurance Company Limited H...   \n",
       "216  Page 15  HDFC Standard Life Insurance Company Limited H...   \n",
       "\n",
       "                                         Document Name  \n",
       "0    HDFC-Life-Easy-Health-101N110V03-Policy-Bond-S...  \n",
       "1    HDFC-Life-Easy-Health-101N110V03-Policy-Bond-S...  \n",
       "2    HDFC-Life-Easy-Health-101N110V03-Policy-Bond-S...  \n",
       "3    HDFC-Life-Easy-Health-101N110V03-Policy-Bond-S...  \n",
       "4    HDFC-Life-Easy-Health-101N110V03-Policy-Bond-S...  \n",
       "..                                                 ...  \n",
       "212                 HDFC-Surgicare-Plan-101N043V01.pdf  \n",
       "213                 HDFC-Surgicare-Plan-101N043V01.pdf  \n",
       "214                 HDFC-Surgicare-Plan-101N043V01.pdf  \n",
       "215                 HDFC-Surgicare-Plan-101N043V01.pdf  \n",
       "216                 HDFC-Surgicare-Plan-101N043V01.pdf  \n",
       "\n",
       "[217 rows x 3 columns]"
      ]
     },
     "execution_count": 11,
     "metadata": {},
     "output_type": "execute_result"
    }
   ],
   "source": [
    "insurance_pdfs_data"
   ]
  },
  {
   "cell_type": "code",
   "execution_count": 12,
   "metadata": {
    "colab": {
     "base_uri": "https://localhost:8080/",
     "height": 110
    },
    "id": "QXHBpFzg3s9_",
    "outputId": "364006c5-686e-4e6e-c731-a98fbbe6fc16"
   },
   "outputs": [
    {
     "data": {
      "text/plain": [
       "'Part A <<Date>> <<Policyholder’s Name>> <<Policyholder’s Address>> <<Policyholder’s Contact Number>> Dear <<Policyholder’s Name>>, Sub: Your Policy no. << >> We are glad to inform you that your proposal has been accepted and the HDFC Life Easy Health (“Policy”) being this document, has been issued. We have made every effort to design your Policy in a simple format. We have highlighted items of importance so that you may recognize them easily. Policy document: As an evidence of the insurance contract between HDFC Life Insurance Company Limited and you, the Policy is enclosed herewith. Please preserve this document safely and also inform your nominees about the same. A copy of your proposal form and other relevant documents submitted by you is also enclosed for your information and record. Cancellation in the Free-Look Period: << In case you are not agreeable to any of the terms and conditions stated in the Policy, you have the option to return the Policy to us for cancellation stating the reasons thereof, within 30 days from the date of receipt of the Policy as your Policy is an electronic Policy / purchased through Distance Marketing mode. On receipt of your letter along with the original Policy (original Policy Document is not required for policies in dematerialised form), we shall arrange to refund the Premium paid by you, subject to deduction of the proportionate risk Premium for the period of cover and the expenses incurred by us for medical examination (if any) and stamp duty charges. / In case you are not agreeable to any of the terms and conditions stated in the Policy, you have the option to return the Policy to us for cancellation stating the reasons thereof, within 15 days from the date of receipt of the Policy. On receipt of your letter along with the original Policy (original Policy Document is not required for policies in dematerialised form), we shall arrange to refund the Premium paid by you, subject to deduction of the proportionate risk Premium for the period of cover and the expenses incurred by us for medical examination (if any) and stamp duty charges. >> Contacting us: The address for correspondence is specified below. To enable us to serve you better, you are requested to quote your Policy number in all future correspondence. In case you are keen to know more about our products and services, we would request you to talk to our Certified Financial Consultant (Insurance Agent) who has advised you while taking this Policy. The details of your Certified Financial Consultant including contact details are listed below. To contact us in case of any grievance, please refer to Part G. In case you are not satisfied with our response, you can also approach the Insurance Ombudsman in your region. Thanking you for choosing HDFC Life Insurance Company Limited and looking forward to serving you in the years ahead, Yours sincerely, << Designation of the Authorised Signatory >> Branch Address: <<Branch Address>> Agency/Intermediary Code: <<Agency/Intermediary Code>> Agency/Intermediary Name: <<Agency/Intermediary Name>> Agency/Intermediary Telephone Number: <<Agency/Intermediary mobile & landline number>>'"
      ]
     },
     "execution_count": 12,
     "metadata": {},
     "output_type": "execute_result"
    }
   ],
   "source": [
    "# Check one of the extracted page texts to ensure that the text has been correctly read\n",
    "\n",
    "insurance_pdfs_data.Page_Text[0]"
   ]
  },
  {
   "cell_type": "code",
   "execution_count": 13,
   "metadata": {
    "id": "a_8T6p99SPdW"
   },
   "outputs": [],
   "source": [
    "# Let's also check the length of all the texts as there might be some empty pages or pages with very few words that we can drop\n",
    "\n",
    "insurance_pdfs_data['Text_Length'] = insurance_pdfs_data['Page_Text'].apply(lambda x: len(x.split(' ')))"
   ]
  },
  {
   "cell_type": "code",
   "execution_count": 14,
   "metadata": {
    "colab": {
     "base_uri": "https://localhost:8080/"
    },
    "id": "uR12GmpRQAKd",
    "outputId": "5ae09742-0238-4b71-cb16-b71aae177d87"
   },
   "outputs": [
    {
     "data": {
      "text/plain": [
       "0      508\n",
       "1       85\n",
       "2      298\n",
       "3       63\n",
       "4      514\n",
       "      ... \n",
       "212    316\n",
       "213    353\n",
       "214    348\n",
       "215    496\n",
       "216    171\n",
       "Name: Text_Length, Length: 217, dtype: int64"
      ]
     },
     "execution_count": 14,
     "metadata": {},
     "output_type": "execute_result"
    }
   ],
   "source": [
    "insurance_pdfs_data['Text_Length']"
   ]
  },
  {
   "cell_type": "code",
   "execution_count": 15,
   "metadata": {
    "colab": {
     "base_uri": "https://localhost:8080/"
    },
    "id": "LMcvAxtwkdak",
    "outputId": "6174227b-dacb-4eca-f112-2c022c396024"
   },
   "outputs": [
    {
     "data": {
      "text/plain": [
       "994"
      ]
     },
     "execution_count": 15,
     "metadata": {},
     "output_type": "execute_result"
    }
   ],
   "source": [
    "max(insurance_pdfs_data['Text_Length'])"
   ]
  },
  {
   "cell_type": "code",
   "execution_count": 16,
   "metadata": {
    "colab": {
     "base_uri": "https://localhost:8080/"
    },
    "id": "fNng4Fk0kgZt",
    "outputId": "f14d5293-d9ab-4c83-b8de-23355cf58878"
   },
   "outputs": [
    {
     "data": {
      "text/plain": [
       "1"
      ]
     },
     "execution_count": 16,
     "metadata": {},
     "output_type": "execute_result"
    }
   ],
   "source": [
    "min(insurance_pdfs_data['Text_Length'])"
   ]
  },
  {
   "cell_type": "markdown",
   "metadata": {},
   "source": [
    "We computed the word count of each page's text (storing it in a new column `Text_Length`) and then retrieved the maximum and minimum values, helping us identify pages that are empty or have very few words.\n"
   ]
  },
  {
   "cell_type": "code",
   "execution_count": 17,
   "metadata": {
    "colab": {
     "base_uri": "https://localhost:8080/",
     "height": 423
    },
    "id": "DVRklQV5QC6o",
    "outputId": "e15ddbac-a372-4f62-e878-777ebf5f9ac3"
   },
   "outputs": [
    {
     "data": {
      "text/html": [
       "<div>\n",
       "<style scoped>\n",
       "    .dataframe tbody tr th:only-of-type {\n",
       "        vertical-align: middle;\n",
       "    }\n",
       "\n",
       "    .dataframe tbody tr th {\n",
       "        vertical-align: top;\n",
       "    }\n",
       "\n",
       "    .dataframe thead th {\n",
       "        text-align: right;\n",
       "    }\n",
       "</style>\n",
       "<table border=\"1\" class=\"dataframe\">\n",
       "  <thead>\n",
       "    <tr style=\"text-align: right;\">\n",
       "      <th></th>\n",
       "      <th>Page No.</th>\n",
       "      <th>Page_Text</th>\n",
       "      <th>Document Name</th>\n",
       "      <th>Text_Length</th>\n",
       "    </tr>\n",
       "  </thead>\n",
       "  <tbody>\n",
       "    <tr>\n",
       "      <th>0</th>\n",
       "      <td>Page 1</td>\n",
       "      <td>Part A &lt;&lt;Date&gt;&gt; &lt;&lt;Policyholder’s Name&gt;&gt; &lt;&lt;Poli...</td>\n",
       "      <td>HDFC-Life-Easy-Health-101N110V03-Policy-Bond-S...</td>\n",
       "      <td>508</td>\n",
       "    </tr>\n",
       "    <tr>\n",
       "      <th>1</th>\n",
       "      <td>Page 2</td>\n",
       "      <td>Agency/Intermediary Contact Details: &lt;&lt;Agency/...</td>\n",
       "      <td>HDFC-Life-Easy-Health-101N110V03-Policy-Bond-S...</td>\n",
       "      <td>85</td>\n",
       "    </tr>\n",
       "    <tr>\n",
       "      <th>2</th>\n",
       "      <td>Page 3</td>\n",
       "      <td>POLICY DOCUMENT- HDFC LIFE EASY HEALTH Unique ...</td>\n",
       "      <td>HDFC-Life-Easy-Health-101N110V03-Policy-Bond-S...</td>\n",
       "      <td>298</td>\n",
       "    </tr>\n",
       "    <tr>\n",
       "      <th>3</th>\n",
       "      <td>Page 4</td>\n",
       "      <td>[[null, \"&lt;&lt; dd/mm/yyyy &gt;&gt;\"], [\"Appointee's Add...</td>\n",
       "      <td>HDFC-Life-Easy-Health-101N110V03-Policy-Bond-S...</td>\n",
       "      <td>63</td>\n",
       "    </tr>\n",
       "    <tr>\n",
       "      <th>4</th>\n",
       "      <td>Page 5</td>\n",
       "      <td>Part B Definitions The following capitalised t...</td>\n",
       "      <td>HDFC-Life-Easy-Health-101N110V03-Policy-Bond-S...</td>\n",
       "      <td>514</td>\n",
       "    </tr>\n",
       "    <tr>\n",
       "      <th>...</th>\n",
       "      <td>...</td>\n",
       "      <td>...</td>\n",
       "      <td>...</td>\n",
       "      <td>...</td>\n",
       "    </tr>\n",
       "    <tr>\n",
       "      <th>212</th>\n",
       "      <td>Page 11</td>\n",
       "      <td>HDFC Standard Life Insurance Company Limited H...</td>\n",
       "      <td>HDFC-Surgicare-Plan-101N043V01.pdf</td>\n",
       "      <td>316</td>\n",
       "    </tr>\n",
       "    <tr>\n",
       "      <th>213</th>\n",
       "      <td>Page 12</td>\n",
       "      <td>HDFC Standard Life Insurance Company Limited H...</td>\n",
       "      <td>HDFC-Surgicare-Plan-101N043V01.pdf</td>\n",
       "      <td>353</td>\n",
       "    </tr>\n",
       "    <tr>\n",
       "      <th>214</th>\n",
       "      <td>Page 13</td>\n",
       "      <td>HDFC Standard Life Insurance Company Limited H...</td>\n",
       "      <td>HDFC-Surgicare-Plan-101N043V01.pdf</td>\n",
       "      <td>348</td>\n",
       "    </tr>\n",
       "    <tr>\n",
       "      <th>215</th>\n",
       "      <td>Page 14</td>\n",
       "      <td>HDFC Standard Life Insurance Company Limited H...</td>\n",
       "      <td>HDFC-Surgicare-Plan-101N043V01.pdf</td>\n",
       "      <td>496</td>\n",
       "    </tr>\n",
       "    <tr>\n",
       "      <th>216</th>\n",
       "      <td>Page 15</td>\n",
       "      <td>HDFC Standard Life Insurance Company Limited H...</td>\n",
       "      <td>HDFC-Surgicare-Plan-101N043V01.pdf</td>\n",
       "      <td>171</td>\n",
       "    </tr>\n",
       "  </tbody>\n",
       "</table>\n",
       "<p>210 rows × 4 columns</p>\n",
       "</div>"
      ],
      "text/plain": [
       "    Page No.                                          Page_Text  \\\n",
       "0     Page 1  Part A <<Date>> <<Policyholder’s Name>> <<Poli...   \n",
       "1     Page 2  Agency/Intermediary Contact Details: <<Agency/...   \n",
       "2     Page 3  POLICY DOCUMENT- HDFC LIFE EASY HEALTH Unique ...   \n",
       "3     Page 4  [[null, \"<< dd/mm/yyyy >>\"], [\"Appointee's Add...   \n",
       "4     Page 5  Part B Definitions The following capitalised t...   \n",
       "..       ...                                                ...   \n",
       "212  Page 11  HDFC Standard Life Insurance Company Limited H...   \n",
       "213  Page 12  HDFC Standard Life Insurance Company Limited H...   \n",
       "214  Page 13  HDFC Standard Life Insurance Company Limited H...   \n",
       "215  Page 14  HDFC Standard Life Insurance Company Limited H...   \n",
       "216  Page 15  HDFC Standard Life Insurance Company Limited H...   \n",
       "\n",
       "                                         Document Name  Text_Length  \n",
       "0    HDFC-Life-Easy-Health-101N110V03-Policy-Bond-S...          508  \n",
       "1    HDFC-Life-Easy-Health-101N110V03-Policy-Bond-S...           85  \n",
       "2    HDFC-Life-Easy-Health-101N110V03-Policy-Bond-S...          298  \n",
       "3    HDFC-Life-Easy-Health-101N110V03-Policy-Bond-S...           63  \n",
       "4    HDFC-Life-Easy-Health-101N110V03-Policy-Bond-S...          514  \n",
       "..                                                 ...          ...  \n",
       "212                 HDFC-Surgicare-Plan-101N043V01.pdf          316  \n",
       "213                 HDFC-Surgicare-Plan-101N043V01.pdf          353  \n",
       "214                 HDFC-Surgicare-Plan-101N043V01.pdf          348  \n",
       "215                 HDFC-Surgicare-Plan-101N043V01.pdf          496  \n",
       "216                 HDFC-Surgicare-Plan-101N043V01.pdf          171  \n",
       "\n",
       "[210 rows x 4 columns]"
      ]
     },
     "execution_count": 17,
     "metadata": {},
     "output_type": "execute_result"
    }
   ],
   "source": [
    "# Retain only the rows with a text length of at least 10\n",
    "\n",
    "insurance_pdfs_data = insurance_pdfs_data.loc[insurance_pdfs_data['Text_Length'] >= 10]\n",
    "insurance_pdfs_data"
   ]
  },
  {
   "cell_type": "markdown",
   "metadata": {},
   "source": [
    "Now, we will create a new column called `Metadata` where each row stores a dictionary with the policy name (derived from the document name by removing the \".pdf\" extension) and the page number.\n"
   ]
  },
  {
   "cell_type": "code",
   "execution_count": 18,
   "metadata": {
    "colab": {
     "base_uri": "https://localhost:8080/"
    },
    "id": "9yuq3eOOxfkK",
    "outputId": "6f184f81-f638-4742-c1d5-af51e0358b9e"
   },
   "outputs": [
    {
     "name": "stderr",
     "output_type": "stream",
     "text": [
      "C:\\Users\\ally0\\AppData\\Local\\Temp\\ipykernel_34568\\3800829176.py:3: SettingWithCopyWarning: \n",
      "A value is trying to be set on a copy of a slice from a DataFrame.\n",
      "Try using .loc[row_indexer,col_indexer] = value instead\n",
      "\n",
      "See the caveats in the documentation: https://pandas.pydata.org/pandas-docs/stable/user_guide/indexing.html#returning-a-view-versus-a-copy\n",
      "  insurance_pdfs_data['Metadata'] = insurance_pdfs_data.apply(lambda x: {'Policy_Name': x['Document Name'][:-4], 'Page_No.': x['Page No.']}, axis=1) # [:-4]=> .pdf\n"
     ]
    }
   ],
   "source": [
    "# Store the metadata for each page in a separate column\n",
    "\n",
    "insurance_pdfs_data['Metadata'] = insurance_pdfs_data.apply(lambda x: {'Policy_Name': x['Document Name'][:-4], 'Page_No.': x['Page No.']}, axis=1) # [:-4]=> .pdf"
   ]
  },
  {
   "cell_type": "code",
   "execution_count": 19,
   "metadata": {
    "colab": {
     "base_uri": "https://localhost:8080/",
     "height": 423
    },
    "id": "2UTsH2QuQmpW",
    "outputId": "bce1da63-263e-4d87-e0d3-c80258705ef2"
   },
   "outputs": [
    {
     "data": {
      "text/html": [
       "<div>\n",
       "<style scoped>\n",
       "    .dataframe tbody tr th:only-of-type {\n",
       "        vertical-align: middle;\n",
       "    }\n",
       "\n",
       "    .dataframe tbody tr th {\n",
       "        vertical-align: top;\n",
       "    }\n",
       "\n",
       "    .dataframe thead th {\n",
       "        text-align: right;\n",
       "    }\n",
       "</style>\n",
       "<table border=\"1\" class=\"dataframe\">\n",
       "  <thead>\n",
       "    <tr style=\"text-align: right;\">\n",
       "      <th></th>\n",
       "      <th>Page No.</th>\n",
       "      <th>Page_Text</th>\n",
       "      <th>Document Name</th>\n",
       "      <th>Text_Length</th>\n",
       "      <th>Metadata</th>\n",
       "    </tr>\n",
       "  </thead>\n",
       "  <tbody>\n",
       "    <tr>\n",
       "      <th>0</th>\n",
       "      <td>Page 1</td>\n",
       "      <td>Part A &lt;&lt;Date&gt;&gt; &lt;&lt;Policyholder’s Name&gt;&gt; &lt;&lt;Poli...</td>\n",
       "      <td>HDFC-Life-Easy-Health-101N110V03-Policy-Bond-S...</td>\n",
       "      <td>508</td>\n",
       "      <td>{'Policy_Name': 'HDFC-Life-Easy-Health-101N110...</td>\n",
       "    </tr>\n",
       "    <tr>\n",
       "      <th>1</th>\n",
       "      <td>Page 2</td>\n",
       "      <td>Agency/Intermediary Contact Details: &lt;&lt;Agency/...</td>\n",
       "      <td>HDFC-Life-Easy-Health-101N110V03-Policy-Bond-S...</td>\n",
       "      <td>85</td>\n",
       "      <td>{'Policy_Name': 'HDFC-Life-Easy-Health-101N110...</td>\n",
       "    </tr>\n",
       "    <tr>\n",
       "      <th>2</th>\n",
       "      <td>Page 3</td>\n",
       "      <td>POLICY DOCUMENT- HDFC LIFE EASY HEALTH Unique ...</td>\n",
       "      <td>HDFC-Life-Easy-Health-101N110V03-Policy-Bond-S...</td>\n",
       "      <td>298</td>\n",
       "      <td>{'Policy_Name': 'HDFC-Life-Easy-Health-101N110...</td>\n",
       "    </tr>\n",
       "    <tr>\n",
       "      <th>3</th>\n",
       "      <td>Page 4</td>\n",
       "      <td>[[null, \"&lt;&lt; dd/mm/yyyy &gt;&gt;\"], [\"Appointee's Add...</td>\n",
       "      <td>HDFC-Life-Easy-Health-101N110V03-Policy-Bond-S...</td>\n",
       "      <td>63</td>\n",
       "      <td>{'Policy_Name': 'HDFC-Life-Easy-Health-101N110...</td>\n",
       "    </tr>\n",
       "    <tr>\n",
       "      <th>4</th>\n",
       "      <td>Page 5</td>\n",
       "      <td>Part B Definitions The following capitalised t...</td>\n",
       "      <td>HDFC-Life-Easy-Health-101N110V03-Policy-Bond-S...</td>\n",
       "      <td>514</td>\n",
       "      <td>{'Policy_Name': 'HDFC-Life-Easy-Health-101N110...</td>\n",
       "    </tr>\n",
       "    <tr>\n",
       "      <th>...</th>\n",
       "      <td>...</td>\n",
       "      <td>...</td>\n",
       "      <td>...</td>\n",
       "      <td>...</td>\n",
       "      <td>...</td>\n",
       "    </tr>\n",
       "    <tr>\n",
       "      <th>212</th>\n",
       "      <td>Page 11</td>\n",
       "      <td>HDFC Standard Life Insurance Company Limited H...</td>\n",
       "      <td>HDFC-Surgicare-Plan-101N043V01.pdf</td>\n",
       "      <td>316</td>\n",
       "      <td>{'Policy_Name': 'HDFC-Surgicare-Plan-101N043V0...</td>\n",
       "    </tr>\n",
       "    <tr>\n",
       "      <th>213</th>\n",
       "      <td>Page 12</td>\n",
       "      <td>HDFC Standard Life Insurance Company Limited H...</td>\n",
       "      <td>HDFC-Surgicare-Plan-101N043V01.pdf</td>\n",
       "      <td>353</td>\n",
       "      <td>{'Policy_Name': 'HDFC-Surgicare-Plan-101N043V0...</td>\n",
       "    </tr>\n",
       "    <tr>\n",
       "      <th>214</th>\n",
       "      <td>Page 13</td>\n",
       "      <td>HDFC Standard Life Insurance Company Limited H...</td>\n",
       "      <td>HDFC-Surgicare-Plan-101N043V01.pdf</td>\n",
       "      <td>348</td>\n",
       "      <td>{'Policy_Name': 'HDFC-Surgicare-Plan-101N043V0...</td>\n",
       "    </tr>\n",
       "    <tr>\n",
       "      <th>215</th>\n",
       "      <td>Page 14</td>\n",
       "      <td>HDFC Standard Life Insurance Company Limited H...</td>\n",
       "      <td>HDFC-Surgicare-Plan-101N043V01.pdf</td>\n",
       "      <td>496</td>\n",
       "      <td>{'Policy_Name': 'HDFC-Surgicare-Plan-101N043V0...</td>\n",
       "    </tr>\n",
       "    <tr>\n",
       "      <th>216</th>\n",
       "      <td>Page 15</td>\n",
       "      <td>HDFC Standard Life Insurance Company Limited H...</td>\n",
       "      <td>HDFC-Surgicare-Plan-101N043V01.pdf</td>\n",
       "      <td>171</td>\n",
       "      <td>{'Policy_Name': 'HDFC-Surgicare-Plan-101N043V0...</td>\n",
       "    </tr>\n",
       "  </tbody>\n",
       "</table>\n",
       "<p>210 rows × 5 columns</p>\n",
       "</div>"
      ],
      "text/plain": [
       "    Page No.                                          Page_Text  \\\n",
       "0     Page 1  Part A <<Date>> <<Policyholder’s Name>> <<Poli...   \n",
       "1     Page 2  Agency/Intermediary Contact Details: <<Agency/...   \n",
       "2     Page 3  POLICY DOCUMENT- HDFC LIFE EASY HEALTH Unique ...   \n",
       "3     Page 4  [[null, \"<< dd/mm/yyyy >>\"], [\"Appointee's Add...   \n",
       "4     Page 5  Part B Definitions The following capitalised t...   \n",
       "..       ...                                                ...   \n",
       "212  Page 11  HDFC Standard Life Insurance Company Limited H...   \n",
       "213  Page 12  HDFC Standard Life Insurance Company Limited H...   \n",
       "214  Page 13  HDFC Standard Life Insurance Company Limited H...   \n",
       "215  Page 14  HDFC Standard Life Insurance Company Limited H...   \n",
       "216  Page 15  HDFC Standard Life Insurance Company Limited H...   \n",
       "\n",
       "                                         Document Name  Text_Length  \\\n",
       "0    HDFC-Life-Easy-Health-101N110V03-Policy-Bond-S...          508   \n",
       "1    HDFC-Life-Easy-Health-101N110V03-Policy-Bond-S...           85   \n",
       "2    HDFC-Life-Easy-Health-101N110V03-Policy-Bond-S...          298   \n",
       "3    HDFC-Life-Easy-Health-101N110V03-Policy-Bond-S...           63   \n",
       "4    HDFC-Life-Easy-Health-101N110V03-Policy-Bond-S...          514   \n",
       "..                                                 ...          ...   \n",
       "212                 HDFC-Surgicare-Plan-101N043V01.pdf          316   \n",
       "213                 HDFC-Surgicare-Plan-101N043V01.pdf          353   \n",
       "214                 HDFC-Surgicare-Plan-101N043V01.pdf          348   \n",
       "215                 HDFC-Surgicare-Plan-101N043V01.pdf          496   \n",
       "216                 HDFC-Surgicare-Plan-101N043V01.pdf          171   \n",
       "\n",
       "                                              Metadata  \n",
       "0    {'Policy_Name': 'HDFC-Life-Easy-Health-101N110...  \n",
       "1    {'Policy_Name': 'HDFC-Life-Easy-Health-101N110...  \n",
       "2    {'Policy_Name': 'HDFC-Life-Easy-Health-101N110...  \n",
       "3    {'Policy_Name': 'HDFC-Life-Easy-Health-101N110...  \n",
       "4    {'Policy_Name': 'HDFC-Life-Easy-Health-101N110...  \n",
       "..                                                 ...  \n",
       "212  {'Policy_Name': 'HDFC-Surgicare-Plan-101N043V0...  \n",
       "213  {'Policy_Name': 'HDFC-Surgicare-Plan-101N043V0...  \n",
       "214  {'Policy_Name': 'HDFC-Surgicare-Plan-101N043V0...  \n",
       "215  {'Policy_Name': 'HDFC-Surgicare-Plan-101N043V0...  \n",
       "216  {'Policy_Name': 'HDFC-Surgicare-Plan-101N043V0...  \n",
       "\n",
       "[210 rows x 5 columns]"
      ]
     },
     "execution_count": 19,
     "metadata": {},
     "output_type": "execute_result"
    }
   ],
   "source": [
    "insurance_pdfs_data"
   ]
  },
  {
   "cell_type": "markdown",
   "metadata": {
    "id": "fBXNi-coqppd"
   },
   "source": [
    "This concludes the chunking aspect also, as we can see that mostly the pages contain few hundred words, maximum going upto 1000. So, we don't need to chunk the documents further; we can perform the embeddings on individual pages. This strategy makes sense for 2 reasons:\n",
    "1. The way insurance documents are generally structured, you will not have a lot of extraneous information in a page, and all the text pieces in that page will likely be interrelated.\n",
    "2. We want to have larger chunk sizes to be able to pass appropriate context to the LLM during the generation layer."
   ]
  },
  {
   "cell_type": "markdown",
   "metadata": {
    "id": "oygx9b2VzqIX"
   },
   "source": [
    "## 3. Generate and Store Embeddings using OpenAI and ChromaDB\n",
    "\n",
    "In this section, we will embed the pages in the dataframe through OpenAI's `text-embedding-ada-002` model, and store them in a ChromaDB collection."
   ]
  },
  {
   "cell_type": "code",
   "execution_count": 20,
   "metadata": {
    "id": "g71qkKV9yUps"
   },
   "outputs": [],
   "source": [
    "# Set the API key\n",
    "\n",
    "filepath = r\"C:\\FromOneDrive\\Documents\\Upgrad\\05_Generative_AI\\M7_HelpMate_AI_Project_DL\\1_Main\\\\\"\n",
    "\n",
    "with open(filepath + \"OpenAI_API_Key.txt\", \"r\") as f:\n",
    "  openai.api_key = ' '.join(f.readlines())"
   ]
  },
  {
   "cell_type": "code",
   "execution_count": 21,
   "metadata": {
    "id": "77AYVNHyW1-d"
   },
   "outputs": [],
   "source": [
    "# Import the OpenAI Embedding Function into chroma\n",
    "\n",
    "from chromadb.utils.embedding_functions import OpenAIEmbeddingFunction"
   ]
  },
  {
   "cell_type": "code",
   "execution_count": 22,
   "metadata": {
    "id": "Pt8q5-CsHEod"
   },
   "outputs": [],
   "source": [
    "# Define the path where chroma collections will be stored\n",
    "\n",
    "chroma_data_path = r\"C:\\FromOneDrive\\Documents\\Upgrad\\05_Generative_AI\\M7_HelpMate_AI_Project_DL\\ChromaDB2\"  #set the path for chromadb"
   ]
  },
  {
   "cell_type": "code",
   "execution_count": 23,
   "metadata": {
    "id": "F1UhnaZBKHn1"
   },
   "outputs": [],
   "source": [
    "import chromadb"
   ]
  },
  {
   "cell_type": "markdown",
   "metadata": {},
   "source": [
    "We could set up our OpenAI API key by reading it from a file, imported the OpenAI embedding function for ChromaDB, defined a storage path for our Chroma collections, now let's initialize a persistent ChromaDB client for managing our embeddings.\n"
   ]
  },
  {
   "cell_type": "code",
   "execution_count": 24,
   "metadata": {
    "id": "Yly1EUXgyiOK"
   },
   "outputs": [],
   "source": [
    "# Call PersistentClient()\n",
    "\n",
    "client = chromadb.PersistentClient()"
   ]
  },
  {
   "cell_type": "markdown",
   "metadata": {},
   "source": [
    "The following blocks of code sets up and uses an embedding function with OpenAI's \"text-embedding-ada-002\" model to embed our insurance documents and manage them in a persistent ChromaDB collection:\n",
    "\n",
    "- **Embedding Function Setup:**  \n",
    "  We configure the embedding function using OpenAI's model (which supports 8191 tokens and outputs 1536-dimensional embeddings) and initialize it via `OpenAIEmbeddingFunction` with our API key.\n",
    "\n",
    "- **ChromaDB Collection Initialization:**  \n",
    "  We either get or create a collection named 'RAG_on_Insurance' in ChromaDB, passing our embedding function so that documents are embedded with OpenAI embeddings.\n",
    "\n",
    "- **Document Preparation:**  \n",
    "  We convert the page texts and metadata from our DataFrame into lists, then retrieve existing document IDs from the Chroma collection.\n",
    "\n",
    "- **Filtering and Adding New Documents:**  \n",
    "  We loop through our documents, filter out those with IDs already present in ChromaDB, and add only the new ones (along with their metadata and IDs) to the collection.\n",
    "\n",
    "- **Verification:**  \n",
    "  Finally, we fetch and print the existing IDs from the collection and the IDs of the new documents being added, ensuring our collection remains up-to-date.\n"
   ]
  },
  {
   "cell_type": "code",
   "execution_count": 25,
   "metadata": {
    "id": "_1Kyb47vyzzA"
   },
   "outputs": [],
   "source": [
    "# Set up the embedding function using the OpenAI embedding model\n",
    "\n",
    "model = \"text-embedding-ada-002\" #8191 tokens, 1536 dimentions\n",
    "embedding_function = OpenAIEmbeddingFunction(api_key=openai.api_key, model_name=model)"
   ]
  },
  {
   "cell_type": "code",
   "execution_count": 26,
   "metadata": {
    "id": "MLyU_G-myrPe"
   },
   "outputs": [],
   "source": [
    "# Initialise a collection in chroma and pass the embedding_function to it so that it used OpenAI embeddings to embed the documents\n",
    "\n",
    "insurance_collection = client.get_or_create_collection(name='RAG_on_Insurance', embedding_function=embedding_function)"
   ]
  },
  {
   "cell_type": "code",
   "execution_count": 27,
   "metadata": {},
   "outputs": [],
   "source": [
    "#Check Existing IDs in ChromaDB\n",
    "\n",
    "existing_ids = set(insurance_collection.get()['ids'])  # Fetch existing IDs\n"
   ]
  },
  {
   "cell_type": "code",
   "execution_count": 28,
   "metadata": {
    "id": "_d_jop5hcaQI"
   },
   "outputs": [],
   "source": [
    "# Convert the page text and metadata from your dataframe to lists to be able to pass it to chroma\n",
    "\n",
    "documents_list = insurance_pdfs_data[\"Page_Text\"].tolist()\n",
    "metadata_list = insurance_pdfs_data['Metadata'].tolist()"
   ]
  },
  {
   "cell_type": "code",
   "execution_count": 29,
   "metadata": {},
   "outputs": [
    {
     "name": "stdout",
     "output_type": "stream",
     "text": [
      "No new documents to add.\n"
     ]
    }
   ],
   "source": [
    "\n",
    "#Filter Out Existing IDs\n",
    "\n",
    "# Get existing IDs in the ChromaDB collection\n",
    "existing_ids = set(insurance_collection.get()['ids'])\n",
    "\n",
    "# Create filtered lists for only new documents\n",
    "new_documents = []\n",
    "new_metadata = []\n",
    "new_ids = []\n",
    "\n",
    "for i, doc in enumerate(documents_list):\n",
    "    doc_id = str(i)\n",
    "    if doc_id not in existing_ids:\n",
    "        new_documents.append(doc)\n",
    "        new_metadata.append(metadata_list[i])\n",
    "        new_ids.append(doc_id)\n",
    "\n",
    "# Only add if there are new documents\n",
    "if new_documents:\n",
    "    insurance_collection.add(\n",
    "        documents=new_documents,\n",
    "        ids=new_ids,\n",
    "        metadatas=new_metadata\n",
    "    )\n",
    "else:\n",
    "    print(\"No new documents to add.\")\n"
   ]
  },
  {
   "cell_type": "code",
   "execution_count": 30,
   "metadata": {},
   "outputs": [
    {
     "name": "stdout",
     "output_type": "stream",
     "text": [
      "Existing IDs in ChromaDB: {'185', '149', '171', '137', '143', '81', 'HDFC-Life-Easy-Health-101N110V03-Policy-Bond-Single-Pay_Page_Page 30', '141', 'HDFC-Life-Sanchay-Plus-Life-Long-Income-Option-101N134V19-Policy-Document_Page_Page 10', 'HDFC-Life-Easy-Health-101N110V03-Policy-Bond-Single-Pay_Page_Page 31', 'HDFC-Life-Smart-Pension-Plan-Policy-Document-Online_Page_Page 31', '65', 'HDFC-Life-Smart-Pension-Plan-Policy-Document-Online_Page_Page 20', 'HDFC-Life-Group-Poorna-Suraksha-101N137V02-Policy-Document_Page_Page 19', 'HDFC-Life-Easy-Health-101N110V03-Policy-Bond-Single-Pay_Page_Page 28', 'HDFC-Life-Group-Term-Life-Policy_Page_Page 25', 'HDFC-Life-Group-Term-Life-Policy_Page_Page 30', '116', 'HDFC-Life-Group-Poorna-Suraksha-101N137V02-Policy-Document_Page_Page 17', '26', '195', 'HDFC-Life-Easy-Health-101N110V03-Policy-Bond-Single-Pay_Page_Page 18', '19', 'HDFC-Life-Sampoorna-Jeevan-101N158V04-Policy-Document (1)_Page_Page 22', '91', '99', '200', 'HDFC-Life-Easy-Health-101N110V03-Policy-Bond-Single-Pay_Page_Page 32', '68', '202', '111', '114', '119', '203', 'HDFC-Life-Sanchay-Plus-Life-Long-Income-Option-101N134V19-Policy-Document_Page_Page 19', '162', 'HDFC-Life-Easy-Health-101N110V03-Policy-Bond-Single-Pay_Page_Page 21', '177', '154', 'HDFC-Life-Group-Term-Life-Policy_Page_Page 4', '45', 'HDFC-Life-Sampoorna-Jeevan-101N158V04-Policy-Document (1)_Page_Page 9', '170', 'HDFC-Life-Smart-Pension-Plan-Policy-Document-Online_Page_Page 28', 'HDFC-Life-Easy-Health-101N110V03-Policy-Bond-Single-Pay_Page_Page 11', 'HDFC-Life-Sampoorna-Jeevan-101N158V04-Policy-Document (1)_Page_Page 19', '129', '174', 'HDFC-Life-Group-Poorna-Suraksha-101N137V02-Policy-Document_Page_Page 24', 'HDFC-Life-Sampoorna-Jeevan-101N158V04-Policy-Document (1)_Page_Page 33', '77', 'HDFC-Life-Easy-Health-101N110V03-Policy-Bond-Single-Pay_Page_Page 19', '142', 'HDFC-Surgicare-Plan-101N043V01_Page_Page 3', '105', 'HDFC-Life-Smart-Pension-Plan-Policy-Document-Online_Page_Page 4', 'HDFC-Life-Group-Term-Life-Policy_Page_Page 7', 'HDFC-Life-Group-Term-Life-Policy_Page_Page 9', '160', 'HDFC-Life-Sampoorna-Jeevan-101N158V04-Policy-Document (1)_Page_Page 24', 'HDFC-Life-Sanchay-Plus-Life-Long-Income-Option-101N134V19-Policy-Document_Page_Page 15', '108', '120', 'HDFC-Life-Easy-Health-101N110V03-Policy-Bond-Single-Pay_Page_Page 16', '104', 'HDFC-Life-Smart-Pension-Plan-Policy-Document-Online_Page_Page 25', '139', '32', 'HDFC-Life-Group-Poorna-Suraksha-101N137V02-Policy-Document_Page_Page 23', 'HDFC-Surgicare-Plan-101N043V01_Page_Page 13', 'HDFC-Life-Sampoorna-Jeevan-101N158V04-Policy-Document (1)_Page_Page 7', 'HDFC-Life-Smart-Pension-Plan-Policy-Document-Online_Page_Page 8', '9', '30', '38', 'HDFC-Life-Sampoorna-Jeevan-101N158V04-Policy-Document (1)_Page_Page 32', '85', 'HDFC-Life-Group-Term-Life-Policy_Page_Page 2', '21', '190', 'HDFC-Life-Sampoorna-Jeevan-101N158V04-Policy-Document (1)_Page_Page 31', 'HDFC-Life-Group-Poorna-Suraksha-101N137V02-Policy-Document_Page_Page 9', 'HDFC-Life-Sampoorna-Jeevan-101N158V04-Policy-Document (1)_Page_Page 3', '94', '47', '159', '167', 'HDFC-Life-Easy-Health-101N110V03-Policy-Bond-Single-Pay_Page_Page 15', 'HDFC-Life-Sanchay-Plus-Life-Long-Income-Option-101N134V19-Policy-Document_Page_Page 22', 'HDFC-Life-Group-Term-Life-Policy_Page_Page 24', 'HDFC-Life-Sanchay-Plus-Life-Long-Income-Option-101N134V19-Policy-Document_Page_Page 24', 'HDFC-Life-Group-Poorna-Suraksha-101N137V02-Policy-Document_Page_Page 1', 'HDFC-Life-Group-Poorna-Suraksha-101N137V02-Policy-Document_Page_Page 10', '205', 'HDFC-Life-Smart-Pension-Plan-Policy-Document-Online_Page_Page 13', 'HDFC-Life-Sampoorna-Jeevan-101N158V04-Policy-Document (1)_Page_Page 4', '166', 'HDFC-Life-Smart-Pension-Plan-Policy-Document-Online_Page_Page 34', 'HDFC-Life-Sanchay-Plus-Life-Long-Income-Option-101N134V19-Policy-Document_Page_Page 4', '115', 'HDFC-Life-Easy-Health-101N110V03-Policy-Bond-Single-Pay_Page_Page 25', '42', 'HDFC-Life-Group-Poorna-Suraksha-101N137V02-Policy-Document_Page_Page 27', '169', '187', 'HDFC-Life-Sanchay-Plus-Life-Long-Income-Option-101N134V19-Policy-Document_Page_Page 12', 'HDFC-Life-Group-Poorna-Suraksha-101N137V02-Policy-Document_Page_Page 5', 'HDFC-Life-Sanchay-Plus-Life-Long-Income-Option-101N134V19-Policy-Document_Page_Page 21', '184', '56', 'HDFC-Life-Group-Term-Life-Policy_Page_Page 20', '64', '155', 'HDFC-Life-Sanchay-Plus-Life-Long-Income-Option-101N134V19-Policy-Document_Page_Page 20', '138', 'HDFC-Life-Smart-Pension-Plan-Policy-Document-Online_Page_Page 14', '153', '1', '204', 'HDFC-Life-Sanchay-Plus-Life-Long-Income-Option-101N134V19-Policy-Document_Page_Page 9', '122', '46', '8', 'HDFC-Life-Group-Term-Life-Policy_Page_Page 26', '181', 'HDFC-Life-Sampoorna-Jeevan-101N158V04-Policy-Document (1)_Page_Page 30', 'HDFC-Life-Sampoorna-Jeevan-101N158V04-Policy-Document (1)_Page_Page 18', '100', 'HDFC-Life-Group-Poorna-Suraksha-101N137V02-Policy-Document_Page_Page 14', '60', 'HDFC-Life-Group-Term-Life-Policy_Page_Page 29', '62', 'HDFC-Life-Sampoorna-Jeevan-101N158V04-Policy-Document (1)_Page_Page 10', 'HDFC-Life-Sampoorna-Jeevan-101N158V04-Policy-Document (1)_Page_Page 21', 'HDFC-Life-Smart-Pension-Plan-Policy-Document-Online_Page_Page 12', '29', '182', '57', '147', '35', 'HDFC-Life-Sampoorna-Jeevan-101N158V04-Policy-Document (1)_Page_Page 35', '110', '130', '152', '10', '93', 'HDFC-Life-Smart-Pension-Plan-Policy-Document-Online_Page_Page 18', '20', 'HDFC-Life-Easy-Health-101N110V03-Policy-Bond-Single-Pay_Page_Page 23', 'HDFC-Life-Group-Term-Life-Policy_Page_Page 28', '66', 'HDFC-Life-Easy-Health-101N110V03-Policy-Bond-Single-Pay_Page_Page 6', '208', 'HDFC-Life-Group-Term-Life-Policy_Page_Page 14', '72', 'HDFC-Life-Easy-Health-101N110V03-Policy-Bond-Single-Pay_Page_Page 3', '92', 'HDFC-Surgicare-Plan-101N043V01_Page_Page 4', '164', 'HDFC-Life-Sampoorna-Jeevan-101N158V04-Policy-Document (1)_Page_Page 20', '197', 'HDFC-Life-Sampoorna-Jeevan-101N158V04-Policy-Document (1)_Page_Page 36', 'HDFC-Life-Smart-Pension-Plan-Policy-Document-Online_Page_Page 22', 'HDFC-Life-Easy-Health-101N110V03-Policy-Bond-Single-Pay_Page_Page 9', '135', 'HDFC-Surgicare-Plan-101N043V01_Page_Page 2', 'HDFC-Surgicare-Plan-101N043V01_Page_Page 1', '71', 'HDFC-Life-Group-Poorna-Suraksha-101N137V02-Policy-Document_Page_Page 7', 'HDFC-Life-Group-Term-Life-Policy_Page_Page 6', '163', '74', 'HDFC-Life-Sampoorna-Jeevan-101N158V04-Policy-Document (1)_Page_Page 15', 'HDFC-Life-Group-Term-Life-Policy_Page_Page 8', '176', 'HDFC-Life-Smart-Pension-Plan-Policy-Document-Online_Page_Page 37', 'HDFC-Life-Sampoorna-Jeevan-101N158V04-Policy-Document (1)_Page_Page 8', 'HDFC-Life-Group-Term-Life-Policy_Page_Page 3', 'HDFC-Life-Easy-Health-101N110V03-Policy-Bond-Single-Pay_Page_Page 5', '78', 'HDFC-Life-Group-Term-Life-Policy_Page_Page 22', 'HDFC-Life-Group-Term-Life-Policy_Page_Page 19', 'HDFC-Life-Sanchay-Plus-Life-Long-Income-Option-101N134V19-Policy-Document_Page_Page 2', 'HDFC-Life-Sanchay-Plus-Life-Long-Income-Option-101N134V19-Policy-Document_Page_Page 27', '50', '95', 'HDFC-Life-Group-Term-Life-Policy_Page_Page 1', 'HDFC-Life-Sanchay-Plus-Life-Long-Income-Option-101N134V19-Policy-Document_Page_Page 5', 'HDFC-Life-Sanchay-Plus-Life-Long-Income-Option-101N134V19-Policy-Document_Page_Page 26', 'HDFC-Life-Sampoorna-Jeevan-101N158V04-Policy-Document (1)_Page_Page 12', '183', '209', '145', '126', 'HDFC-Life-Sampoorna-Jeevan-101N158V04-Policy-Document (1)_Page_Page 25', 'HDFC-Life-Group-Term-Life-Policy_Page_Page 16', '117', '58', 'HDFC-Life-Group-Poorna-Suraksha-101N137V02-Policy-Document_Page_Page 22', 'HDFC-Life-Group-Poorna-Suraksha-101N137V02-Policy-Document_Page_Page 25', '168', 'HDFC-Life-Group-Term-Life-Policy_Page_Page 10', '11', '70', 'HDFC-Life-Group-Poorna-Suraksha-101N137V02-Policy-Document_Page_Page 18', '106', 'HDFC-Life-Group-Term-Life-Policy_Page_Page 18', 'HDFC-Life-Sanchay-Plus-Life-Long-Income-Option-101N134V19-Policy-Document_Page_Page 1', 'HDFC-Life-Sanchay-Plus-Life-Long-Income-Option-101N134V19-Policy-Document_Page_Page 8', 'HDFC-Life-Group-Term-Life-Policy_Page_Page 5', '188', '43', 'HDFC-Life-Easy-Health-101N110V03-Policy-Bond-Single-Pay_Page_Page 10', 'HDFC-Life-Sanchay-Plus-Life-Long-Income-Option-101N134V19-Policy-Document_Page_Page 6', '151', 'HDFC-Life-Smart-Pension-Plan-Policy-Document-Online_Page_Page 23', 'HDFC-Life-Smart-Pension-Plan-Policy-Document-Online_Page_Page 19', 'HDFC-Life-Sampoorna-Jeevan-101N158V04-Policy-Document (1)_Page_Page 1', '196', '134', 'HDFC-Life-Sampoorna-Jeevan-101N158V04-Policy-Document (1)_Page_Page 13', 'HDFC-Surgicare-Plan-101N043V01_Page_Page 10', '199', '102', '118', '131', 'HDFC-Life-Group-Poorna-Suraksha-101N137V02-Policy-Document_Page_Page 29', 'HDFC-Life-Smart-Pension-Plan-Policy-Document-Online_Page_Page 30', '140', '127', '192', '76', '175', 'HDFC-Life-Easy-Health-101N110V03-Policy-Bond-Single-Pay_Page_Page 26', 'HDFC-Life-Sampoorna-Jeevan-101N158V04-Policy-Document (1)_Page_Page 16', 'HDFC-Life-Smart-Pension-Plan-Policy-Document-Online_Page_Page 26', '193', '83', 'HDFC-Life-Easy-Health-101N110V03-Policy-Bond-Single-Pay_Page_Page 2', 'HDFC-Life-Sanchay-Plus-Life-Long-Income-Option-101N134V19-Policy-Document_Page_Page 18', 'HDFC-Life-Smart-Pension-Plan-Policy-Document-Online_Page_Page 6', 'HDFC-Life-Easy-Health-101N110V03-Policy-Bond-Single-Pay_Page_Page 7', '67', 'HDFC-Life-Easy-Health-101N110V03-Policy-Bond-Single-Pay_Page_Page 20', '51', 'HDFC-Life-Smart-Pension-Plan-Policy-Document-Online_Page_Page 33', '121', 'HDFC-Life-Group-Term-Life-Policy_Page_Page 15', 'HDFC-Life-Group-Poorna-Suraksha-101N137V02-Policy-Document_Page_Page 11', 'HDFC-Life-Smart-Pension-Plan-Policy-Document-Online_Page_Page 10', 'HDFC-Life-Group-Poorna-Suraksha-101N137V02-Policy-Document_Page_Page 15', 'HDFC-Life-Smart-Pension-Plan-Policy-Document-Online_Page_Page 1', 'HDFC-Life-Sampoorna-Jeevan-101N158V04-Policy-Document (1)_Page_Page 14', 'HDFC-Life-Smart-Pension-Plan-Policy-Document-Online_Page_Page 11', 'HDFC-Life-Group-Poorna-Suraksha-101N137V02-Policy-Document_Page_Page 3', 'HDFC-Life-Group-Poorna-Suraksha-101N137V02-Policy-Document_Page_Page 31', 'HDFC-Life-Group-Poorna-Suraksha-101N137V02-Policy-Document_Page_Page 20', '206', 'HDFC-Surgicare-Plan-101N043V01_Page_Page 5', '5', '90', 'HDFC-Life-Group-Term-Life-Policy_Page_Page 12', 'HDFC-Life-Group-Poorna-Suraksha-101N137V02-Policy-Document_Page_Page 16', 'HDFC-Life-Smart-Pension-Plan-Policy-Document-Online_Page_Page 35', 'HDFC-Life-Sampoorna-Jeevan-101N158V04-Policy-Document (1)_Page_Page 23', '84', 'HDFC-Life-Smart-Pension-Plan-Policy-Document-Online_Page_Page 17', 'HDFC-Life-Easy-Health-101N110V03-Policy-Bond-Single-Pay_Page_Page 17', 'HDFC-Life-Smart-Pension-Plan-Policy-Document-Online_Page_Page 9', 'HDFC-Life-Group-Poorna-Suraksha-101N137V02-Policy-Document_Page_Page 21', '0', '194', '198', '14', '103', '87', '18', 'HDFC-Life-Easy-Health-101N110V03-Policy-Bond-Single-Pay_Page_Page 1', '123', '36', '178', 'HDFC-Life-Group-Poorna-Suraksha-101N137V02-Policy-Document_Page_Page 13', 'HDFC-Life-Smart-Pension-Plan-Policy-Document-Online_Page_Page 15', 'HDFC-Surgicare-Plan-101N043V01_Page_Page 8', 'HDFC-Life-Easy-Health-101N110V03-Policy-Bond-Single-Pay_Page_Page 24', '161', 'HDFC-Life-Easy-Health-101N110V03-Policy-Bond-Single-Pay_Page_Page 22', '40', '53', '17', 'HDFC-Life-Smart-Pension-Plan-Policy-Document-Online_Page_Page 16', '96', 'HDFC-Life-Sampoorna-Jeevan-101N158V04-Policy-Document (1)_Page_Page 34', '180', 'HDFC-Surgicare-Plan-101N043V01_Page_Page 7', 'HDFC-Surgicare-Plan-101N043V01_Page_Page 15', 'HDFC-Surgicare-Plan-101N043V01_Page_Page 11', 'HDFC-Life-Sanchay-Plus-Life-Long-Income-Option-101N134V19-Policy-Document_Page_Page 13', '82', 'HDFC-Life-Sampoorna-Jeevan-101N158V04-Policy-Document (1)_Page_Page 17', 'HDFC-Life-Sanchay-Plus-Life-Long-Income-Option-101N134V19-Policy-Document_Page_Page 16', 'HDFC-Life-Easy-Health-101N110V03-Policy-Bond-Single-Pay_Page_Page 14', 'HDFC-Surgicare-Plan-101N043V01_Page_Page 9', '133', '69', 'HDFC-Life-Easy-Health-101N110V03-Policy-Bond-Single-Pay_Page_Page 8', 'HDFC-Surgicare-Plan-101N043V01_Page_Page 6', 'HDFC-Life-Smart-Pension-Plan-Policy-Document-Online_Page_Page 5', 'HDFC-Life-Group-Poorna-Suraksha-101N137V02-Policy-Document_Page_Page 30', '136', '165', '61', '6', '63', '148', '79', '41', 'HDFC-Life-Sanchay-Plus-Life-Long-Income-Option-101N134V19-Policy-Document_Page_Page 3', '179', '24', 'HDFC-Life-Group-Poorna-Suraksha-101N137V02-Policy-Document_Page_Page 8', '128', '157', '189', '34', '23', '22', '109', '89', 'HDFC-Life-Group-Poorna-Suraksha-101N137V02-Policy-Document_Page_Page 26', '28', '125', '48', 'HDFC-Life-Sampoorna-Jeevan-101N158V04-Policy-Document (1)_Page_Page 28', '12', '173', 'HDFC-Life-Sanchay-Plus-Life-Long-Income-Option-101N134V19-Policy-Document_Page_Page 11', 'HDFC-Life-Smart-Pension-Plan-Policy-Document-Online_Page_Page 36', 'HDFC-Life-Smart-Pension-Plan-Policy-Document-Online_Page_Page 32', '75', 'HDFC-Life-Sampoorna-Jeevan-101N158V04-Policy-Document (1)_Page_Page 38', 'HDFC-Life-Sanchay-Plus-Life-Long-Income-Option-101N134V19-Policy-Document_Page_Page 7', '44', '98', 'HDFC-Life-Easy-Health-101N110V03-Policy-Bond-Single-Pay_Page_Page 33', '112', '88', 'HDFC-Life-Sampoorna-Jeevan-101N158V04-Policy-Document (1)_Page_Page 2', '73', '97', 'HDFC-Life-Smart-Pension-Plan-Policy-Document-Online_Page_Page 7', 'HDFC-Life-Sampoorna-Jeevan-101N158V04-Policy-Document (1)_Page_Page 11', 'HDFC-Life-Easy-Health-101N110V03-Policy-Bond-Single-Pay_Page_Page 27', 'HDFC-Life-Group-Poorna-Suraksha-101N137V02-Policy-Document_Page_Page 6', 'HDFC-Life-Group-Term-Life-Policy_Page_Page 23', '107', '27', '7', '52', 'HDFC-Life-Sanchay-Plus-Life-Long-Income-Option-101N134V19-Policy-Document_Page_Page 14', '54', 'HDFC-Life-Sampoorna-Jeevan-101N158V04-Policy-Document (1)_Page_Page 26', 'HDFC-Life-Group-Term-Life-Policy_Page_Page 17', '101', 'HDFC-Life-Group-Term-Life-Policy_Page_Page 13', '132', '55', '86', '156', '3', '59', 'HDFC-Life-Smart-Pension-Plan-Policy-Document-Online_Page_Page 24', 'HDFC-Life-Group-Term-Life-Policy_Page_Page 21', 'HDFC-Life-Group-Term-Life-Policy_Page_Page 27', '172', 'HDFC-Life-Sampoorna-Jeevan-101N158V04-Policy-Document (1)_Page_Page 5', 'HDFC-Surgicare-Plan-101N043V01_Page_Page 12', '31', '158', '15', 'HDFC-Life-Group-Poorna-Suraksha-101N137V02-Policy-Document_Page_Page 12', '144', '191', '39', '49', '124', 'HDFC-Life-Sanchay-Plus-Life-Long-Income-Option-101N134V19-Policy-Document_Page_Page 17', 'HDFC-Life-Easy-Health-101N110V03-Policy-Bond-Single-Pay_Page_Page 4', 'HDFC-Life-Sampoorna-Jeevan-101N158V04-Policy-Document (1)_Page_Page 37', '146', '150', '4', '2', 'HDFC-Life-Smart-Pension-Plan-Policy-Document-Online_Page_Page 29', 'HDFC-Life-Sampoorna-Jeevan-101N158V04-Policy-Document (1)_Page_Page 6', 'HDFC-Life-Sanchay-Plus-Life-Long-Income-Option-101N134V19-Policy-Document_Page_Page 25', 'HDFC-Life-Group-Poorna-Suraksha-101N137V02-Policy-Document_Page_Page 28', 'HDFC-Life-Group-Poorna-Suraksha-101N137V02-Policy-Document_Page_Page 2', '80', 'HDFC-Life-Easy-Health-101N110V03-Policy-Bond-Single-Pay_Page_Page 29', 'HDFC-Life-Group-Poorna-Suraksha-101N137V02-Policy-Document_Page_Page 4', 'HDFC-Life-Smart-Pension-Plan-Policy-Document-Online_Page_Page 2', '207', '16', '113', 'HDFC-Life-Smart-Pension-Plan-Policy-Document-Online_Page_Page 27', '25', '37', 'HDFC-Life-Group-Term-Life-Policy_Page_Page 11', 'HDFC-Life-Sampoorna-Jeevan-101N158V04-Policy-Document (1)_Page_Page 27', '33', '186', 'HDFC-Surgicare-Plan-101N043V01_Page_Page 14', 'HDFC-Life-Easy-Health-101N110V03-Policy-Bond-Single-Pay_Page_Page 13', 'HDFC-Life-Sampoorna-Jeevan-101N158V04-Policy-Document (1)_Page_Page 29', 'HDFC-Life-Smart-Pension-Plan-Policy-Document-Online_Page_Page 3', '201', 'HDFC-Life-Smart-Pension-Plan-Policy-Document-Online_Page_Page 21', '13', 'HDFC-Life-Sanchay-Plus-Life-Long-Income-Option-101N134V19-Policy-Document_Page_Page 23'}\n",
      "New IDs being added: ['0', '1', '2', '3', '4', '5', '6', '7', '8', '9', '10', '11', '12', '13', '14', '15', '16', '17', '18', '19', '20', '21', '22', '23', '24', '25', '26', '27', '28', '29', '30', '31', '32', '33', '34', '35', '36', '37', '38', '39', '40', '41', '42', '43', '44', '45', '46', '47', '48', '49', '50', '51', '52', '53', '54', '55', '56', '57', '58', '59', '60', '61', '62', '63', '64', '65', '66', '67', '68', '69', '70', '71', '72', '73', '74', '75', '76', '77', '78', '79', '80', '81', '82', '83', '84', '85', '86', '87', '88', '89', '90', '91', '92', '93', '94', '95', '96', '97', '98', '99', '100', '101', '102', '103', '104', '105', '106', '107', '108', '109', '110', '111', '112', '113', '114', '115', '116', '117', '118', '119', '120', '121', '122', '123', '124', '125', '126', '127', '128', '129', '130', '131', '132', '133', '134', '135', '136', '137', '138', '139', '140', '141', '142', '143', '144', '145', '146', '147', '148', '149', '150', '151', '152', '153', '154', '155', '156', '157', '158', '159', '160', '161', '162', '163', '164', '165', '166', '167', '168', '169', '170', '171', '172', '173', '174', '175', '176', '177', '178', '179', '180', '181', '182', '183', '184', '185', '186', '187', '188', '189', '190', '191', '192', '193', '194', '195', '196', '197', '198', '199', '200', '201', '202', '203', '204', '205', '206', '207', '208', '209']\n"
     ]
    }
   ],
   "source": [
    "# Fetch and print existing IDs\n",
    "existing_ids = set(insurance_collection.get()['ids'])\n",
    "print(\"Existing IDs in ChromaDB:\", existing_ids)\n",
    "\n",
    "# Print first few IDs from your new documents\n",
    "print(\"New IDs being added:\", [str(i) for i in range(len(documents_list))])\n"
   ]
  },
  {
   "cell_type": "markdown",
   "metadata": {},
   "source": [
    "Now, lets extract existing document IDs from ChromaDB, filter the new documents by checking against these IDs, and add only the new documents (with their metadata) to the collection.\n"
   ]
  },
  {
   "cell_type": "code",
   "execution_count": 31,
   "metadata": {},
   "outputs": [
    {
     "name": "stdout",
     "output_type": "stream",
     "text": [
      "No new documents to add.\n"
     ]
    }
   ],
   "source": [
    "# Extract existing IDs from ChromaDB\n",
    "existing_ids = set(insurance_collection.get()['ids'])\n",
    "\n",
    "# Create filtered lists for only new documents\n",
    "new_documents = []\n",
    "new_metadata = []\n",
    "new_ids = []\n",
    "\n",
    "for i, doc in enumerate(documents_list):\n",
    "    doc_id = metadata_list[i].get('id', str(i))  # Use 'id', fallback to index\n",
    "  # Use document name as ID\n",
    "    if doc_id not in existing_ids:\n",
    "        new_documents.append(doc)\n",
    "        new_metadata.append(metadata_list[i])\n",
    "        new_ids.append(doc_id)\n",
    "\n",
    "# Add only new documents\n",
    "if new_documents:\n",
    "    insurance_collection.add(\n",
    "        documents=new_documents,\n",
    "        ids=new_ids,\n",
    "        metadatas=new_metadata\n",
    "    )\n",
    "    print(f\"Added {len(new_documents)} new documents.\")\n",
    "else:\n",
    "    print(\"No new documents to add.\")\n"
   ]
  },
  {
   "cell_type": "code",
   "execution_count": 32,
   "metadata": {},
   "outputs": [
    {
     "name": "stdout",
     "output_type": "stream",
     "text": [
      "[{'Policy_Name': 'HDFC-Life-Easy-Health-101N110V03-Policy-Bond-Single-Pay', 'Page_No.': 'Page 1'}, {'Policy_Name': 'HDFC-Life-Easy-Health-101N110V03-Policy-Bond-Single-Pay', 'Page_No.': 'Page 2'}, {'Policy_Name': 'HDFC-Life-Easy-Health-101N110V03-Policy-Bond-Single-Pay', 'Page_No.': 'Page 3'}]\n"
     ]
    }
   ],
   "source": [
    "print(metadata_list[:3])  # Show first 3 metadata entries\n"
   ]
  },
  {
   "cell_type": "markdown",
   "metadata": {},
   "source": [
    "Let's create a unique document identifier by combining the policy name and page number from the metadata, ensuring each page is uniquely identifiable in the database.\n"
   ]
  },
  {
   "cell_type": "code",
   "execution_count": 33,
   "metadata": {},
   "outputs": [],
   "source": [
    "doc_id = f\"{metadata_list[i]['Policy_Name']}_Page_{metadata_list[i]['Page_No.']}\"\n"
   ]
  },
  {
   "cell_type": "markdown",
   "metadata": {},
   "source": [
    "Let's retrieves existing IDs from the ChromaDB collection and then iterate over our documents, generating a unique ID for each (using the policy name and page number) and adding only those documents that aren't already stored.\n"
   ]
  },
  {
   "cell_type": "code",
   "execution_count": 34,
   "metadata": {},
   "outputs": [
    {
     "name": "stdout",
     "output_type": "stream",
     "text": [
      "No new documents to add.\n"
     ]
    }
   ],
   "source": [
    "# Get existing IDs in the ChromaDB collection\n",
    "existing_ids = set(insurance_collection.get()['ids'])\n",
    "\n",
    "# Create filtered lists for only new documents\n",
    "new_documents = []\n",
    "new_metadata = []\n",
    "new_ids = []\n",
    "\n",
    "for i, doc in enumerate(documents_list):\n",
    "    doc_id = f\"{metadata_list[i]['Policy_Name']}_Page_{metadata_list[i]['Page_No.']}\"\n",
    "    \n",
    "    if doc_id not in existing_ids:  # Only add new documents\n",
    "        new_documents.append(doc)\n",
    "        new_metadata.append(metadata_list[i])\n",
    "        new_ids.append(doc_id)\n",
    "\n",
    "# Only add if there are new documents\n",
    "if new_documents:\n",
    "    insurance_collection.add(\n",
    "        documents=new_documents,\n",
    "        ids=new_ids,\n",
    "        metadatas=new_metadata\n",
    "    )\n",
    "    print(f\"Added {len(new_documents)} new documents.\")\n",
    "else:\n",
    "    print(\"No new documents to add.\")\n"
   ]
  },
  {
   "cell_type": "code",
   "execution_count": 35,
   "metadata": {
    "colab": {
     "base_uri": "https://localhost:8080/"
    },
    "id": "QBdLLmyxhFKN",
    "outputId": "a00f3531-7033-49c3-9654-1d2a6eaeb35d",
    "scrolled": true
   },
   "outputs": [
    {
     "name": "stderr",
     "output_type": "stream",
     "text": [
      "Add of existing embedding ID: 68\n",
      "Add of existing embedding ID: 69\n",
      "Add of existing embedding ID: 70\n",
      "Add of existing embedding ID: 71\n",
      "Add of existing embedding ID: 72\n",
      "Add of existing embedding ID: 73\n",
      "Add of existing embedding ID: 74\n",
      "Add of existing embedding ID: 75\n",
      "Add of existing embedding ID: 76\n",
      "Add of existing embedding ID: 77\n",
      "Add of existing embedding ID: 78\n",
      "Add of existing embedding ID: 79\n",
      "Add of existing embedding ID: 80\n",
      "Add of existing embedding ID: 81\n",
      "Add of existing embedding ID: 82\n",
      "Add of existing embedding ID: 83\n",
      "Add of existing embedding ID: 84\n",
      "Add of existing embedding ID: 85\n",
      "Add of existing embedding ID: 86\n",
      "Add of existing embedding ID: 87\n",
      "Add of existing embedding ID: 88\n",
      "Add of existing embedding ID: 89\n",
      "Add of existing embedding ID: 90\n",
      "Add of existing embedding ID: 91\n",
      "Add of existing embedding ID: 92\n",
      "Add of existing embedding ID: 93\n",
      "Add of existing embedding ID: 94\n",
      "Add of existing embedding ID: 95\n",
      "Add of existing embedding ID: 96\n",
      "Add of existing embedding ID: 97\n",
      "Add of existing embedding ID: 98\n",
      "Add of existing embedding ID: 99\n",
      "Add of existing embedding ID: 100\n",
      "Add of existing embedding ID: 101\n",
      "Add of existing embedding ID: 102\n",
      "Add of existing embedding ID: 103\n",
      "Add of existing embedding ID: 104\n",
      "Add of existing embedding ID: 105\n",
      "Add of existing embedding ID: 106\n",
      "Add of existing embedding ID: 107\n",
      "Add of existing embedding ID: 108\n",
      "Add of existing embedding ID: 109\n",
      "Add of existing embedding ID: 110\n",
      "Add of existing embedding ID: 111\n",
      "Add of existing embedding ID: 112\n",
      "Add of existing embedding ID: 113\n",
      "Add of existing embedding ID: 114\n",
      "Add of existing embedding ID: 115\n",
      "Add of existing embedding ID: 116\n",
      "Add of existing embedding ID: 117\n",
      "Add of existing embedding ID: 118\n",
      "Add of existing embedding ID: 119\n",
      "Add of existing embedding ID: 120\n",
      "Add of existing embedding ID: 121\n",
      "Add of existing embedding ID: 122\n",
      "Add of existing embedding ID: 123\n",
      "Add of existing embedding ID: 124\n",
      "Add of existing embedding ID: 125\n",
      "Add of existing embedding ID: 126\n",
      "Add of existing embedding ID: 127\n",
      "Add of existing embedding ID: 128\n",
      "Add of existing embedding ID: 129\n",
      "Add of existing embedding ID: 130\n",
      "Add of existing embedding ID: 131\n",
      "Add of existing embedding ID: 132\n",
      "Add of existing embedding ID: 133\n",
      "Add of existing embedding ID: 134\n",
      "Add of existing embedding ID: 135\n",
      "Add of existing embedding ID: 136\n",
      "Add of existing embedding ID: 137\n",
      "Add of existing embedding ID: 138\n",
      "Add of existing embedding ID: 139\n",
      "Add of existing embedding ID: 140\n",
      "Add of existing embedding ID: 141\n",
      "Add of existing embedding ID: 142\n",
      "Add of existing embedding ID: 143\n",
      "Add of existing embedding ID: 144\n",
      "Add of existing embedding ID: 145\n",
      "Add of existing embedding ID: 146\n",
      "Add of existing embedding ID: 147\n",
      "Add of existing embedding ID: 148\n",
      "Add of existing embedding ID: 149\n",
      "Add of existing embedding ID: 150\n",
      "Add of existing embedding ID: 151\n",
      "Add of existing embedding ID: 152\n",
      "Add of existing embedding ID: 153\n",
      "Add of existing embedding ID: 154\n",
      "Add of existing embedding ID: 155\n",
      "Add of existing embedding ID: 156\n",
      "Add of existing embedding ID: 157\n",
      "Add of existing embedding ID: 158\n",
      "Add of existing embedding ID: 159\n",
      "Add of existing embedding ID: 160\n",
      "Add of existing embedding ID: 161\n",
      "Add of existing embedding ID: 162\n",
      "Add of existing embedding ID: 163\n",
      "Add of existing embedding ID: 164\n",
      "Add of existing embedding ID: 165\n",
      "Add of existing embedding ID: 166\n",
      "Add of existing embedding ID: 167\n",
      "Add of existing embedding ID: 168\n",
      "Add of existing embedding ID: 169\n",
      "Add of existing embedding ID: 170\n",
      "Add of existing embedding ID: 171\n",
      "Add of existing embedding ID: 172\n",
      "Add of existing embedding ID: 173\n",
      "Add of existing embedding ID: 174\n",
      "Add of existing embedding ID: 175\n",
      "Add of existing embedding ID: 176\n",
      "Add of existing embedding ID: 177\n",
      "Add of existing embedding ID: 178\n",
      "Add of existing embedding ID: 179\n",
      "Add of existing embedding ID: 180\n",
      "Add of existing embedding ID: 181\n",
      "Add of existing embedding ID: 182\n",
      "Add of existing embedding ID: 183\n",
      "Add of existing embedding ID: 184\n",
      "Add of existing embedding ID: 185\n",
      "Add of existing embedding ID: 186\n",
      "Add of existing embedding ID: 187\n",
      "Add of existing embedding ID: 188\n",
      "Add of existing embedding ID: 189\n",
      "Add of existing embedding ID: 190\n",
      "Add of existing embedding ID: 191\n",
      "Add of existing embedding ID: 192\n",
      "Add of existing embedding ID: 193\n",
      "Add of existing embedding ID: 194\n",
      "Add of existing embedding ID: 195\n",
      "Add of existing embedding ID: 196\n",
      "Add of existing embedding ID: 197\n",
      "Add of existing embedding ID: 198\n",
      "Add of existing embedding ID: 199\n",
      "Add of existing embedding ID: 200\n",
      "Add of existing embedding ID: 201\n",
      "Add of existing embedding ID: 202\n",
      "Add of existing embedding ID: 203\n",
      "Add of existing embedding ID: 204\n",
      "Add of existing embedding ID: 205\n",
      "Add of existing embedding ID: 206\n",
      "Add of existing embedding ID: 207\n",
      "Add of existing embedding ID: 208\n",
      "Add of existing embedding ID: 209\n",
      "Add of existing embedding ID: 0\n",
      "Add of existing embedding ID: 1\n",
      "Add of existing embedding ID: 2\n",
      "Add of existing embedding ID: 3\n",
      "Add of existing embedding ID: 4\n",
      "Add of existing embedding ID: 5\n",
      "Add of existing embedding ID: 6\n",
      "Add of existing embedding ID: 7\n",
      "Add of existing embedding ID: 8\n",
      "Add of existing embedding ID: 9\n",
      "Add of existing embedding ID: 10\n",
      "Add of existing embedding ID: 11\n",
      "Add of existing embedding ID: 12\n",
      "Add of existing embedding ID: 13\n",
      "Add of existing embedding ID: 14\n",
      "Add of existing embedding ID: 15\n",
      "Add of existing embedding ID: 16\n",
      "Add of existing embedding ID: 17\n",
      "Add of existing embedding ID: 18\n",
      "Add of existing embedding ID: 19\n",
      "Add of existing embedding ID: 20\n",
      "Add of existing embedding ID: 21\n",
      "Add of existing embedding ID: 22\n",
      "Add of existing embedding ID: 23\n",
      "Add of existing embedding ID: 24\n",
      "Add of existing embedding ID: 25\n",
      "Add of existing embedding ID: 26\n",
      "Add of existing embedding ID: 27\n",
      "Add of existing embedding ID: 28\n",
      "Add of existing embedding ID: 29\n",
      "Add of existing embedding ID: 30\n",
      "Add of existing embedding ID: 31\n",
      "Add of existing embedding ID: 32\n",
      "Add of existing embedding ID: 33\n",
      "Add of existing embedding ID: 34\n",
      "Add of existing embedding ID: 35\n",
      "Add of existing embedding ID: 36\n",
      "Add of existing embedding ID: 37\n",
      "Add of existing embedding ID: 38\n",
      "Add of existing embedding ID: 39\n",
      "Add of existing embedding ID: 40\n",
      "Add of existing embedding ID: 41\n",
      "Add of existing embedding ID: 42\n",
      "Add of existing embedding ID: 43\n",
      "Add of existing embedding ID: 44\n",
      "Add of existing embedding ID: 45\n",
      "Add of existing embedding ID: 46\n",
      "Add of existing embedding ID: 47\n",
      "Add of existing embedding ID: 48\n",
      "Add of existing embedding ID: 49\n",
      "Add of existing embedding ID: 50\n",
      "Add of existing embedding ID: 51\n",
      "Add of existing embedding ID: 52\n",
      "Add of existing embedding ID: 53\n",
      "Add of existing embedding ID: 54\n",
      "Add of existing embedding ID: 55\n",
      "Add of existing embedding ID: 56\n",
      "Add of existing embedding ID: 57\n",
      "Add of existing embedding ID: 58\n",
      "Add of existing embedding ID: 59\n",
      "Add of existing embedding ID: 60\n",
      "Add of existing embedding ID: 61\n",
      "Add of existing embedding ID: 62\n",
      "Add of existing embedding ID: 63\n",
      "Add of existing embedding ID: 64\n",
      "Add of existing embedding ID: 65\n",
      "Add of existing embedding ID: 66\n",
      "Add of existing embedding ID: 67\n",
      "Add of existing embedding ID: 68\n",
      "Add of existing embedding ID: 69\n",
      "Add of existing embedding ID: 70\n",
      "Add of existing embedding ID: 71\n",
      "Add of existing embedding ID: 72\n",
      "Add of existing embedding ID: 73\n",
      "Add of existing embedding ID: 74\n",
      "Add of existing embedding ID: 75\n",
      "Add of existing embedding ID: 76\n",
      "Add of existing embedding ID: 77\n",
      "Add of existing embedding ID: 78\n",
      "Add of existing embedding ID: 79\n",
      "Add of existing embedding ID: 80\n",
      "Add of existing embedding ID: 81\n",
      "Add of existing embedding ID: 82\n",
      "Add of existing embedding ID: 83\n",
      "Add of existing embedding ID: 84\n",
      "Add of existing embedding ID: 85\n",
      "Add of existing embedding ID: 86\n",
      "Add of existing embedding ID: 87\n",
      "Add of existing embedding ID: 88\n",
      "Add of existing embedding ID: 89\n",
      "Add of existing embedding ID: 90\n",
      "Add of existing embedding ID: 91\n",
      "Add of existing embedding ID: 92\n",
      "Add of existing embedding ID: 93\n",
      "Add of existing embedding ID: 94\n",
      "Add of existing embedding ID: 95\n",
      "Add of existing embedding ID: 96\n",
      "Add of existing embedding ID: 97\n",
      "Add of existing embedding ID: 98\n",
      "Add of existing embedding ID: 99\n",
      "Add of existing embedding ID: 100\n",
      "Add of existing embedding ID: 101\n",
      "Add of existing embedding ID: 102\n",
      "Add of existing embedding ID: 103\n",
      "Add of existing embedding ID: 104\n",
      "Add of existing embedding ID: 105\n",
      "Add of existing embedding ID: 106\n",
      "Add of existing embedding ID: 107\n",
      "Add of existing embedding ID: 108\n",
      "Add of existing embedding ID: 109\n",
      "Add of existing embedding ID: 110\n",
      "Add of existing embedding ID: 111\n",
      "Add of existing embedding ID: 112\n",
      "Add of existing embedding ID: 113\n",
      "Add of existing embedding ID: 114\n",
      "Add of existing embedding ID: 115\n",
      "Add of existing embedding ID: 116\n",
      "Add of existing embedding ID: 117\n",
      "Add of existing embedding ID: 118\n",
      "Add of existing embedding ID: 119\n",
      "Add of existing embedding ID: 120\n",
      "Add of existing embedding ID: 121\n",
      "Add of existing embedding ID: 122\n",
      "Add of existing embedding ID: 123\n",
      "Add of existing embedding ID: 124\n",
      "Add of existing embedding ID: 125\n",
      "Add of existing embedding ID: 126\n",
      "Add of existing embedding ID: 127\n",
      "Add of existing embedding ID: 128\n",
      "Add of existing embedding ID: 129\n",
      "Add of existing embedding ID: 130\n",
      "Add of existing embedding ID: 131\n",
      "Add of existing embedding ID: 132\n",
      "Add of existing embedding ID: 133\n",
      "Add of existing embedding ID: 134\n",
      "Add of existing embedding ID: 135\n",
      "Add of existing embedding ID: 136\n",
      "Add of existing embedding ID: 137\n",
      "Add of existing embedding ID: 138\n",
      "Add of existing embedding ID: 139\n",
      "Add of existing embedding ID: 140\n",
      "Add of existing embedding ID: 141\n",
      "Add of existing embedding ID: 142\n",
      "Add of existing embedding ID: 143\n",
      "Add of existing embedding ID: 144\n",
      "Add of existing embedding ID: 145\n",
      "Add of existing embedding ID: 146\n",
      "Add of existing embedding ID: 147\n",
      "Add of existing embedding ID: 148\n",
      "Add of existing embedding ID: 149\n",
      "Add of existing embedding ID: 150\n",
      "Add of existing embedding ID: 151\n",
      "Add of existing embedding ID: 152\n",
      "Add of existing embedding ID: 153\n",
      "Add of existing embedding ID: 154\n",
      "Add of existing embedding ID: 155\n",
      "Add of existing embedding ID: 156\n",
      "Add of existing embedding ID: 157\n",
      "Add of existing embedding ID: 158\n",
      "Add of existing embedding ID: 159\n",
      "Add of existing embedding ID: 160\n",
      "Add of existing embedding ID: 161\n",
      "Add of existing embedding ID: 162\n",
      "Add of existing embedding ID: 163\n",
      "Add of existing embedding ID: 164\n",
      "Add of existing embedding ID: 165\n",
      "Add of existing embedding ID: 166\n",
      "Add of existing embedding ID: 167\n",
      "Add of existing embedding ID: 168\n",
      "Add of existing embedding ID: 169\n",
      "Add of existing embedding ID: 170\n",
      "Add of existing embedding ID: 171\n",
      "Add of existing embedding ID: 172\n",
      "Add of existing embedding ID: 173\n",
      "Add of existing embedding ID: 174\n",
      "Add of existing embedding ID: 175\n",
      "Add of existing embedding ID: 176\n",
      "Add of existing embedding ID: 177\n",
      "Add of existing embedding ID: 178\n",
      "Add of existing embedding ID: 179\n",
      "Add of existing embedding ID: 180\n",
      "Add of existing embedding ID: 181\n",
      "Add of existing embedding ID: 182\n",
      "Add of existing embedding ID: 183\n",
      "Add of existing embedding ID: 184\n",
      "Add of existing embedding ID: 185\n",
      "Add of existing embedding ID: 186\n",
      "Add of existing embedding ID: 187\n",
      "Add of existing embedding ID: 188\n",
      "Add of existing embedding ID: 189\n",
      "Add of existing embedding ID: 190\n",
      "Add of existing embedding ID: 191\n",
      "Add of existing embedding ID: 192\n",
      "Add of existing embedding ID: 193\n",
      "Add of existing embedding ID: 194\n",
      "Add of existing embedding ID: 195\n",
      "Add of existing embedding ID: 196\n",
      "Add of existing embedding ID: 197\n",
      "Add of existing embedding ID: 198\n",
      "Add of existing embedding ID: 199\n",
      "Add of existing embedding ID: 200\n",
      "Add of existing embedding ID: 201\n",
      "Add of existing embedding ID: 202\n",
      "Add of existing embedding ID: 203\n",
      "Add of existing embedding ID: 204\n",
      "Add of existing embedding ID: 205\n",
      "Add of existing embedding ID: 206\n",
      "Add of existing embedding ID: 207\n",
      "Add of existing embedding ID: 208\n",
      "Add of existing embedding ID: 209\n",
      "Add of existing embedding ID: 0\n",
      "Add of existing embedding ID: 1\n",
      "Add of existing embedding ID: 2\n",
      "Add of existing embedding ID: 3\n",
      "Add of existing embedding ID: 4\n",
      "Add of existing embedding ID: 5\n",
      "Add of existing embedding ID: 6\n",
      "Add of existing embedding ID: 7\n",
      "Add of existing embedding ID: 8\n",
      "Add of existing embedding ID: 9\n",
      "Add of existing embedding ID: 10\n",
      "Add of existing embedding ID: 11\n",
      "Add of existing embedding ID: 12\n",
      "Add of existing embedding ID: 13\n",
      "Add of existing embedding ID: 14\n",
      "Add of existing embedding ID: 15\n",
      "Add of existing embedding ID: 16\n",
      "Add of existing embedding ID: 17\n",
      "Add of existing embedding ID: 18\n",
      "Add of existing embedding ID: 19\n",
      "Add of existing embedding ID: 20\n",
      "Add of existing embedding ID: 21\n",
      "Add of existing embedding ID: 22\n",
      "Add of existing embedding ID: 23\n",
      "Add of existing embedding ID: 24\n",
      "Add of existing embedding ID: 25\n",
      "Add of existing embedding ID: 26\n",
      "Add of existing embedding ID: 27\n",
      "Add of existing embedding ID: 28\n",
      "Add of existing embedding ID: 29\n",
      "Add of existing embedding ID: 30\n",
      "Add of existing embedding ID: 31\n",
      "Add of existing embedding ID: 32\n",
      "Add of existing embedding ID: 33\n",
      "Add of existing embedding ID: 34\n",
      "Add of existing embedding ID: 35\n",
      "Add of existing embedding ID: 36\n",
      "Add of existing embedding ID: 37\n",
      "Add of existing embedding ID: 38\n",
      "Add of existing embedding ID: 39\n",
      "Add of existing embedding ID: 40\n",
      "Add of existing embedding ID: 41\n",
      "Add of existing embedding ID: 42\n",
      "Add of existing embedding ID: 43\n",
      "Add of existing embedding ID: 44\n",
      "Add of existing embedding ID: 45\n",
      "Add of existing embedding ID: 46\n",
      "Add of existing embedding ID: 47\n",
      "Add of existing embedding ID: 48\n",
      "Add of existing embedding ID: 49\n",
      "Add of existing embedding ID: 50\n",
      "Add of existing embedding ID: 51\n",
      "Add of existing embedding ID: 52\n",
      "Add of existing embedding ID: 53\n",
      "Add of existing embedding ID: 54\n",
      "Add of existing embedding ID: 55\n",
      "Add of existing embedding ID: 56\n",
      "Add of existing embedding ID: 57\n",
      "Add of existing embedding ID: 58\n",
      "Add of existing embedding ID: 59\n",
      "Add of existing embedding ID: 60\n",
      "Add of existing embedding ID: 61\n",
      "Add of existing embedding ID: 62\n",
      "Add of existing embedding ID: 63\n",
      "Add of existing embedding ID: 64\n",
      "Add of existing embedding ID: 65\n",
      "Add of existing embedding ID: 66\n",
      "Add of existing embedding ID: 67\n",
      "Add of existing embedding ID: 68\n",
      "Add of existing embedding ID: 69\n",
      "Add of existing embedding ID: 70\n",
      "Add of existing embedding ID: 71\n",
      "Add of existing embedding ID: 72\n",
      "Add of existing embedding ID: 73\n",
      "Add of existing embedding ID: 74\n",
      "Add of existing embedding ID: 75\n",
      "Add of existing embedding ID: 76\n",
      "Add of existing embedding ID: 77\n",
      "Add of existing embedding ID: 78\n",
      "Add of existing embedding ID: 79\n",
      "Add of existing embedding ID: 80\n",
      "Add of existing embedding ID: 81\n",
      "Add of existing embedding ID: 82\n",
      "Add of existing embedding ID: 83\n",
      "Add of existing embedding ID: 84\n",
      "Add of existing embedding ID: 85\n",
      "Add of existing embedding ID: 86\n",
      "Add of existing embedding ID: 87\n",
      "Add of existing embedding ID: 88\n",
      "Add of existing embedding ID: 89\n",
      "Add of existing embedding ID: 90\n",
      "Add of existing embedding ID: 91\n",
      "Add of existing embedding ID: 92\n",
      "Add of existing embedding ID: 93\n",
      "Add of existing embedding ID: 94\n",
      "Add of existing embedding ID: 95\n",
      "Add of existing embedding ID: 96\n",
      "Add of existing embedding ID: 97\n",
      "Add of existing embedding ID: 98\n",
      "Add of existing embedding ID: 99\n",
      "Add of existing embedding ID: 100\n",
      "Add of existing embedding ID: 101\n",
      "Add of existing embedding ID: 102\n",
      "Add of existing embedding ID: 103\n",
      "Add of existing embedding ID: 104\n",
      "Add of existing embedding ID: 105\n",
      "Add of existing embedding ID: 106\n",
      "Add of existing embedding ID: 107\n",
      "Add of existing embedding ID: 108\n",
      "Add of existing embedding ID: 109\n",
      "Add of existing embedding ID: 110\n",
      "Add of existing embedding ID: 111\n",
      "Add of existing embedding ID: 112\n",
      "Add of existing embedding ID: 113\n",
      "Add of existing embedding ID: 114\n",
      "Add of existing embedding ID: 115\n",
      "Add of existing embedding ID: 116\n",
      "Add of existing embedding ID: 117\n",
      "Add of existing embedding ID: 118\n",
      "Add of existing embedding ID: 119\n",
      "Add of existing embedding ID: 120\n",
      "Add of existing embedding ID: 121\n",
      "Add of existing embedding ID: 122\n",
      "Add of existing embedding ID: 123\n",
      "Add of existing embedding ID: 124\n",
      "Add of existing embedding ID: 125\n",
      "Add of existing embedding ID: 126\n",
      "Add of existing embedding ID: 127\n",
      "Add of existing embedding ID: 128\n",
      "Add of existing embedding ID: 129\n",
      "Add of existing embedding ID: 130\n",
      "Add of existing embedding ID: 131\n",
      "Add of existing embedding ID: 132\n",
      "Add of existing embedding ID: 133\n",
      "Add of existing embedding ID: 134\n",
      "Add of existing embedding ID: 135\n",
      "Add of existing embedding ID: 136\n",
      "Add of existing embedding ID: 137\n",
      "Add of existing embedding ID: 138\n",
      "Add of existing embedding ID: 139\n",
      "Add of existing embedding ID: 140\n",
      "Add of existing embedding ID: 141\n",
      "Add of existing embedding ID: 142\n",
      "Add of existing embedding ID: 143\n",
      "Add of existing embedding ID: 144\n",
      "Add of existing embedding ID: 145\n",
      "Add of existing embedding ID: 146\n",
      "Add of existing embedding ID: 147\n",
      "Add of existing embedding ID: 148\n",
      "Add of existing embedding ID: 149\n",
      "Add of existing embedding ID: 150\n",
      "Add of existing embedding ID: 151\n",
      "Add of existing embedding ID: 152\n",
      "Add of existing embedding ID: 153\n",
      "Add of existing embedding ID: 154\n",
      "Add of existing embedding ID: 155\n",
      "Add of existing embedding ID: 156\n",
      "Add of existing embedding ID: 157\n",
      "Add of existing embedding ID: 158\n",
      "Add of existing embedding ID: 159\n",
      "Add of existing embedding ID: 160\n",
      "Add of existing embedding ID: 161\n",
      "Add of existing embedding ID: 162\n",
      "Add of existing embedding ID: 163\n",
      "Add of existing embedding ID: 164\n",
      "Add of existing embedding ID: 165\n",
      "Add of existing embedding ID: 166\n",
      "Add of existing embedding ID: 167\n",
      "Add of existing embedding ID: 168\n",
      "Add of existing embedding ID: 169\n",
      "Add of existing embedding ID: 170\n",
      "Add of existing embedding ID: 171\n",
      "Add of existing embedding ID: 172\n",
      "Add of existing embedding ID: 173\n",
      "Add of existing embedding ID: 174\n",
      "Add of existing embedding ID: 175\n",
      "Add of existing embedding ID: 176\n",
      "Add of existing embedding ID: 177\n",
      "Add of existing embedding ID: 178\n",
      "Add of existing embedding ID: 179\n",
      "Add of existing embedding ID: 180\n",
      "Add of existing embedding ID: 181\n",
      "Add of existing embedding ID: 182\n",
      "Add of existing embedding ID: 183\n",
      "Add of existing embedding ID: 184\n",
      "Add of existing embedding ID: 185\n",
      "Add of existing embedding ID: 186\n",
      "Add of existing embedding ID: 187\n",
      "Add of existing embedding ID: 188\n",
      "Add of existing embedding ID: 189\n",
      "Add of existing embedding ID: 190\n",
      "Add of existing embedding ID: 191\n",
      "Add of existing embedding ID: 192\n",
      "Add of existing embedding ID: 193\n",
      "Add of existing embedding ID: 194\n",
      "Add of existing embedding ID: 195\n",
      "Add of existing embedding ID: 196\n",
      "Add of existing embedding ID: 197\n",
      "Add of existing embedding ID: 198\n",
      "Add of existing embedding ID: 199\n",
      "Add of existing embedding ID: 200\n",
      "Add of existing embedding ID: 201\n",
      "Add of existing embedding ID: 202\n",
      "Add of existing embedding ID: 203\n",
      "Add of existing embedding ID: 204\n",
      "Add of existing embedding ID: 205\n",
      "Add of existing embedding ID: 206\n",
      "Add of existing embedding ID: 207\n",
      "Add of existing embedding ID: 208\n",
      "Add of existing embedding ID: 209\n",
      "Add of existing embedding ID: 0\n",
      "Add of existing embedding ID: 1\n",
      "Add of existing embedding ID: 2\n",
      "Add of existing embedding ID: 3\n",
      "Add of existing embedding ID: 4\n",
      "Add of existing embedding ID: 5\n",
      "Add of existing embedding ID: 6\n",
      "Add of existing embedding ID: 7\n",
      "Add of existing embedding ID: 8\n",
      "Add of existing embedding ID: 9\n",
      "Add of existing embedding ID: 10\n",
      "Add of existing embedding ID: 11\n",
      "Add of existing embedding ID: 12\n",
      "Add of existing embedding ID: 13\n",
      "Add of existing embedding ID: 14\n",
      "Add of existing embedding ID: 15\n",
      "Add of existing embedding ID: 16\n",
      "Add of existing embedding ID: 17\n",
      "Add of existing embedding ID: 18\n",
      "Add of existing embedding ID: 19\n",
      "Add of existing embedding ID: 20\n",
      "Add of existing embedding ID: 21\n",
      "Add of existing embedding ID: 22\n",
      "Add of existing embedding ID: 23\n",
      "Add of existing embedding ID: 24\n",
      "Add of existing embedding ID: 25\n",
      "Add of existing embedding ID: 26\n",
      "Add of existing embedding ID: 27\n",
      "Add of existing embedding ID: 28\n",
      "Add of existing embedding ID: 29\n",
      "Add of existing embedding ID: 30\n",
      "Add of existing embedding ID: 31\n",
      "Add of existing embedding ID: 32\n",
      "Add of existing embedding ID: 33\n",
      "Add of existing embedding ID: 34\n",
      "Add of existing embedding ID: 35\n",
      "Add of existing embedding ID: 36\n",
      "Add of existing embedding ID: 37\n",
      "Add of existing embedding ID: 38\n",
      "Add of existing embedding ID: 39\n",
      "Add of existing embedding ID: 40\n",
      "Add of existing embedding ID: 41\n",
      "Add of existing embedding ID: 42\n",
      "Add of existing embedding ID: 43\n",
      "Add of existing embedding ID: 44\n",
      "Add of existing embedding ID: 45\n",
      "Add of existing embedding ID: 46\n",
      "Add of existing embedding ID: 47\n",
      "Add of existing embedding ID: 48\n",
      "Add of existing embedding ID: 49\n",
      "Add of existing embedding ID: 50\n",
      "Add of existing embedding ID: 51\n",
      "Add of existing embedding ID: 52\n",
      "Add of existing embedding ID: 53\n",
      "Add of existing embedding ID: 54\n",
      "Add of existing embedding ID: 55\n",
      "Add of existing embedding ID: 56\n",
      "Add of existing embedding ID: 57\n",
      "Add of existing embedding ID: 58\n",
      "Add of existing embedding ID: 59\n",
      "Add of existing embedding ID: 60\n",
      "Add of existing embedding ID: 61\n",
      "Add of existing embedding ID: 62\n",
      "Add of existing embedding ID: 63\n",
      "Add of existing embedding ID: 64\n",
      "Add of existing embedding ID: 65\n",
      "Add of existing embedding ID: 66\n",
      "Add of existing embedding ID: 67\n",
      "Add of existing embedding ID: 68\n",
      "Add of existing embedding ID: 69\n",
      "Add of existing embedding ID: 70\n",
      "Add of existing embedding ID: 71\n",
      "Add of existing embedding ID: 72\n",
      "Add of existing embedding ID: 73\n",
      "Add of existing embedding ID: 74\n",
      "Add of existing embedding ID: 75\n",
      "Add of existing embedding ID: 76\n",
      "Add of existing embedding ID: 77\n",
      "Add of existing embedding ID: 78\n",
      "Add of existing embedding ID: 79\n",
      "Add of existing embedding ID: 80\n",
      "Add of existing embedding ID: 81\n",
      "Add of existing embedding ID: 82\n",
      "Add of existing embedding ID: 83\n",
      "Add of existing embedding ID: 84\n",
      "Add of existing embedding ID: 85\n",
      "Add of existing embedding ID: 86\n",
      "Add of existing embedding ID: 87\n",
      "Add of existing embedding ID: 88\n",
      "Add of existing embedding ID: 89\n",
      "Add of existing embedding ID: 90\n",
      "Add of existing embedding ID: 91\n",
      "Add of existing embedding ID: 92\n",
      "Add of existing embedding ID: 93\n",
      "Add of existing embedding ID: 94\n",
      "Add of existing embedding ID: 95\n",
      "Add of existing embedding ID: 96\n",
      "Add of existing embedding ID: 97\n",
      "Add of existing embedding ID: 98\n",
      "Add of existing embedding ID: 99\n",
      "Add of existing embedding ID: 100\n",
      "Add of existing embedding ID: 101\n",
      "Add of existing embedding ID: 102\n",
      "Add of existing embedding ID: 103\n",
      "Add of existing embedding ID: 104\n",
      "Add of existing embedding ID: 105\n",
      "Add of existing embedding ID: 106\n",
      "Add of existing embedding ID: 107\n",
      "Add of existing embedding ID: 108\n",
      "Add of existing embedding ID: 109\n",
      "Add of existing embedding ID: 110\n",
      "Add of existing embedding ID: 111\n",
      "Add of existing embedding ID: 112\n",
      "Add of existing embedding ID: 113\n",
      "Add of existing embedding ID: 114\n",
      "Add of existing embedding ID: 115\n",
      "Add of existing embedding ID: 116\n",
      "Add of existing embedding ID: 117\n",
      "Add of existing embedding ID: 118\n",
      "Add of existing embedding ID: 119\n",
      "Add of existing embedding ID: 120\n",
      "Add of existing embedding ID: 121\n",
      "Add of existing embedding ID: 122\n",
      "Add of existing embedding ID: 123\n",
      "Add of existing embedding ID: 124\n",
      "Add of existing embedding ID: 125\n",
      "Add of existing embedding ID: 126\n",
      "Add of existing embedding ID: 127\n",
      "Add of existing embedding ID: 128\n",
      "Add of existing embedding ID: 129\n",
      "Add of existing embedding ID: 130\n",
      "Add of existing embedding ID: 131\n",
      "Add of existing embedding ID: 132\n",
      "Add of existing embedding ID: 133\n",
      "Add of existing embedding ID: 134\n",
      "Add of existing embedding ID: 135\n",
      "Add of existing embedding ID: 136\n",
      "Add of existing embedding ID: 137\n",
      "Add of existing embedding ID: 138\n",
      "Add of existing embedding ID: 139\n",
      "Add of existing embedding ID: 140\n",
      "Add of existing embedding ID: 141\n",
      "Add of existing embedding ID: 142\n",
      "Add of existing embedding ID: 143\n",
      "Add of existing embedding ID: 144\n",
      "Add of existing embedding ID: 145\n",
      "Add of existing embedding ID: 146\n",
      "Add of existing embedding ID: 147\n",
      "Add of existing embedding ID: 148\n",
      "Add of existing embedding ID: 149\n",
      "Add of existing embedding ID: 150\n",
      "Add of existing embedding ID: 151\n",
      "Add of existing embedding ID: 152\n",
      "Add of existing embedding ID: 153\n",
      "Add of existing embedding ID: 154\n",
      "Add of existing embedding ID: 155\n",
      "Add of existing embedding ID: 156\n",
      "Add of existing embedding ID: 157\n",
      "Add of existing embedding ID: 158\n",
      "Add of existing embedding ID: 159\n",
      "Add of existing embedding ID: 160\n",
      "Add of existing embedding ID: 161\n",
      "Add of existing embedding ID: 162\n",
      "Add of existing embedding ID: 163\n",
      "Add of existing embedding ID: 164\n",
      "Add of existing embedding ID: 165\n",
      "Add of existing embedding ID: 166\n",
      "Add of existing embedding ID: 167\n",
      "Add of existing embedding ID: 168\n",
      "Add of existing embedding ID: 169\n",
      "Add of existing embedding ID: 170\n",
      "Add of existing embedding ID: 171\n",
      "Add of existing embedding ID: 172\n",
      "Add of existing embedding ID: 173\n",
      "Add of existing embedding ID: 174\n",
      "Add of existing embedding ID: 175\n",
      "Add of existing embedding ID: 176\n",
      "Add of existing embedding ID: 177\n",
      "Add of existing embedding ID: 178\n",
      "Add of existing embedding ID: 179\n",
      "Add of existing embedding ID: 180\n",
      "Add of existing embedding ID: 181\n",
      "Add of existing embedding ID: 182\n",
      "Add of existing embedding ID: 183\n",
      "Add of existing embedding ID: 184\n",
      "Add of existing embedding ID: 185\n",
      "Add of existing embedding ID: 186\n",
      "Add of existing embedding ID: 187\n",
      "Add of existing embedding ID: 188\n",
      "Add of existing embedding ID: 189\n",
      "Add of existing embedding ID: 190\n",
      "Add of existing embedding ID: 191\n",
      "Add of existing embedding ID: 192\n",
      "Add of existing embedding ID: 193\n",
      "Add of existing embedding ID: 194\n",
      "Add of existing embedding ID: 195\n",
      "Add of existing embedding ID: 196\n",
      "Add of existing embedding ID: 197\n",
      "Add of existing embedding ID: 198\n",
      "Add of existing embedding ID: 199\n",
      "Add of existing embedding ID: 200\n",
      "Add of existing embedding ID: 201\n",
      "Add of existing embedding ID: 202\n",
      "Add of existing embedding ID: 203\n",
      "Add of existing embedding ID: 204\n",
      "Add of existing embedding ID: 205\n",
      "Add of existing embedding ID: 206\n",
      "Add of existing embedding ID: 207\n",
      "Add of existing embedding ID: 208\n",
      "Add of existing embedding ID: 209\n",
      "Insert of existing embedding ID: 0\n",
      "Insert of existing embedding ID: 1\n",
      "Insert of existing embedding ID: 2\n",
      "Insert of existing embedding ID: 3\n",
      "Insert of existing embedding ID: 4\n",
      "Insert of existing embedding ID: 5\n",
      "Insert of existing embedding ID: 6\n",
      "Insert of existing embedding ID: 7\n",
      "Insert of existing embedding ID: 8\n",
      "Insert of existing embedding ID: 9\n",
      "Insert of existing embedding ID: 10\n",
      "Insert of existing embedding ID: 11\n",
      "Insert of existing embedding ID: 12\n",
      "Insert of existing embedding ID: 13\n",
      "Insert of existing embedding ID: 14\n",
      "Insert of existing embedding ID: 15\n",
      "Insert of existing embedding ID: 16\n",
      "Insert of existing embedding ID: 17\n",
      "Insert of existing embedding ID: 18\n",
      "Insert of existing embedding ID: 19\n",
      "Insert of existing embedding ID: 20\n",
      "Insert of existing embedding ID: 21\n",
      "Insert of existing embedding ID: 22\n",
      "Insert of existing embedding ID: 23\n",
      "Insert of existing embedding ID: 24\n",
      "Insert of existing embedding ID: 25\n",
      "Insert of existing embedding ID: 26\n",
      "Insert of existing embedding ID: 27\n",
      "Insert of existing embedding ID: 28\n",
      "Insert of existing embedding ID: 29\n",
      "Insert of existing embedding ID: 30\n",
      "Insert of existing embedding ID: 31\n",
      "Insert of existing embedding ID: 32\n",
      "Insert of existing embedding ID: 33\n",
      "Insert of existing embedding ID: 34\n",
      "Insert of existing embedding ID: 35\n",
      "Insert of existing embedding ID: 36\n",
      "Insert of existing embedding ID: 37\n",
      "Insert of existing embedding ID: 38\n",
      "Insert of existing embedding ID: 39\n",
      "Insert of existing embedding ID: 40\n",
      "Insert of existing embedding ID: 41\n",
      "Insert of existing embedding ID: 42\n",
      "Insert of existing embedding ID: 43\n",
      "Insert of existing embedding ID: 44\n",
      "Insert of existing embedding ID: 45\n",
      "Insert of existing embedding ID: 46\n",
      "Insert of existing embedding ID: 47\n",
      "Insert of existing embedding ID: 48\n",
      "Insert of existing embedding ID: 49\n",
      "Insert of existing embedding ID: 50\n",
      "Insert of existing embedding ID: 51\n",
      "Insert of existing embedding ID: 52\n",
      "Insert of existing embedding ID: 53\n",
      "Insert of existing embedding ID: 54\n",
      "Insert of existing embedding ID: 55\n",
      "Insert of existing embedding ID: 56\n",
      "Insert of existing embedding ID: 57\n",
      "Insert of existing embedding ID: 58\n",
      "Insert of existing embedding ID: 59\n",
      "Insert of existing embedding ID: 60\n",
      "Insert of existing embedding ID: 61\n",
      "Insert of existing embedding ID: 62\n",
      "Insert of existing embedding ID: 63\n",
      "Insert of existing embedding ID: 64\n",
      "Insert of existing embedding ID: 65\n",
      "Insert of existing embedding ID: 66\n",
      "Insert of existing embedding ID: 67\n",
      "Insert of existing embedding ID: 68\n",
      "Insert of existing embedding ID: 69\n",
      "Insert of existing embedding ID: 70\n",
      "Insert of existing embedding ID: 71\n",
      "Insert of existing embedding ID: 72\n",
      "Insert of existing embedding ID: 73\n",
      "Insert of existing embedding ID: 74\n",
      "Insert of existing embedding ID: 75\n",
      "Insert of existing embedding ID: 76\n",
      "Insert of existing embedding ID: 77\n",
      "Insert of existing embedding ID: 78\n",
      "Insert of existing embedding ID: 79\n",
      "Insert of existing embedding ID: 80\n",
      "Insert of existing embedding ID: 81\n",
      "Insert of existing embedding ID: 82\n",
      "Insert of existing embedding ID: 83\n",
      "Insert of existing embedding ID: 84\n",
      "Insert of existing embedding ID: 85\n",
      "Insert of existing embedding ID: 86\n",
      "Insert of existing embedding ID: 87\n",
      "Insert of existing embedding ID: 88\n",
      "Insert of existing embedding ID: 89\n",
      "Insert of existing embedding ID: 90\n",
      "Insert of existing embedding ID: 91\n",
      "Insert of existing embedding ID: 92\n",
      "Insert of existing embedding ID: 93\n",
      "Insert of existing embedding ID: 94\n",
      "Insert of existing embedding ID: 95\n",
      "Insert of existing embedding ID: 96\n",
      "Insert of existing embedding ID: 97\n",
      "Insert of existing embedding ID: 98\n",
      "Insert of existing embedding ID: 99\n",
      "Insert of existing embedding ID: 100\n",
      "Insert of existing embedding ID: 101\n",
      "Insert of existing embedding ID: 102\n",
      "Insert of existing embedding ID: 103\n",
      "Insert of existing embedding ID: 104\n",
      "Insert of existing embedding ID: 105\n",
      "Insert of existing embedding ID: 106\n",
      "Insert of existing embedding ID: 107\n",
      "Insert of existing embedding ID: 108\n",
      "Insert of existing embedding ID: 109\n",
      "Insert of existing embedding ID: 110\n",
      "Insert of existing embedding ID: 111\n",
      "Insert of existing embedding ID: 112\n",
      "Insert of existing embedding ID: 113\n",
      "Insert of existing embedding ID: 114\n",
      "Insert of existing embedding ID: 115\n",
      "Insert of existing embedding ID: 116\n",
      "Insert of existing embedding ID: 117\n",
      "Insert of existing embedding ID: 118\n",
      "Insert of existing embedding ID: 119\n",
      "Insert of existing embedding ID: 120\n",
      "Insert of existing embedding ID: 121\n",
      "Insert of existing embedding ID: 122\n",
      "Insert of existing embedding ID: 123\n",
      "Insert of existing embedding ID: 124\n",
      "Insert of existing embedding ID: 125\n",
      "Insert of existing embedding ID: 126\n",
      "Insert of existing embedding ID: 127\n",
      "Insert of existing embedding ID: 128\n",
      "Insert of existing embedding ID: 129\n",
      "Insert of existing embedding ID: 130\n",
      "Insert of existing embedding ID: 131\n",
      "Insert of existing embedding ID: 132\n",
      "Insert of existing embedding ID: 133\n",
      "Insert of existing embedding ID: 134\n",
      "Insert of existing embedding ID: 135\n",
      "Insert of existing embedding ID: 136\n",
      "Insert of existing embedding ID: 137\n",
      "Insert of existing embedding ID: 138\n",
      "Insert of existing embedding ID: 139\n",
      "Insert of existing embedding ID: 140\n",
      "Insert of existing embedding ID: 141\n",
      "Insert of existing embedding ID: 142\n",
      "Insert of existing embedding ID: 143\n",
      "Insert of existing embedding ID: 144\n",
      "Insert of existing embedding ID: 145\n",
      "Insert of existing embedding ID: 146\n",
      "Insert of existing embedding ID: 147\n",
      "Insert of existing embedding ID: 148\n",
      "Insert of existing embedding ID: 149\n",
      "Insert of existing embedding ID: 150\n",
      "Insert of existing embedding ID: 151\n",
      "Insert of existing embedding ID: 152\n",
      "Insert of existing embedding ID: 153\n",
      "Insert of existing embedding ID: 154\n",
      "Insert of existing embedding ID: 155\n",
      "Insert of existing embedding ID: 156\n",
      "Insert of existing embedding ID: 157\n",
      "Insert of existing embedding ID: 158\n",
      "Insert of existing embedding ID: 159\n",
      "Insert of existing embedding ID: 160\n",
      "Insert of existing embedding ID: 161\n",
      "Insert of existing embedding ID: 162\n",
      "Insert of existing embedding ID: 163\n",
      "Insert of existing embedding ID: 164\n",
      "Insert of existing embedding ID: 165\n",
      "Insert of existing embedding ID: 166\n",
      "Insert of existing embedding ID: 167\n",
      "Insert of existing embedding ID: 168\n",
      "Insert of existing embedding ID: 169\n",
      "Insert of existing embedding ID: 170\n",
      "Insert of existing embedding ID: 171\n",
      "Insert of existing embedding ID: 172\n",
      "Insert of existing embedding ID: 173\n",
      "Insert of existing embedding ID: 174\n",
      "Insert of existing embedding ID: 175\n",
      "Insert of existing embedding ID: 176\n",
      "Insert of existing embedding ID: 177\n",
      "Insert of existing embedding ID: 178\n",
      "Insert of existing embedding ID: 179\n",
      "Insert of existing embedding ID: 180\n",
      "Insert of existing embedding ID: 181\n",
      "Insert of existing embedding ID: 182\n",
      "Insert of existing embedding ID: 183\n",
      "Insert of existing embedding ID: 184\n",
      "Insert of existing embedding ID: 185\n",
      "Insert of existing embedding ID: 186\n",
      "Insert of existing embedding ID: 187\n",
      "Insert of existing embedding ID: 188\n",
      "Insert of existing embedding ID: 189\n",
      "Insert of existing embedding ID: 190\n",
      "Insert of existing embedding ID: 191\n",
      "Insert of existing embedding ID: 192\n",
      "Insert of existing embedding ID: 193\n",
      "Insert of existing embedding ID: 194\n",
      "Insert of existing embedding ID: 195\n",
      "Insert of existing embedding ID: 196\n",
      "Insert of existing embedding ID: 197\n",
      "Insert of existing embedding ID: 198\n",
      "Insert of existing embedding ID: 199\n",
      "Insert of existing embedding ID: 200\n",
      "Insert of existing embedding ID: 201\n",
      "Insert of existing embedding ID: 202\n",
      "Insert of existing embedding ID: 203\n",
      "Insert of existing embedding ID: 204\n",
      "Insert of existing embedding ID: 205\n",
      "Insert of existing embedding ID: 206\n",
      "Insert of existing embedding ID: 207\n",
      "Insert of existing embedding ID: 208\n",
      "Insert of existing embedding ID: 209\n"
     ]
    }
   ],
   "source": [
    "# Add the documents and metadata to the collection alongwith generic integer IDs. You can also feed the metadata information as IDs by combining the policy name and page no.\n",
    "\n",
    "insurance_collection.add(\n",
    "    documents= documents_list,\n",
    "    ids = [str(i) for i in range(0, len(documents_list))],\n",
    "    metadatas = metadata_list\n",
    ")"
   ]
  },
  {
   "cell_type": "markdown",
   "metadata": {},
   "source": [
    "Here , we added all the documents and their associated metadata to the ChromaDB collection using generic integer IDs (as strings) for each document; the comment notes that we could alternatively use more descriptive IDs by combining the policy name and page number.\n"
   ]
  },
  {
   "cell_type": "code",
   "execution_count": 36,
   "metadata": {
    "colab": {
     "base_uri": "https://localhost:8080/"
    },
    "id": "92Nr0XTVykX-",
    "outputId": "488da72c-8b8a-4a43-b028-4765cbe61915"
   },
   "outputs": [
    {
     "data": {
      "text/plain": [
       "{'ids': ['0', '1', '2'],\n",
       " 'embeddings': array([[ 0.006099  ,  0.01558264, -0.00211374, ..., -0.00770505,\n",
       "         -0.0159012 , -0.04735849],\n",
       "        [-0.00160233,  0.00841467, -0.02306825, ..., -0.01373609,\n",
       "         -0.00756927, -0.04763069],\n",
       "        [-0.01758311,  0.00796102,  0.00548291, ..., -0.01245808,\n",
       "         -0.00420334, -0.03522025]]),\n",
       " 'documents': ['Part A\\n<<Date>>\\n<<Policyholder’s Name>>\\n<<Policyholder’s Address>>\\n<<Policyholder’s Contact Number>>\\nDear <<Policyholder’s Name>>,\\nSub: Your Policy no. << >>\\nWe are glad to inform you that your proposal has been accepted and the HDFC Life Easy Health (“Policy”)\\nbeing this document, has been issued. We have made every effort to design your Policy in a simple format. We\\nhave highlighted items of importance so that you may recognize them easily.\\nPolicy document:\\nAs an evidence of the insurance contract between HDFC Life Insurance Company Limited and you, the Policy\\nis enclosed herewith. Please preserve this document safely and also inform your nominees about the same. A\\ncopy of your proposal form and other relevant documents submitted by you is also enclosed for your\\ninformation and record.\\nCancellation in the Free-Look Period:\\n<< In case you are not agreeable to any of the terms and conditions stated in the Policy, you have the option to\\nreturn the Policy to us for cancellation stating the reasons thereof, within 30 days from the date of receipt of the\\nPolicy as your Policy is an electronic Policy / purchased through Distance Marketing mode. On receipt of your\\nletter along with the original Policy (original Policy Document is not required for policies in dematerialised\\nform), we shall arrange to refund the Premium paid by you, subject to deduction of the proportionate risk\\nPremium for the period of cover and the expenses incurred by us for medical examination (if any) and stamp\\nduty charges. / In case you are not agreeable to any of the terms and conditions stated in the Policy, you have the\\noption to return the Policy to us for cancellation stating the reasons thereof, within 15 days from the date of\\nreceipt of the Policy. On receipt of your letter along with the original Policy (original Policy Document is not\\nrequired for policies in dematerialised form), we shall arrange to refund the Premium paid by you, subject to\\ndeduction of the proportionate risk Premium for the period of cover and the expenses incurred by us for medical\\nexamination (if any) and stamp duty charges. >>\\nContacting us:\\nThe address for correspondence is specified below. To enable us to serve you better, you are requested to quote\\nyour Policy number in all future correspondence. In case you are keen to know more about our products and\\nservices, we would request you to talk to our Certified Financial Consultant (Insurance Agent) who has advised\\nyou while taking this Policy. The details of your Certified Financial Consultant including contact details are\\nlisted below.\\nTo contact us in case of any grievance, please refer to Part G. In case you are not satisfied with our response,\\nyou can also approach the Insurance Ombudsman in your region.\\nThanking you for choosing HDFC Life Insurance Company Limited and looking forward to serving you in the\\nyears ahead,\\nYours sincerely,\\n<< Designation of the Authorised Signatory >>\\nBranch Address: <<Branch Address>>\\nAgency/Intermediary Code: <<Agency/Intermediary Code>>\\nAgency/Intermediary Name: <<Agency/Intermediary Name>>\\nAgency/Intermediary Telephone Number: <<Agency/Intermediary mobile &\\nlandline number>>',\n",
       "  'Agency/Intermediary Contact Details: <<Agency/Intermediary address>>\\nth\\nAddress for Correspondence: HDFC Life Insurance Company Limited, 11 Floor Lodha Excelus, Apollo\\nMills Compound, N.M. Joshi Marg, Mahalaxmi, Mumbai-400011.\\nth\\nRegd. Off: Lodha Excelus, 13 Floor, Apollo Mills Compound, N. M. Joshi Marg, Mahalaxmi, Mumbai - 400\\n011.\\nCall 1860-267-9999 (local charges apply). DO NOT prefix any country code e.g. +91 or 00. Available Mon- Sat\\nfrom 10 am to 7 pm | Email – service@hdfclife.com | NRIservice@hdfclife.com (For NRI customers only) Visit\\n– www.hdfclife.com . CIN: L65110MH2000PLC128245.',\n",
       "  \"POLICY DOCUMENT- HDFC LIFE EASY HEALTH\\nUnique Identification Number: <<101N110V03>>\\nYour Policy is a Single Premium paying non participating non linked fixed benefit health plan. This document is\\nthe evidence of a contract between HDFC Life Insurance Company Limited and the Policyholder as described in\\nthe Policy Schedule given below. This Policy is based on the Proposal made by the within named Policyholder\\nand submitted to the Company along with the required documents, declarations, statements, any response given\\nto the Short Medical Questionnaire (SMQ) by the Life Assured, and other information received by the Company\\nfrom the Policyholder, Life Assured or on behalf of the Policyholder. This Policy is effective upon receipt and\\nrealisation, by the Company, of the consideration payable as Premium under the Policy. This Policy is written\\nunder and will be governed by the applicable laws in force in India and all Premiums and Benefits are expressed\\nand payable in Indian Rupees.\\nPOLICY SCHEDULE\\nPolicy Number: <<__________>>\\nClient id:<<_________>>\\nPolicyholder Details\\nName << >>\\nAddress << >>\\nLife Assured Details\\nName << >>\\nDate of Birth << dd/mm/yyyy >>\\nAge on the Date of Risk\\n<< >> years\\nCommencement\\nAge Admitted <<Yes/No>>\\nPolicy Details\\nDate of Commencement of Policy <<Date>>\\nDate of Risk Commencement << Risk Commencement Date >>\\nDate of Issue/Inception of Policy << Issue Date>>\\nPlan Option <<>>\\nSum Insured << >>\\nSingle Premium Rs. << >>\\nPremium Paying Term Single\\nPolicy Term 5 years\\nCover Ceasing Date << dd/mm/yyyy >>\\nThe premium amount is exclusive of taxes, other statutory levies and any underwriting extra premium.\\nNOMINATION SCHEDULE\\nNominee’s Name <<Nominee-1 >> <<Nominee-2 >>\\nDate of Birth of Nominee << dd/mm/yyyy >> << dd/mm/yyyy >>\\nNomination Percentage << >> % << >> %\\nNominee's Address << >> << >>\\nAppointee’s Name\\n(Applicable where the nominee is a << >>\\nminor)\"],\n",
       " 'uris': None,\n",
       " 'data': None,\n",
       " 'metadatas': [{'Page_No.': 1,\n",
       "   'Policy_Name': 'HDFC-Life-Easy-Health-101N110V03-Policy-Bond-Single-Pay'},\n",
       "  {'Page_No.': 2,\n",
       "   'Policy_Name': 'HDFC-Life-Easy-Health-101N110V03-Policy-Bond-Single-Pay'},\n",
       "  {'Page_No.': 3,\n",
       "   'Policy_Name': 'HDFC-Life-Easy-Health-101N110V03-Policy-Bond-Single-Pay'}],\n",
       " 'included': [<IncludeEnum.embeddings: 'embeddings'>,\n",
       "  <IncludeEnum.documents: 'documents'>,\n",
       "  <IncludeEnum.metadatas: 'metadatas'>]}"
      ]
     },
     "execution_count": 36,
     "metadata": {},
     "output_type": "execute_result"
    }
   ],
   "source": [
    "# Let's take a look at the first few entries in the collection\n",
    "\n",
    "insurance_collection.get(\n",
    "    ids = ['0','1','2'],\n",
    "    include = ['embeddings', 'documents', 'metadatas']\n",
    ")"
   ]
  },
  {
   "cell_type": "markdown",
   "metadata": {},
   "source": [
    "Let's retrieve or create a ChromaDB collection named 'Insurance_Cache' using our embedding function and then use `peek()` to inspect a summary of its current contents.\n"
   ]
  },
  {
   "cell_type": "code",
   "execution_count": 37,
   "metadata": {
    "id": "-AzsxvBsdkIg"
   },
   "outputs": [],
   "source": [
    "cache_collection = client.get_or_create_collection(name='Insurance_Cache', embedding_function=embedding_function)"
   ]
  },
  {
   "cell_type": "code",
   "execution_count": 38,
   "metadata": {
    "colab": {
     "base_uri": "https://localhost:8080/"
    },
    "id": "ayqqoZWlAGXY",
    "outputId": "fdf9d14d-59f0-4db2-abf0-7d5c9789cd5c",
    "scrolled": true
   },
   "outputs": [
    {
     "data": {
      "text/plain": [
       "{'ids': ['explain some benifits of HDFC-Life-Sampoorna-Jeevan-101N158V04-Policy?'],\n",
       " 'embeddings': array([[ 0.00998211,  0.0102296 ,  0.00648631, ..., -0.02881887,\n",
       "         -0.00581258, -0.01874051]]),\n",
       " 'documents': ['explain some benifits of HDFC-Life-Sampoorna-Jeevan-101N158V04-Policy?'],\n",
       " 'uris': None,\n",
       " 'data': None,\n",
       " 'metadatas': [{'distances0': '0.20238658785820007',\n",
       "   'distances1': '0.2178524285554886',\n",
       "   'distances2': '0.2669825255870819',\n",
       "   'distances3': '0.2669825255870819',\n",
       "   'distances4': '0.27450525760650635',\n",
       "   'distances5': '0.27676403522491455',\n",
       "   'distances6': '0.2779393196105957',\n",
       "   'distances7': '0.2794364094734192',\n",
       "   'distances8': '0.2794364094734192',\n",
       "   'distances9': '0.2797224521636963',\n",
       "   'documents0': 'A.1. Policy Preamble\\nHDFC Life Sampoorna Jeevan Plan is a non-linked participating individual life insurance savings Policy. A participating\\nPolicyentitles the Policyholder to participate in the surplus (profits) of the Company. The Terms and Conditions and the Policy\\nSchedule are issued based on the proposal form submitted by the Life Assured /Policyholder.\\nA.2. Policy Schedule\\nName of the Policy: HDFC Life Sampoorna Jeevan\\nUIN of the Product 101N158V04\\nPolicy Number\\nDate of the Proposal\\nPolicy Commencement Date\\nRisk Commencement Date\\nAuto Vesting if Life Assured is Minor\\nBasic Sum Assured\\nSum Assured on Death\\nMaturity Age Variant <<Sampoorna Jeevan75/Sampoorna Jeevan100>>\\nGuaranteed Benefit Option <<Lumpsum/Income/Lumpsum with Income/Income with Lumpsum>>\\nGuaranteed Income Benefit (GIB) INR xxxx\\nFirst GIB Date\\nGuaranteed Income Benefit Date\\nLast GIB Date\\nBonus Option <<SRB/SRIB/Cash/SRB+Cash/SRIB+Cash>>\\nPaid-Up Additions <<Not applicable / Yes / No>>\\nDescription Sum Assured Rider Cessation Date\\n(Rs.) Premium(Rs)\\n«COMPDESC_0 «SUMINS_002» «CESSDATE_002»\\n02»\\nRider (s)\\n«COMPDESC_0 «SUMINS_003» «CESSDATE_003»\\n03»\\n«COMPDESC_0 «SUMINS_004» «CESSDATE_004»\\n04»\\nUIN of the Rider(s)\\nPremium Amount\\nFrequency of Premium Payment\\nDue Date of Premium Payment\\nPremium Payment Term\\nPolicy Term\\nName and Address of the Policyholder\\nDate of Birth of the Policyholder\\nName and Address of the Life Assured\\nAge of Life Assured At Entry\\nDate of Birth\\nWhether Age admitted?\\nName of Age of Relationship to\\nProportion (%)\\nNominee/(s) Nominee/(s) Life Assured\\nName of Nominee/(s) and relationship to Life\\nAssured\\nName of Appointee, If Nominee is Minor\\nPolicy Maturity Date\\nSpecial Conditions',\n",
       "   'documents1': 'A.1. Policy Preamble HDFC Life Sampoorna Jeevan Plan is a non-linked participating individual life insurance savings Policy. A participating Policyentitles the Policyholder to participate in the surplus (profits) of the Company. The Terms and Conditions and the Policy Schedule are issued based on the proposal form submitted by the Life Assured /Policyholder. A.2. Policy Schedule [[\"Name of the Policy:\", \"HDFC Life Sampoorna Jeevan\", null, null, null, null], [\"UIN of the Product\", \"101N158V04\", null, null, null, null], [\"Policy Number\", \"\", null, null, null, null], [\"Date of the Proposal\", \"\", null, null, null, null], [\"Policy Commencement Date\", \"\", null, null, null, null], [\"Risk Commencement Date\", \"\", null, null, null, null], [\"Auto Vesting if Life Assured is Minor\", \"\", null, null, null, null], [\"Basic Sum Assured\", \"\", null, null, null, null], [\"Sum Assured on Death\", \"\", null, null, null, null], [\"Maturity Age Variant\", \"<<Sampoorna Jeevan75/Sampoorna Jeevan100>>\", null, null, null, null], [\"Guaranteed Benefit Option\", \"<<Lumpsum/Income/Lumpsum with Income/Income with Lumpsum>>\", null, null, null, null], [\"Guaranteed Income Benefit (GIB)\", \"INR xxxx\", null, null, null, null], [\"Guaranteed Income Benefit Date\", \"First GIB Date\", null, \"\", null, null], [null, \"Last GIB Date\", null, \"\", null, null], [\"Bonus Option\", \"<<SRB/SRIB/Cash/SRB+Cash/SRIB+Cash>>\", null, null, null, null], [\"Paid-Up Additions\", \"<<Not applicable / Yes / No>>\", null, null, null, null], [\"Rider (s)\", \"Description\\\\n\\\\u00abCOMPDESC_0\\\\n02\\\\u00bb\\\\n\\\\u00abCOMPDESC_0\\\\n03\\\\u00bb\\\\n\\\\u00abCOMPDESC_0\\\\n04\\\\u00bb\", \"Sum Assured\\\\n(Rs.)\", \"Rider\\\\nPremium(Rs)\", \"Cessation Date\", null], [null, null, \"\\\\u00abSUMINS_002\\\\u00bb\", \"\", \"\\\\u00abCESSDATE_002\\\\u00bb\", null], [null, null, \"\\\\u00abSUMINS_003\\\\u00bb\", \"\", \"\\\\u00abCESSDATE_003\\\\u00bb\", null], [null, null, \"\\\\u00abSUMINS_004\\\\u00bb\", \"\", \"\\\\u00abCESSDATE_004\\\\u00bb\", null], [\"UIN of the Rider(s)\", \"\", null, null, null, null], [\"Premium Amount\", \"\", null, null, null, null], [\"Frequency of Premium Payment\", \"\", null, null, null, null], [\"Due Date of Premium Payment\", \"\", null, null, null, null], [\"Premium Payment Term\", \"\", null, null, null, null], [\"Policy Term\", \"\", null, null, null, null], [\"Name and Address of the Policyholder\", \"\", null, null, null, null], [\"Date of Birth of the Policyholder\", \"\", null, null, null, null], [\"Name and Address of the Life Assured\", \"\", null, null, null, null], [\"Age of Life Assured At Entry\\\\nDate of Birth\\\\nWhether Age admitted?\", \"\", null, null, null, null], [\"Name of Nominee/(s) and relationship to Life\\\\nAssured\", \"Name of\\\\nNominee/(s)\", \"Age of\\\\nNominee/(s)\", \"Relationship to\\\\nLife Assured\", null, \"Proportion (%)\"], [null, \"\", \"\", \"\", null, \"\"], [null, \"\", \"\", \"\", null, \"\"], [null, \"\", \"\", \"\", null, \"\"], [\"Name of Appointee, If Nominee is Minor\", \"\", null, null, null, null], [\"Policy Maturity Date\", \"\", null, null, null, null], [\"Special Conditions\", \"\", null, null, null, null]]',\n",
       "   'documents2': 'Please communicate any changes in your mailing address or any other communication details as soon as possible. This\\nwill enable us to serve you better.\\nF.9. Entire Contract: This Policy comprises of the terms and conditions set forth in this Policy Document, the Policy\\nSchedule, and the endorsements, if any, made on or applicable to this Policy, which shall form an integral part and the\\nentire contract evidenced by this Policy. The liability of the Company is at all times subject to the terms and conditions\\nof this Policy and the endorsements made from time to time.\\nF.10. Risk Factors:\\nThis is a Non- Linked, Participating IndividualLife Insurance Savings Product. HDFC Life Insurance Company Limited is\\nonly the name of the Insurance Company and HDFC Life Sampoorna JeevanPlan is only the name of the product and\\ndoes not in any way indicate the quality of the product, its future prospects or returns.\\nF.11. Governing Law and Jurisdiction: This Policy shall be governed by and interpreted in accordance with the laws of\\nIndia. All actions, suits and proceedings under this Policy shall be subject to the exclusive jurisdiction of the courts in\\nIndia.\\nF.12. Death Benefit for Minor Life:If Age of the Life Assured is greater than or equal to 12 years, the risk will commence\\nimmediately from the Policy Commencement Date. If the Age of Life Assured is less than 12 years, the risk will\\ncommenceunder the Policy (that is full death benefitwill become payable on death of Life Assured)on the last day of\\nsecond Policy Year.If the Age of Life Assured is less than 12 years and if the Life Assured dies before the last day of the\\nsecond Policy Year, the Death Benefit shall be restricted to refund of Premiums without interest.\\nF.13. Suicide Exclusion: In case of death due to suicide within 12 months from the Date of Commencement of Risk under\\nthe policy or from the date of Revival of the policy, as applicable, the Eligible Person shall be entitled to at least 80% of\\nthe Total Premiums Paid till the date of death or the Surrender Value available as on the date of death whichever is\\nhigher, provided the policy is in force.\\nF.14. Grace Period: A Grace Period of fifteen (15) days from the Premium payment due date for Policies with monthly\\nPremium payment mode and thirty (30) days from the Premium payment due date for all other available Premium\\npayment modes will be allowed for payments of each Premium. During the Grace Period, the Policy shall continue to be\\nIn Force for availing the Death Benefit. Any unpaid Premium is deductible from the Benefits that may arise during the\\nGrace Period. The Company shall pay the Death Benefit for death during Grace Period, subject to the deduction of the\\nPremiums due as well as balance Premiums for the Policy Year, if any under the Policy.\\nIf the Premiums due are not paid within the Grace Period, the Policy will be eligible for non-forfeiture options as\\nexplained in Clause D.3.\\nF.15. Requirements for maturity claims and death claims: In the event of a claim for Maturity Benefit or Death Benefit\\narising under this Policy, the Eligible Person shall intimate to the Company in writing of the claim and provide the\\nfollowing documents to the Company to enable the Company to process the claim:\\nF.15.1.In case of maturity claims:\\n(i) Original Policy Document; and\\n(ii) Discharge Form\\n(iii) Self-attested ID Proof, and\\n(iv) Bank account details along with IFSC code (payment would be made vide NEFT only) in case there is a change in\\nthe bank details already provided.\\nFor payment of Survival Benefit, requirements specified in (iii) & (iv) above need to be furnished\\nF.15.2.In case of death claims, except death claims arising out of accidents or unnatural deaths',\n",
       "   'documents3': 'Please communicate any changes in your mailing address or any other communication details as soon as possible. This will enable us to serve you better. F.9. Entire Contract: This Policy comprises of the terms and conditions set forth in this Policy Document, the Policy Schedule, and the endorsements, if any, made on or applicable to this Policy, which shall form an integral part and the entire contract evidenced by this Policy. The liability of the Company is at all times subject to the terms and conditions of this Policy and the endorsements made from time to time. F.10. Risk Factors: This is a Non- Linked, Participating IndividualLife Insurance Savings Product. HDFC Life Insurance Company Limited is only the name of the Insurance Company and HDFC Life Sampoorna JeevanPlan is only the name of the product and does not in any way indicate the quality of the product, its future prospects or returns. F.11. Governing Law and Jurisdiction: This Policy shall be governed by and interpreted in accordance with the laws of India. All actions, suits and proceedings under this Policy shall be subject to the exclusive jurisdiction of the courts in India. F.12. Death Benefit for Minor Life:If Age of the Life Assured is greater than or equal to 12 years, the risk will commence immediately from the Policy Commencement Date. If the Age of Life Assured is less than 12 years, the risk will commenceunder the Policy (that is full death benefitwill become payable on death of Life Assured)on the last day of second Policy Year.If the Age of Life Assured is less than 12 years and if the Life Assured dies before the last day of the second Policy Year, the Death Benefit shall be restricted to refund of Premiums without interest. F.13. Suicide Exclusion: In case of death due to suicide within 12 months from the Date of Commencement of Risk under the policy or from the date of Revival of the policy, as applicable, the Eligible Person shall be entitled to at least 80% of the Total Premiums Paid till the date of death or the Surrender Value available as on the date of death whichever is higher, provided the policy is in force. F.14. Grace Period: A Grace Period of fifteen (15) days from the Premium payment due date for Policies with monthly Premium payment mode and thirty (30) days from the Premium payment due date for all other available Premium payment modes will be allowed for payments of each Premium. During the Grace Period, the Policy shall continue to be In Force for availing the Death Benefit. Any unpaid Premium is deductible from the Benefits that may arise during the Grace Period. The Company shall pay the Death Benefit for death during Grace Period, subject to the deduction of the Premiums due as well as balance Premiums for the Policy Year, if any under the Policy. If the Premiums due are not paid within the Grace Period, the Policy will be eligible for non-forfeiture options as explained in Clause D.3. F.15. Requirements for maturity claims and death claims: In the event of a claim for Maturity Benefit or Death Benefit arising under this Policy, the Eligible Person shall intimate to the Company in writing of the claim and provide the following documents to the Company to enable the Company to process the claim: F.15.1.In case of maturity claims: (i) Original Policy Document; and (ii) Discharge Form (iii) Self-attested ID Proof, and (iv) Bank account details along with IFSC code (payment would be made vide NEFT only) in case there is a change in the bank details already provided. For payment of Survival Benefit, requirements specified in (iii) & (iv) above need to be furnished F.15.2.In case of death claims, except death claims arising out of accidents or unnatural deaths',\n",
       "   'documents4': 'HDFC Life Sanchay Plus (UIN – 101N134V19) – Appendix 9 (c) – Policy Bond A non-participating, non-linked savings insurance plan POLICY DOCUMENT- HDFC Life Sanchay Plus Unique Identification Number: <<101N134V19>> Your Policy is a non-participating non-linked savings insurance policy. This document is the evidence of a contract between HDFC Life Insurance Company Limited and the Policyholder as described in the Policy Schedule given below. This Policy is based on the proposal made by the within named Policyholder and submitted to the Company along with the required documents, declarations, statements, any response given to medical questionnaire by the Life Assured, applicable medical evidence and other information received by the Company from the Policyholder, Life Assured or on behalf of the Policyholder (“Proposal”). This Policy is effective upon receipt and realisation, by the Company, of the consideration payable as First Premium under the Policy. This Policy is written under and will be governed by the applicable laws in force in India and all Premiums and Benefits are expressed and payable in Indian Rupees. POLICY SCHEDULE Policy number: <<>> Client ID: <<>> Policyholder Details [[\"Name\", \"<<>>\"], [\"Address\", \"<<>>\"]] Life Assured Details [[\"Name\", \"<<>>\"], [\"Address\", \"<<>>\"], [\"Date of Birth\", \"<< dd/mm/yyyy >>\"], [\"Age on the Date of Risk\\\\nCommencement\", \"<<>> years\"], [\"Age Admitted\", \"<<Yes/No>>\"]] Policy Details [[\"Plan Option\", \"Life Long Income\"], [\"Date of Risk Commencement\", \"<< RCD >>\"], [\"Date of Issue/Inception of Policy\", \"<< First Issue Date>>\"], [\"Premium Due Date(s)\", \"<<dd /month>>\"], [\"Sum Assured\", \"Rs. <<>>\"], [\"Sum Assured on Death\", \"Rs. <<>>\"], [\"Guaranteed Sum Assured\\\\non Maturity\", \"Rs. <<>>\"], [\"Policy Term\", \"<<>> years\"], [\"Premium Paying Term\", \"<<>> years\"], [\"Frequency of Premium Payment\", \"<< Annual/Half-yearly/ Quarterly/ Monthly/ Single >>\"], [\"Premium per Frequency of\\\\nPremium Payment\", \"Rs. <<>>\"], [\"Underwriting Extra Premium per Frequenc\\\\nPremium Payment\", \"y of\\\\nRs. <<>>\"], [\"Total Premium per Frequency of\\\\nPremium Payment\", \"Rs. <<>>\"], [\"Annualized Premium\", \"Rs. <<>>\"], [\"Guaranteed Income on\\\\nMaturity\", \"Rs. <<>>\"], [\"Payout Period\", \"<<>> years starting from year <<>>\"], [\"Income Payout Frequency\", \"<< Annual/Half-yearly/ Quarterly/ Monthly >>\"], [\"Grace Period\", \"<< 15 (for Monthly premium paying frequency) 30 (for other pre\\\\npayment frequencies) >> days\"]] premium Page 3 of 27',\n",
       "   'documents5': 'HDFC Life Sanchay Plus (UIN – 101N134V19) – Appendix 9 (c) – Policy Bond\\nA non-participating, non-linked savings insurance plan\\nPOLICY DOCUMENT- HDFC Life Sanchay Plus\\nUnique Identification Number: <<101N134V19>>\\nYour Policy is a non-participating non-linked savings insurance policy. This document is the evidence of a contract between\\nHDFC Life Insurance Company Limited and the Policyholder as described in the Policy Schedule given below. This Policy is\\nbased on the proposal made by the within named Policyholder and submitted to the Company along with the required documents,\\ndeclarations, statements, any response given to medical questionnaire by the Life Assured, applicable medical evidence and other\\ninformation received by the Company from the Policyholder, Life Assured or on behalf of the Policyholder (“Proposal”). This\\nPolicy is effective upon receipt and realisation, by the Company, of the consideration payable as First Premium under the Policy.\\nThis Policy is written under and will be governed by the applicable laws in force in India and all Premiums and Benefits are\\nexpressed and payable in Indian Rupees.\\nPOLICY SCHEDULE\\nPolicy number: <<>>\\nClient ID: <<>>\\nPolicyholder Details\\nName <<>>\\nAddress <<>>\\nLife Assured Details\\nName <<>>\\nAddress <<>>\\nDate of Birth << dd/mm/yyyy >>\\nAge on the Date of Risk\\n<<>> years\\nCommencement\\nAge Admitted <<Yes/No>>\\nPolicy Details\\nPlan Option Life Long Income\\nDate of Risk Commencement << RCD >>\\nDate of Issue/Inception of Policy << First Issue Date>>\\nPremium Due Date(s) <<dd /month>>\\nSum Assured Rs. <<>>\\nSum Assured on Death Rs. <<>>\\nGuaranteed Sum Assured\\nRs. <<>>\\non Maturity\\nPolicy Term <<>> years\\nPremium Paying Term <<>> years\\nFrequency of Premium Payment << Annual/Half-yearly/ Quarterly/ Monthly/ Single >>\\nPremium per Frequency of\\nRs. <<>>\\nPremium Payment\\nUnderwriting Extra Premium per Frequency of\\nRs. <<>>\\nPremium Payment\\nTotal Premium per Frequency of\\nRs. <<>>\\nPremium Payment\\nAnnualized Premium Rs. <<>>\\nGuaranteed Income on\\nRs. <<>>\\nMaturity\\nPayout Period <<>> years starting from year <<>>\\nIncome Payout Frequency << Annual/Half-yearly/ Quarterly/ Monthly >>\\n<< 15 (for Monthly premium paying frequency) 30 (for other premium\\nGrace Period\\npayment frequencies) >> days\\nPage 3 of 27',\n",
       "   'documents6': 'POLICY DOCUMENT- HDFC LIFE EASY HEALTH Unique Identification Number: <<101N110V03>> Your Policy is a Single Premium paying non participating non linked fixed benefit health plan. This document is the evidence of a contract between HDFC Life Insurance Company Limited and the Policyholder as described in the Policy Schedule given below. This Policy is based on the Proposal made by the within named Policyholder and submitted to the Company along with the required documents, declarations, statements, any response given to the Short Medical Questionnaire (SMQ) by the Life Assured, and other information received by the Company from the Policyholder, Life Assured or on behalf of the Policyholder. This Policy is effective upon receipt and realisation, by the Company, of the consideration payable as Premium under the Policy. This Policy is written under and will be governed by the applicable laws in force in India and all Premiums and Benefits are expressed and payable in Indian Rupees. POLICY SCHEDULE Policy Number: <<__________>> Client id:<<_________>> Policyholder Details Address Life Assured Details [[\"Name\", \"<< >>\"], [\"Date of Birth\", \"<< dd/mm/yyyy >>\"], [\"Age on the Date of Risk\\\\nCommencement\", \"<< >> years\"], [\"Age Admitted\", \"<<Yes/No>>\"]] Policy Details [[\"Date of Commencement of Policy\", \"<<Date>>\"], [\"Date of Risk Commencement\", \"<< Risk Commencement Date >>\"], [\"Date of Issue/Inception of Policy\", \"<< Issue Date>>\"], [\"Plan Option\", \"<<>>\"], [\"Sum Insured\", \"<< >>\"], [\"Single Premium\", \"Rs. << >>\"], [\"Premium Paying Term\", \"Single\"], [\"Policy Term\", \"5 years\"], [\"Cover Ceasing Date\", \"<< dd/mm/yyyy >>\"]] The premium amount is exclusive of taxes, other statutory levies and any underwriting extra premium. NOMINATION SCHEDULE [[\"Nominee\\\\u2019s Name\", \"<<Nominee-1 >>\", \"<<Nominee-2 >>\"], [\"Date of Birth of Nominee\", \"<< dd/mm/yyyy >>\", \"<< dd/mm/yyyy >>\"], [\"Nomination Percentage\", \"<< >> %\", \"<< >> %\"], [\"Nominee\\'s Address\", \"<< >>\", \"<< >>\"], [\"Appointee\\\\u2019s Name\\\\n(Applicable where the nominee is a\\\\nminor)\", \"<< >>\", null]]',\n",
       "   'documents7': 'HDFC Life Sanchay Plus (UIN – 101N134V19) – Appendix 9 (c) – Policy Bond\\nA non-participating, non-linked savings insurance plan\\nPart E\\n1. Additional Servicing Charges\\nNo additional servicing charges are applicable in this policy.\\nPage 12 of 27',\n",
       "   'documents8': 'HDFC Life Sanchay Plus (UIN – 101N134V19) – Appendix 9 (c) – Policy Bond A non-participating, non-linked savings insurance plan Part E 1. Additional Servicing Charges No additional servicing charges are applicable in this policy. Page 12 of 27',\n",
       "   'documents9': \"POLICY DOCUMENT- HDFC LIFE EASY HEALTH\\nUnique Identification Number: <<101N110V03>>\\nYour Policy is a Single Premium paying non participating non linked fixed benefit health plan. This document is\\nthe evidence of a contract between HDFC Life Insurance Company Limited and the Policyholder as described in\\nthe Policy Schedule given below. This Policy is based on the Proposal made by the within named Policyholder\\nand submitted to the Company along with the required documents, declarations, statements, any response given\\nto the Short Medical Questionnaire (SMQ) by the Life Assured, and other information received by the Company\\nfrom the Policyholder, Life Assured or on behalf of the Policyholder. This Policy is effective upon receipt and\\nrealisation, by the Company, of the consideration payable as Premium under the Policy. This Policy is written\\nunder and will be governed by the applicable laws in force in India and all Premiums and Benefits are expressed\\nand payable in Indian Rupees.\\nPOLICY SCHEDULE\\nPolicy Number: <<__________>>\\nClient id:<<_________>>\\nPolicyholder Details\\nName << >>\\nAddress << >>\\nLife Assured Details\\nName << >>\\nDate of Birth << dd/mm/yyyy >>\\nAge on the Date of Risk\\n<< >> years\\nCommencement\\nAge Admitted <<Yes/No>>\\nPolicy Details\\nDate of Commencement of Policy <<Date>>\\nDate of Risk Commencement << Risk Commencement Date >>\\nDate of Issue/Inception of Policy << Issue Date>>\\nPlan Option <<>>\\nSum Insured << >>\\nSingle Premium Rs. << >>\\nPremium Paying Term Single\\nPolicy Term 5 years\\nCover Ceasing Date << dd/mm/yyyy >>\\nThe premium amount is exclusive of taxes, other statutory levies and any underwriting extra premium.\\nNOMINATION SCHEDULE\\nNominee’s Name <<Nominee-1 >> <<Nominee-2 >>\\nDate of Birth of Nominee << dd/mm/yyyy >> << dd/mm/yyyy >>\\nNomination Percentage << >> % << >> %\\nNominee's Address << >> << >>\\nAppointee’s Name\\n(Applicable where the nominee is a << >>\\nminor)\",\n",
       "   'ids0': '93',\n",
       "   'ids1': 'HDFC-Life-Sampoorna-Jeevan-101N158V04-Policy-Document (1)_Page_Page 2',\n",
       "   'ids2': '109',\n",
       "   'ids3': 'HDFC-Life-Sampoorna-Jeevan-101N158V04-Policy-Document (1)_Page_Page 18',\n",
       "   'ids4': 'HDFC-Life-Sanchay-Plus-Life-Long-Income-Option-101N134V19-Policy-Document_Page_Page 3',\n",
       "   'ids5': '132',\n",
       "   'ids6': 'HDFC-Life-Easy-Health-101N110V03-Policy-Bond-Single-Pay_Page_Page 3',\n",
       "   'ids7': '141',\n",
       "   'ids8': 'HDFC-Life-Sanchay-Plus-Life-Long-Income-Option-101N134V19-Policy-Document_Page_Page 12',\n",
       "   'ids9': '2',\n",
       "   'included0': 'd',\n",
       "   'included1': 'i',\n",
       "   'included2': 's',\n",
       "   'included3': 't',\n",
       "   'included4': 'a',\n",
       "   'included5': 'n',\n",
       "   'included6': 'c',\n",
       "   'included7': 'e',\n",
       "   'included8': 's',\n",
       "   'metadatas0': \"{'Page_No.': 2, 'Policy_Name': 'HDFC-Life-Sampoorna-Jeevan-101N158V04-Policy-Document (1)'}\",\n",
       "   'metadatas1': \"{'Page_No.': 'Page 2', 'Policy_Name': 'HDFC-Life-Sampoorna-Jeevan-101N158V04-Policy-Document (1)'}\",\n",
       "   'metadatas2': \"{'Page_No.': 18, 'Policy_Name': 'HDFC-Life-Sampoorna-Jeevan-101N158V04-Policy-Document (1)'}\",\n",
       "   'metadatas3': \"{'Page_No.': 'Page 18', 'Policy_Name': 'HDFC-Life-Sampoorna-Jeevan-101N158V04-Policy-Document (1)'}\",\n",
       "   'metadatas4': \"{'Page_No.': 'Page 3', 'Policy_Name': 'HDFC-Life-Sanchay-Plus-Life-Long-Income-Option-101N134V19-Policy-Document'}\",\n",
       "   'metadatas5': \"{'Page_No.': 3, 'Policy_Name': 'HDFC-Life-Sanchay-Plus-Life-Long-Income-Option-101N134V19-Policy-Document'}\",\n",
       "   'metadatas6': \"{'Page_No.': 'Page 3', 'Policy_Name': 'HDFC-Life-Easy-Health-101N110V03-Policy-Bond-Single-Pay'}\",\n",
       "   'metadatas7': \"{'Page_No.': 12, 'Policy_Name': 'HDFC-Life-Sanchay-Plus-Life-Long-Income-Option-101N134V19-Policy-Document'}\",\n",
       "   'metadatas8': \"{'Page_No.': 'Page 12', 'Policy_Name': 'HDFC-Life-Sanchay-Plus-Life-Long-Income-Option-101N134V19-Policy-Document'}\",\n",
       "   'metadatas9': \"{'Page_No.': 3, 'Policy_Name': 'HDFC-Life-Easy-Health-101N110V03-Policy-Bond-Single-Pay'}\"}],\n",
       " 'included': [<IncludeEnum.embeddings: 'embeddings'>,\n",
       "  <IncludeEnum.documents: 'documents'>,\n",
       "  <IncludeEnum.metadatas: 'metadatas'>]}"
      ]
     },
     "execution_count": 38,
     "metadata": {},
     "output_type": "execute_result"
    }
   ],
   "source": [
    "cache_collection.peek()"
   ]
  },
  {
   "cell_type": "markdown",
   "metadata": {
    "id": "VSPM3aJ7lZd2"
   },
   "source": [
    "## 4.  Semantic Search with Cache\n",
    "\n",
    "In this section, we will perform a semantic search of a query in the collections embeddings to get several top semantically similar results.\n",
    "\n",
    "Steps to implement a caching mechanism for semantic search: \n",
    "\n",
    "1. **User Query and Cache Check:**  \n",
    "   It reads a user query, searches the 'Insurance_Cache' collection for a similar query (top 1 result), and then also queries the main 'insurance_collection' for the top 10 results.\n",
    "\n",
    "2. **Threshold-Based Decision:**  \n",
    "   If the best cache result is either empty or has a distance greater than a set threshold (0.2), the code uses the main collection results and caches the current query and its corresponding metadata; otherwise, it extracts and returns the cached result.\n",
    "\n",
    "3. **Results Aggregation:**  \n",
    "   Finally, it structures the search outcomes into a DataFrame by parsing IDs, documents, distances, and metadata, so the final results can be easily inspected.\n"
   ]
  },
  {
   "cell_type": "code",
   "execution_count": 39,
   "metadata": {
    "colab": {
     "base_uri": "https://localhost:8080/"
    },
    "id": "7w_JdePjjNoA",
    "outputId": "9b8c99d1-a7e2-464d-a9bb-616670b4c955"
   },
   "outputs": [
    {
     "name": "stdin",
     "output_type": "stream",
     "text": [
      " Explain some benifits of HDFC Life Sampoorna Jeevan Policy\n"
     ]
    }
   ],
   "source": [
    "# Read the user query\n",
    "\n",
    "query = input()"
   ]
  },
  {
   "cell_type": "code",
   "execution_count": 40,
   "metadata": {
    "id": "tPg2D6wXd3Le"
   },
   "outputs": [],
   "source": [
    "# Searh the Cache collection first\n",
    "# Query the collection against the user query and return the top 20 results\n",
    "\n",
    "cache_results = cache_collection.query(\n",
    "    query_texts=query,\n",
    "    n_results=1\n",
    ")"
   ]
  },
  {
   "cell_type": "code",
   "execution_count": 41,
   "metadata": {
    "colab": {
     "base_uri": "https://localhost:8080/"
    },
    "id": "GbJxAHuLKj6-",
    "outputId": "d18294d2-3580-4f8c-b7ec-3f1d697a9ea5",
    "scrolled": true
   },
   "outputs": [
    {
     "data": {
      "text/plain": [
       "{'ids': [['explain some benifits of HDFC-Life-Sampoorna-Jeevan-101N158V04-Policy?']],\n",
       " 'embeddings': None,\n",
       " 'documents': [['explain some benifits of HDFC-Life-Sampoorna-Jeevan-101N158V04-Policy?']],\n",
       " 'uris': None,\n",
       " 'data': None,\n",
       " 'metadatas': [[{'distances0': '0.20238658785820007',\n",
       "    'distances1': '0.2178524285554886',\n",
       "    'distances2': '0.2669825255870819',\n",
       "    'distances3': '0.2669825255870819',\n",
       "    'distances4': '0.27450525760650635',\n",
       "    'distances5': '0.27676403522491455',\n",
       "    'distances6': '0.2779393196105957',\n",
       "    'distances7': '0.2794364094734192',\n",
       "    'distances8': '0.2794364094734192',\n",
       "    'distances9': '0.2797224521636963',\n",
       "    'documents0': 'A.1. Policy Preamble\\nHDFC Life Sampoorna Jeevan Plan is a non-linked participating individual life insurance savings Policy. A participating\\nPolicyentitles the Policyholder to participate in the surplus (profits) of the Company. The Terms and Conditions and the Policy\\nSchedule are issued based on the proposal form submitted by the Life Assured /Policyholder.\\nA.2. Policy Schedule\\nName of the Policy: HDFC Life Sampoorna Jeevan\\nUIN of the Product 101N158V04\\nPolicy Number\\nDate of the Proposal\\nPolicy Commencement Date\\nRisk Commencement Date\\nAuto Vesting if Life Assured is Minor\\nBasic Sum Assured\\nSum Assured on Death\\nMaturity Age Variant <<Sampoorna Jeevan75/Sampoorna Jeevan100>>\\nGuaranteed Benefit Option <<Lumpsum/Income/Lumpsum with Income/Income with Lumpsum>>\\nGuaranteed Income Benefit (GIB) INR xxxx\\nFirst GIB Date\\nGuaranteed Income Benefit Date\\nLast GIB Date\\nBonus Option <<SRB/SRIB/Cash/SRB+Cash/SRIB+Cash>>\\nPaid-Up Additions <<Not applicable / Yes / No>>\\nDescription Sum Assured Rider Cessation Date\\n(Rs.) Premium(Rs)\\n«COMPDESC_0 «SUMINS_002» «CESSDATE_002»\\n02»\\nRider (s)\\n«COMPDESC_0 «SUMINS_003» «CESSDATE_003»\\n03»\\n«COMPDESC_0 «SUMINS_004» «CESSDATE_004»\\n04»\\nUIN of the Rider(s)\\nPremium Amount\\nFrequency of Premium Payment\\nDue Date of Premium Payment\\nPremium Payment Term\\nPolicy Term\\nName and Address of the Policyholder\\nDate of Birth of the Policyholder\\nName and Address of the Life Assured\\nAge of Life Assured At Entry\\nDate of Birth\\nWhether Age admitted?\\nName of Age of Relationship to\\nProportion (%)\\nNominee/(s) Nominee/(s) Life Assured\\nName of Nominee/(s) and relationship to Life\\nAssured\\nName of Appointee, If Nominee is Minor\\nPolicy Maturity Date\\nSpecial Conditions',\n",
       "    'documents1': 'A.1. Policy Preamble HDFC Life Sampoorna Jeevan Plan is a non-linked participating individual life insurance savings Policy. A participating Policyentitles the Policyholder to participate in the surplus (profits) of the Company. The Terms and Conditions and the Policy Schedule are issued based on the proposal form submitted by the Life Assured /Policyholder. A.2. Policy Schedule [[\"Name of the Policy:\", \"HDFC Life Sampoorna Jeevan\", null, null, null, null], [\"UIN of the Product\", \"101N158V04\", null, null, null, null], [\"Policy Number\", \"\", null, null, null, null], [\"Date of the Proposal\", \"\", null, null, null, null], [\"Policy Commencement Date\", \"\", null, null, null, null], [\"Risk Commencement Date\", \"\", null, null, null, null], [\"Auto Vesting if Life Assured is Minor\", \"\", null, null, null, null], [\"Basic Sum Assured\", \"\", null, null, null, null], [\"Sum Assured on Death\", \"\", null, null, null, null], [\"Maturity Age Variant\", \"<<Sampoorna Jeevan75/Sampoorna Jeevan100>>\", null, null, null, null], [\"Guaranteed Benefit Option\", \"<<Lumpsum/Income/Lumpsum with Income/Income with Lumpsum>>\", null, null, null, null], [\"Guaranteed Income Benefit (GIB)\", \"INR xxxx\", null, null, null, null], [\"Guaranteed Income Benefit Date\", \"First GIB Date\", null, \"\", null, null], [null, \"Last GIB Date\", null, \"\", null, null], [\"Bonus Option\", \"<<SRB/SRIB/Cash/SRB+Cash/SRIB+Cash>>\", null, null, null, null], [\"Paid-Up Additions\", \"<<Not applicable / Yes / No>>\", null, null, null, null], [\"Rider (s)\", \"Description\\\\n\\\\u00abCOMPDESC_0\\\\n02\\\\u00bb\\\\n\\\\u00abCOMPDESC_0\\\\n03\\\\u00bb\\\\n\\\\u00abCOMPDESC_0\\\\n04\\\\u00bb\", \"Sum Assured\\\\n(Rs.)\", \"Rider\\\\nPremium(Rs)\", \"Cessation Date\", null], [null, null, \"\\\\u00abSUMINS_002\\\\u00bb\", \"\", \"\\\\u00abCESSDATE_002\\\\u00bb\", null], [null, null, \"\\\\u00abSUMINS_003\\\\u00bb\", \"\", \"\\\\u00abCESSDATE_003\\\\u00bb\", null], [null, null, \"\\\\u00abSUMINS_004\\\\u00bb\", \"\", \"\\\\u00abCESSDATE_004\\\\u00bb\", null], [\"UIN of the Rider(s)\", \"\", null, null, null, null], [\"Premium Amount\", \"\", null, null, null, null], [\"Frequency of Premium Payment\", \"\", null, null, null, null], [\"Due Date of Premium Payment\", \"\", null, null, null, null], [\"Premium Payment Term\", \"\", null, null, null, null], [\"Policy Term\", \"\", null, null, null, null], [\"Name and Address of the Policyholder\", \"\", null, null, null, null], [\"Date of Birth of the Policyholder\", \"\", null, null, null, null], [\"Name and Address of the Life Assured\", \"\", null, null, null, null], [\"Age of Life Assured At Entry\\\\nDate of Birth\\\\nWhether Age admitted?\", \"\", null, null, null, null], [\"Name of Nominee/(s) and relationship to Life\\\\nAssured\", \"Name of\\\\nNominee/(s)\", \"Age of\\\\nNominee/(s)\", \"Relationship to\\\\nLife Assured\", null, \"Proportion (%)\"], [null, \"\", \"\", \"\", null, \"\"], [null, \"\", \"\", \"\", null, \"\"], [null, \"\", \"\", \"\", null, \"\"], [\"Name of Appointee, If Nominee is Minor\", \"\", null, null, null, null], [\"Policy Maturity Date\", \"\", null, null, null, null], [\"Special Conditions\", \"\", null, null, null, null]]',\n",
       "    'documents2': 'Please communicate any changes in your mailing address or any other communication details as soon as possible. This\\nwill enable us to serve you better.\\nF.9. Entire Contract: This Policy comprises of the terms and conditions set forth in this Policy Document, the Policy\\nSchedule, and the endorsements, if any, made on or applicable to this Policy, which shall form an integral part and the\\nentire contract evidenced by this Policy. The liability of the Company is at all times subject to the terms and conditions\\nof this Policy and the endorsements made from time to time.\\nF.10. Risk Factors:\\nThis is a Non- Linked, Participating IndividualLife Insurance Savings Product. HDFC Life Insurance Company Limited is\\nonly the name of the Insurance Company and HDFC Life Sampoorna JeevanPlan is only the name of the product and\\ndoes not in any way indicate the quality of the product, its future prospects or returns.\\nF.11. Governing Law and Jurisdiction: This Policy shall be governed by and interpreted in accordance with the laws of\\nIndia. All actions, suits and proceedings under this Policy shall be subject to the exclusive jurisdiction of the courts in\\nIndia.\\nF.12. Death Benefit for Minor Life:If Age of the Life Assured is greater than or equal to 12 years, the risk will commence\\nimmediately from the Policy Commencement Date. If the Age of Life Assured is less than 12 years, the risk will\\ncommenceunder the Policy (that is full death benefitwill become payable on death of Life Assured)on the last day of\\nsecond Policy Year.If the Age of Life Assured is less than 12 years and if the Life Assured dies before the last day of the\\nsecond Policy Year, the Death Benefit shall be restricted to refund of Premiums without interest.\\nF.13. Suicide Exclusion: In case of death due to suicide within 12 months from the Date of Commencement of Risk under\\nthe policy or from the date of Revival of the policy, as applicable, the Eligible Person shall be entitled to at least 80% of\\nthe Total Premiums Paid till the date of death or the Surrender Value available as on the date of death whichever is\\nhigher, provided the policy is in force.\\nF.14. Grace Period: A Grace Period of fifteen (15) days from the Premium payment due date for Policies with monthly\\nPremium payment mode and thirty (30) days from the Premium payment due date for all other available Premium\\npayment modes will be allowed for payments of each Premium. During the Grace Period, the Policy shall continue to be\\nIn Force for availing the Death Benefit. Any unpaid Premium is deductible from the Benefits that may arise during the\\nGrace Period. The Company shall pay the Death Benefit for death during Grace Period, subject to the deduction of the\\nPremiums due as well as balance Premiums for the Policy Year, if any under the Policy.\\nIf the Premiums due are not paid within the Grace Period, the Policy will be eligible for non-forfeiture options as\\nexplained in Clause D.3.\\nF.15. Requirements for maturity claims and death claims: In the event of a claim for Maturity Benefit or Death Benefit\\narising under this Policy, the Eligible Person shall intimate to the Company in writing of the claim and provide the\\nfollowing documents to the Company to enable the Company to process the claim:\\nF.15.1.In case of maturity claims:\\n(i) Original Policy Document; and\\n(ii) Discharge Form\\n(iii) Self-attested ID Proof, and\\n(iv) Bank account details along with IFSC code (payment would be made vide NEFT only) in case there is a change in\\nthe bank details already provided.\\nFor payment of Survival Benefit, requirements specified in (iii) & (iv) above need to be furnished\\nF.15.2.In case of death claims, except death claims arising out of accidents or unnatural deaths',\n",
       "    'documents3': 'Please communicate any changes in your mailing address or any other communication details as soon as possible. This will enable us to serve you better. F.9. Entire Contract: This Policy comprises of the terms and conditions set forth in this Policy Document, the Policy Schedule, and the endorsements, if any, made on or applicable to this Policy, which shall form an integral part and the entire contract evidenced by this Policy. The liability of the Company is at all times subject to the terms and conditions of this Policy and the endorsements made from time to time. F.10. Risk Factors: This is a Non- Linked, Participating IndividualLife Insurance Savings Product. HDFC Life Insurance Company Limited is only the name of the Insurance Company and HDFC Life Sampoorna JeevanPlan is only the name of the product and does not in any way indicate the quality of the product, its future prospects or returns. F.11. Governing Law and Jurisdiction: This Policy shall be governed by and interpreted in accordance with the laws of India. All actions, suits and proceedings under this Policy shall be subject to the exclusive jurisdiction of the courts in India. F.12. Death Benefit for Minor Life:If Age of the Life Assured is greater than or equal to 12 years, the risk will commence immediately from the Policy Commencement Date. If the Age of Life Assured is less than 12 years, the risk will commenceunder the Policy (that is full death benefitwill become payable on death of Life Assured)on the last day of second Policy Year.If the Age of Life Assured is less than 12 years and if the Life Assured dies before the last day of the second Policy Year, the Death Benefit shall be restricted to refund of Premiums without interest. F.13. Suicide Exclusion: In case of death due to suicide within 12 months from the Date of Commencement of Risk under the policy or from the date of Revival of the policy, as applicable, the Eligible Person shall be entitled to at least 80% of the Total Premiums Paid till the date of death or the Surrender Value available as on the date of death whichever is higher, provided the policy is in force. F.14. Grace Period: A Grace Period of fifteen (15) days from the Premium payment due date for Policies with monthly Premium payment mode and thirty (30) days from the Premium payment due date for all other available Premium payment modes will be allowed for payments of each Premium. During the Grace Period, the Policy shall continue to be In Force for availing the Death Benefit. Any unpaid Premium is deductible from the Benefits that may arise during the Grace Period. The Company shall pay the Death Benefit for death during Grace Period, subject to the deduction of the Premiums due as well as balance Premiums for the Policy Year, if any under the Policy. If the Premiums due are not paid within the Grace Period, the Policy will be eligible for non-forfeiture options as explained in Clause D.3. F.15. Requirements for maturity claims and death claims: In the event of a claim for Maturity Benefit or Death Benefit arising under this Policy, the Eligible Person shall intimate to the Company in writing of the claim and provide the following documents to the Company to enable the Company to process the claim: F.15.1.In case of maturity claims: (i) Original Policy Document; and (ii) Discharge Form (iii) Self-attested ID Proof, and (iv) Bank account details along with IFSC code (payment would be made vide NEFT only) in case there is a change in the bank details already provided. For payment of Survival Benefit, requirements specified in (iii) & (iv) above need to be furnished F.15.2.In case of death claims, except death claims arising out of accidents or unnatural deaths',\n",
       "    'documents4': 'HDFC Life Sanchay Plus (UIN – 101N134V19) – Appendix 9 (c) – Policy Bond A non-participating, non-linked savings insurance plan POLICY DOCUMENT- HDFC Life Sanchay Plus Unique Identification Number: <<101N134V19>> Your Policy is a non-participating non-linked savings insurance policy. This document is the evidence of a contract between HDFC Life Insurance Company Limited and the Policyholder as described in the Policy Schedule given below. This Policy is based on the proposal made by the within named Policyholder and submitted to the Company along with the required documents, declarations, statements, any response given to medical questionnaire by the Life Assured, applicable medical evidence and other information received by the Company from the Policyholder, Life Assured or on behalf of the Policyholder (“Proposal”). This Policy is effective upon receipt and realisation, by the Company, of the consideration payable as First Premium under the Policy. This Policy is written under and will be governed by the applicable laws in force in India and all Premiums and Benefits are expressed and payable in Indian Rupees. POLICY SCHEDULE Policy number: <<>> Client ID: <<>> Policyholder Details [[\"Name\", \"<<>>\"], [\"Address\", \"<<>>\"]] Life Assured Details [[\"Name\", \"<<>>\"], [\"Address\", \"<<>>\"], [\"Date of Birth\", \"<< dd/mm/yyyy >>\"], [\"Age on the Date of Risk\\\\nCommencement\", \"<<>> years\"], [\"Age Admitted\", \"<<Yes/No>>\"]] Policy Details [[\"Plan Option\", \"Life Long Income\"], [\"Date of Risk Commencement\", \"<< RCD >>\"], [\"Date of Issue/Inception of Policy\", \"<< First Issue Date>>\"], [\"Premium Due Date(s)\", \"<<dd /month>>\"], [\"Sum Assured\", \"Rs. <<>>\"], [\"Sum Assured on Death\", \"Rs. <<>>\"], [\"Guaranteed Sum Assured\\\\non Maturity\", \"Rs. <<>>\"], [\"Policy Term\", \"<<>> years\"], [\"Premium Paying Term\", \"<<>> years\"], [\"Frequency of Premium Payment\", \"<< Annual/Half-yearly/ Quarterly/ Monthly/ Single >>\"], [\"Premium per Frequency of\\\\nPremium Payment\", \"Rs. <<>>\"], [\"Underwriting Extra Premium per Frequenc\\\\nPremium Payment\", \"y of\\\\nRs. <<>>\"], [\"Total Premium per Frequency of\\\\nPremium Payment\", \"Rs. <<>>\"], [\"Annualized Premium\", \"Rs. <<>>\"], [\"Guaranteed Income on\\\\nMaturity\", \"Rs. <<>>\"], [\"Payout Period\", \"<<>> years starting from year <<>>\"], [\"Income Payout Frequency\", \"<< Annual/Half-yearly/ Quarterly/ Monthly >>\"], [\"Grace Period\", \"<< 15 (for Monthly premium paying frequency) 30 (for other pre\\\\npayment frequencies) >> days\"]] premium Page 3 of 27',\n",
       "    'documents5': 'HDFC Life Sanchay Plus (UIN – 101N134V19) – Appendix 9 (c) – Policy Bond\\nA non-participating, non-linked savings insurance plan\\nPOLICY DOCUMENT- HDFC Life Sanchay Plus\\nUnique Identification Number: <<101N134V19>>\\nYour Policy is a non-participating non-linked savings insurance policy. This document is the evidence of a contract between\\nHDFC Life Insurance Company Limited and the Policyholder as described in the Policy Schedule given below. This Policy is\\nbased on the proposal made by the within named Policyholder and submitted to the Company along with the required documents,\\ndeclarations, statements, any response given to medical questionnaire by the Life Assured, applicable medical evidence and other\\ninformation received by the Company from the Policyholder, Life Assured or on behalf of the Policyholder (“Proposal”). This\\nPolicy is effective upon receipt and realisation, by the Company, of the consideration payable as First Premium under the Policy.\\nThis Policy is written under and will be governed by the applicable laws in force in India and all Premiums and Benefits are\\nexpressed and payable in Indian Rupees.\\nPOLICY SCHEDULE\\nPolicy number: <<>>\\nClient ID: <<>>\\nPolicyholder Details\\nName <<>>\\nAddress <<>>\\nLife Assured Details\\nName <<>>\\nAddress <<>>\\nDate of Birth << dd/mm/yyyy >>\\nAge on the Date of Risk\\n<<>> years\\nCommencement\\nAge Admitted <<Yes/No>>\\nPolicy Details\\nPlan Option Life Long Income\\nDate of Risk Commencement << RCD >>\\nDate of Issue/Inception of Policy << First Issue Date>>\\nPremium Due Date(s) <<dd /month>>\\nSum Assured Rs. <<>>\\nSum Assured on Death Rs. <<>>\\nGuaranteed Sum Assured\\nRs. <<>>\\non Maturity\\nPolicy Term <<>> years\\nPremium Paying Term <<>> years\\nFrequency of Premium Payment << Annual/Half-yearly/ Quarterly/ Monthly/ Single >>\\nPremium per Frequency of\\nRs. <<>>\\nPremium Payment\\nUnderwriting Extra Premium per Frequency of\\nRs. <<>>\\nPremium Payment\\nTotal Premium per Frequency of\\nRs. <<>>\\nPremium Payment\\nAnnualized Premium Rs. <<>>\\nGuaranteed Income on\\nRs. <<>>\\nMaturity\\nPayout Period <<>> years starting from year <<>>\\nIncome Payout Frequency << Annual/Half-yearly/ Quarterly/ Monthly >>\\n<< 15 (for Monthly premium paying frequency) 30 (for other premium\\nGrace Period\\npayment frequencies) >> days\\nPage 3 of 27',\n",
       "    'documents6': 'POLICY DOCUMENT- HDFC LIFE EASY HEALTH Unique Identification Number: <<101N110V03>> Your Policy is a Single Premium paying non participating non linked fixed benefit health plan. This document is the evidence of a contract between HDFC Life Insurance Company Limited and the Policyholder as described in the Policy Schedule given below. This Policy is based on the Proposal made by the within named Policyholder and submitted to the Company along with the required documents, declarations, statements, any response given to the Short Medical Questionnaire (SMQ) by the Life Assured, and other information received by the Company from the Policyholder, Life Assured or on behalf of the Policyholder. This Policy is effective upon receipt and realisation, by the Company, of the consideration payable as Premium under the Policy. This Policy is written under and will be governed by the applicable laws in force in India and all Premiums and Benefits are expressed and payable in Indian Rupees. POLICY SCHEDULE Policy Number: <<__________>> Client id:<<_________>> Policyholder Details Address Life Assured Details [[\"Name\", \"<< >>\"], [\"Date of Birth\", \"<< dd/mm/yyyy >>\"], [\"Age on the Date of Risk\\\\nCommencement\", \"<< >> years\"], [\"Age Admitted\", \"<<Yes/No>>\"]] Policy Details [[\"Date of Commencement of Policy\", \"<<Date>>\"], [\"Date of Risk Commencement\", \"<< Risk Commencement Date >>\"], [\"Date of Issue/Inception of Policy\", \"<< Issue Date>>\"], [\"Plan Option\", \"<<>>\"], [\"Sum Insured\", \"<< >>\"], [\"Single Premium\", \"Rs. << >>\"], [\"Premium Paying Term\", \"Single\"], [\"Policy Term\", \"5 years\"], [\"Cover Ceasing Date\", \"<< dd/mm/yyyy >>\"]] The premium amount is exclusive of taxes, other statutory levies and any underwriting extra premium. NOMINATION SCHEDULE [[\"Nominee\\\\u2019s Name\", \"<<Nominee-1 >>\", \"<<Nominee-2 >>\"], [\"Date of Birth of Nominee\", \"<< dd/mm/yyyy >>\", \"<< dd/mm/yyyy >>\"], [\"Nomination Percentage\", \"<< >> %\", \"<< >> %\"], [\"Nominee\\'s Address\", \"<< >>\", \"<< >>\"], [\"Appointee\\\\u2019s Name\\\\n(Applicable where the nominee is a\\\\nminor)\", \"<< >>\", null]]',\n",
       "    'documents7': 'HDFC Life Sanchay Plus (UIN – 101N134V19) – Appendix 9 (c) – Policy Bond\\nA non-participating, non-linked savings insurance plan\\nPart E\\n1. Additional Servicing Charges\\nNo additional servicing charges are applicable in this policy.\\nPage 12 of 27',\n",
       "    'documents8': 'HDFC Life Sanchay Plus (UIN – 101N134V19) – Appendix 9 (c) – Policy Bond A non-participating, non-linked savings insurance plan Part E 1. Additional Servicing Charges No additional servicing charges are applicable in this policy. Page 12 of 27',\n",
       "    'documents9': \"POLICY DOCUMENT- HDFC LIFE EASY HEALTH\\nUnique Identification Number: <<101N110V03>>\\nYour Policy is a Single Premium paying non participating non linked fixed benefit health plan. This document is\\nthe evidence of a contract between HDFC Life Insurance Company Limited and the Policyholder as described in\\nthe Policy Schedule given below. This Policy is based on the Proposal made by the within named Policyholder\\nand submitted to the Company along with the required documents, declarations, statements, any response given\\nto the Short Medical Questionnaire (SMQ) by the Life Assured, and other information received by the Company\\nfrom the Policyholder, Life Assured or on behalf of the Policyholder. This Policy is effective upon receipt and\\nrealisation, by the Company, of the consideration payable as Premium under the Policy. This Policy is written\\nunder and will be governed by the applicable laws in force in India and all Premiums and Benefits are expressed\\nand payable in Indian Rupees.\\nPOLICY SCHEDULE\\nPolicy Number: <<__________>>\\nClient id:<<_________>>\\nPolicyholder Details\\nName << >>\\nAddress << >>\\nLife Assured Details\\nName << >>\\nDate of Birth << dd/mm/yyyy >>\\nAge on the Date of Risk\\n<< >> years\\nCommencement\\nAge Admitted <<Yes/No>>\\nPolicy Details\\nDate of Commencement of Policy <<Date>>\\nDate of Risk Commencement << Risk Commencement Date >>\\nDate of Issue/Inception of Policy << Issue Date>>\\nPlan Option <<>>\\nSum Insured << >>\\nSingle Premium Rs. << >>\\nPremium Paying Term Single\\nPolicy Term 5 years\\nCover Ceasing Date << dd/mm/yyyy >>\\nThe premium amount is exclusive of taxes, other statutory levies and any underwriting extra premium.\\nNOMINATION SCHEDULE\\nNominee’s Name <<Nominee-1 >> <<Nominee-2 >>\\nDate of Birth of Nominee << dd/mm/yyyy >> << dd/mm/yyyy >>\\nNomination Percentage << >> % << >> %\\nNominee's Address << >> << >>\\nAppointee’s Name\\n(Applicable where the nominee is a << >>\\nminor)\",\n",
       "    'ids0': '93',\n",
       "    'ids1': 'HDFC-Life-Sampoorna-Jeevan-101N158V04-Policy-Document (1)_Page_Page 2',\n",
       "    'ids2': '109',\n",
       "    'ids3': 'HDFC-Life-Sampoorna-Jeevan-101N158V04-Policy-Document (1)_Page_Page 18',\n",
       "    'ids4': 'HDFC-Life-Sanchay-Plus-Life-Long-Income-Option-101N134V19-Policy-Document_Page_Page 3',\n",
       "    'ids5': '132',\n",
       "    'ids6': 'HDFC-Life-Easy-Health-101N110V03-Policy-Bond-Single-Pay_Page_Page 3',\n",
       "    'ids7': '141',\n",
       "    'ids8': 'HDFC-Life-Sanchay-Plus-Life-Long-Income-Option-101N134V19-Policy-Document_Page_Page 12',\n",
       "    'ids9': '2',\n",
       "    'included0': 'd',\n",
       "    'included1': 'i',\n",
       "    'included2': 's',\n",
       "    'included3': 't',\n",
       "    'included4': 'a',\n",
       "    'included5': 'n',\n",
       "    'included6': 'c',\n",
       "    'included7': 'e',\n",
       "    'included8': 's',\n",
       "    'metadatas0': \"{'Page_No.': 2, 'Policy_Name': 'HDFC-Life-Sampoorna-Jeevan-101N158V04-Policy-Document (1)'}\",\n",
       "    'metadatas1': \"{'Page_No.': 'Page 2', 'Policy_Name': 'HDFC-Life-Sampoorna-Jeevan-101N158V04-Policy-Document (1)'}\",\n",
       "    'metadatas2': \"{'Page_No.': 18, 'Policy_Name': 'HDFC-Life-Sampoorna-Jeevan-101N158V04-Policy-Document (1)'}\",\n",
       "    'metadatas3': \"{'Page_No.': 'Page 18', 'Policy_Name': 'HDFC-Life-Sampoorna-Jeevan-101N158V04-Policy-Document (1)'}\",\n",
       "    'metadatas4': \"{'Page_No.': 'Page 3', 'Policy_Name': 'HDFC-Life-Sanchay-Plus-Life-Long-Income-Option-101N134V19-Policy-Document'}\",\n",
       "    'metadatas5': \"{'Page_No.': 3, 'Policy_Name': 'HDFC-Life-Sanchay-Plus-Life-Long-Income-Option-101N134V19-Policy-Document'}\",\n",
       "    'metadatas6': \"{'Page_No.': 'Page 3', 'Policy_Name': 'HDFC-Life-Easy-Health-101N110V03-Policy-Bond-Single-Pay'}\",\n",
       "    'metadatas7': \"{'Page_No.': 12, 'Policy_Name': 'HDFC-Life-Sanchay-Plus-Life-Long-Income-Option-101N134V19-Policy-Document'}\",\n",
       "    'metadatas8': \"{'Page_No.': 'Page 12', 'Policy_Name': 'HDFC-Life-Sanchay-Plus-Life-Long-Income-Option-101N134V19-Policy-Document'}\",\n",
       "    'metadatas9': \"{'Page_No.': 3, 'Policy_Name': 'HDFC-Life-Easy-Health-101N110V03-Policy-Bond-Single-Pay'}\"}]],\n",
       " 'distances': [[0.052602863332297106]],\n",
       " 'included': [<IncludeEnum.distances: 'distances'>,\n",
       "  <IncludeEnum.documents: 'documents'>,\n",
       "  <IncludeEnum.metadatas: 'metadatas'>]}"
      ]
     },
     "execution_count": 41,
     "metadata": {},
     "output_type": "execute_result"
    }
   ],
   "source": [
    "cache_results"
   ]
  },
  {
   "cell_type": "code",
   "execution_count": 42,
   "metadata": {
    "id": "-oYMcSJbuepc"
   },
   "outputs": [],
   "source": [
    "results = insurance_collection.query(\n",
    "query_texts=query,\n",
    "n_results=10\n",
    ")\n",
    "# results.items()"
   ]
  },
  {
   "cell_type": "code",
   "execution_count": 43,
   "metadata": {
    "colab": {
     "base_uri": "https://localhost:8080/"
    },
    "id": "fJFO4OYafKCg",
    "outputId": "baa19f0b-3029-4c20-80b1-1710078aff03"
   },
   "outputs": [
    {
     "name": "stdout",
     "output_type": "stream",
     "text": [
      "Found in cache!\n"
     ]
    }
   ],
   "source": [
    "# Implementing Cache in Semantic Search\n",
    "\n",
    "# Set a threshold for cache search\n",
    "threshold = 0.2\n",
    "\n",
    "ids = []\n",
    "documents = []\n",
    "distances = []\n",
    "metadatas = []\n",
    "results_df = pd.DataFrame()\n",
    "\n",
    "\n",
    "# If the distance is greater than the threshold, then return the results from the main collection.\n",
    "\n",
    "if cache_results['distances'][0] == [] or cache_results['distances'][0][0] > threshold:\n",
    "      # Query the collection against the user query and return the top 10 results\n",
    "      results = insurance_collection.query(\n",
    "      query_texts=query,\n",
    "      n_results=10\n",
    "      )\n",
    "\n",
    "      # Store the query in cache_collection as document w.r.t to ChromaDB so that it can be embedded and searched against later\n",
    "      # Store retrieved text, ids, distances and metadatas in cache_collection as metadatas, so that they can be fetched easily if a query indeed matches to a query in cache\n",
    "      Keys = []\n",
    "      Values = []\n",
    "\n",
    "      for key, val in results.items():\n",
    "        if val is None:\n",
    "          continue\n",
    "        for i in range(min(10, len(val[0]))):  # Avoid out-of-range errors\n",
    "            Keys.append(str(key) + str(i))\n",
    "            Values.append(str(val[0][i]))\n",
    "\n",
    "\n",
    "\n",
    "      cache_collection.add(\n",
    "          documents= [query],\n",
    "          ids = [query],  # Or if you want to assign integers as IDs 0,1,2,.., then you can use \"len(cache_results['documents'])\" as will return the no. of queries currently in the cache and assign the next digit to the new query.\"\n",
    "          metadatas = dict(zip(Keys, Values))\n",
    "      )\n",
    "\n",
    "      print(\"Not found in cache. Found in main collection.\")\n",
    "\n",
    "      result_dict = {'Metadatas': results['metadatas'][0], 'Documents': results['documents'][0], 'Distances': results['distances'][0], \"IDs\":results[\"ids\"][0]}\n",
    "      results_df = pd.DataFrame.from_dict(result_dict)\n",
    "      results_df\n",
    "\n",
    "\n",
    "# If the distance is, however, less than the threshold, you can return the results from cache\n",
    "\n",
    "elif cache_results['distances'][0][0] <= threshold:\n",
    "      cache_result_dict = cache_results['metadatas'][0][0]\n",
    "\n",
    "      # Loop through each inner list and then through the dictionary\n",
    "      for key, value in cache_result_dict.items():\n",
    "          if 'ids' in key:\n",
    "              ids.append(value)\n",
    "          elif 'documents' in key:\n",
    "              documents.append(value)\n",
    "          elif 'distances' in key:\n",
    "              distances.append(value)\n",
    "          elif 'metadatas' in key:\n",
    "              metadatas.append(value)\n",
    "\n",
    "      print(\"Found in cache!\")\n",
    "\n",
    "      # Create a DataFrame\n",
    "      results_df = pd.DataFrame({\n",
    "        'IDs': ids,\n",
    "        'Documents': documents,\n",
    "        'Distances': distances,\n",
    "        'Metadatas': metadatas\n",
    "      })\n"
   ]
  },
  {
   "cell_type": "code",
   "execution_count": 44,
   "metadata": {
    "colab": {
     "base_uri": "https://localhost:8080/"
    },
    "id": "CHihLxwptc-R",
    "outputId": "68c6d944-ce04-46ef-d3d7-1866354fa41b"
   },
   "outputs": [
    {
     "data": {
      "text/plain": [
       "{'ids': [['93',\n",
       "   'HDFC-Life-Sampoorna-Jeevan-101N158V04-Policy-Document (1)_Page_Page 2',\n",
       "   '109',\n",
       "   'HDFC-Life-Sampoorna-Jeevan-101N158V04-Policy-Document (1)_Page_Page 18',\n",
       "   '141',\n",
       "   'HDFC-Life-Sanchay-Plus-Life-Long-Income-Option-101N134V19-Policy-Document_Page_Page 12',\n",
       "   'HDFC-Life-Sanchay-Plus-Life-Long-Income-Option-101N134V19-Policy-Document_Page_Page 3',\n",
       "   '132',\n",
       "   '156',\n",
       "   'HDFC-Life-Sanchay-Plus-Life-Long-Income-Option-101N134V19-Policy-Document_Page_Page 27']],\n",
       " 'embeddings': None,\n",
       " 'documents': [['A.1. Policy Preamble\\nHDFC Life Sampoorna Jeevan Plan is a non-linked participating individual life insurance savings Policy. A participating\\nPolicyentitles the Policyholder to participate in the surplus (profits) of the Company. The Terms and Conditions and the Policy\\nSchedule are issued based on the proposal form submitted by the Life Assured /Policyholder.\\nA.2. Policy Schedule\\nName of the Policy: HDFC Life Sampoorna Jeevan\\nUIN of the Product 101N158V04\\nPolicy Number\\nDate of the Proposal\\nPolicy Commencement Date\\nRisk Commencement Date\\nAuto Vesting if Life Assured is Minor\\nBasic Sum Assured\\nSum Assured on Death\\nMaturity Age Variant <<Sampoorna Jeevan75/Sampoorna Jeevan100>>\\nGuaranteed Benefit Option <<Lumpsum/Income/Lumpsum with Income/Income with Lumpsum>>\\nGuaranteed Income Benefit (GIB) INR xxxx\\nFirst GIB Date\\nGuaranteed Income Benefit Date\\nLast GIB Date\\nBonus Option <<SRB/SRIB/Cash/SRB+Cash/SRIB+Cash>>\\nPaid-Up Additions <<Not applicable / Yes / No>>\\nDescription Sum Assured Rider Cessation Date\\n(Rs.) Premium(Rs)\\n«COMPDESC_0 «SUMINS_002» «CESSDATE_002»\\n02»\\nRider (s)\\n«COMPDESC_0 «SUMINS_003» «CESSDATE_003»\\n03»\\n«COMPDESC_0 «SUMINS_004» «CESSDATE_004»\\n04»\\nUIN of the Rider(s)\\nPremium Amount\\nFrequency of Premium Payment\\nDue Date of Premium Payment\\nPremium Payment Term\\nPolicy Term\\nName and Address of the Policyholder\\nDate of Birth of the Policyholder\\nName and Address of the Life Assured\\nAge of Life Assured At Entry\\nDate of Birth\\nWhether Age admitted?\\nName of Age of Relationship to\\nProportion (%)\\nNominee/(s) Nominee/(s) Life Assured\\nName of Nominee/(s) and relationship to Life\\nAssured\\nName of Appointee, If Nominee is Minor\\nPolicy Maturity Date\\nSpecial Conditions',\n",
       "   'A.1. Policy Preamble HDFC Life Sampoorna Jeevan Plan is a non-linked participating individual life insurance savings Policy. A participating Policyentitles the Policyholder to participate in the surplus (profits) of the Company. The Terms and Conditions and the Policy Schedule are issued based on the proposal form submitted by the Life Assured /Policyholder. A.2. Policy Schedule [[\"Name of the Policy:\", \"HDFC Life Sampoorna Jeevan\", null, null, null, null], [\"UIN of the Product\", \"101N158V04\", null, null, null, null], [\"Policy Number\", \"\", null, null, null, null], [\"Date of the Proposal\", \"\", null, null, null, null], [\"Policy Commencement Date\", \"\", null, null, null, null], [\"Risk Commencement Date\", \"\", null, null, null, null], [\"Auto Vesting if Life Assured is Minor\", \"\", null, null, null, null], [\"Basic Sum Assured\", \"\", null, null, null, null], [\"Sum Assured on Death\", \"\", null, null, null, null], [\"Maturity Age Variant\", \"<<Sampoorna Jeevan75/Sampoorna Jeevan100>>\", null, null, null, null], [\"Guaranteed Benefit Option\", \"<<Lumpsum/Income/Lumpsum with Income/Income with Lumpsum>>\", null, null, null, null], [\"Guaranteed Income Benefit (GIB)\", \"INR xxxx\", null, null, null, null], [\"Guaranteed Income Benefit Date\", \"First GIB Date\", null, \"\", null, null], [null, \"Last GIB Date\", null, \"\", null, null], [\"Bonus Option\", \"<<SRB/SRIB/Cash/SRB+Cash/SRIB+Cash>>\", null, null, null, null], [\"Paid-Up Additions\", \"<<Not applicable / Yes / No>>\", null, null, null, null], [\"Rider (s)\", \"Description\\\\n\\\\u00abCOMPDESC_0\\\\n02\\\\u00bb\\\\n\\\\u00abCOMPDESC_0\\\\n03\\\\u00bb\\\\n\\\\u00abCOMPDESC_0\\\\n04\\\\u00bb\", \"Sum Assured\\\\n(Rs.)\", \"Rider\\\\nPremium(Rs)\", \"Cessation Date\", null], [null, null, \"\\\\u00abSUMINS_002\\\\u00bb\", \"\", \"\\\\u00abCESSDATE_002\\\\u00bb\", null], [null, null, \"\\\\u00abSUMINS_003\\\\u00bb\", \"\", \"\\\\u00abCESSDATE_003\\\\u00bb\", null], [null, null, \"\\\\u00abSUMINS_004\\\\u00bb\", \"\", \"\\\\u00abCESSDATE_004\\\\u00bb\", null], [\"UIN of the Rider(s)\", \"\", null, null, null, null], [\"Premium Amount\", \"\", null, null, null, null], [\"Frequency of Premium Payment\", \"\", null, null, null, null], [\"Due Date of Premium Payment\", \"\", null, null, null, null], [\"Premium Payment Term\", \"\", null, null, null, null], [\"Policy Term\", \"\", null, null, null, null], [\"Name and Address of the Policyholder\", \"\", null, null, null, null], [\"Date of Birth of the Policyholder\", \"\", null, null, null, null], [\"Name and Address of the Life Assured\", \"\", null, null, null, null], [\"Age of Life Assured At Entry\\\\nDate of Birth\\\\nWhether Age admitted?\", \"\", null, null, null, null], [\"Name of Nominee/(s) and relationship to Life\\\\nAssured\", \"Name of\\\\nNominee/(s)\", \"Age of\\\\nNominee/(s)\", \"Relationship to\\\\nLife Assured\", null, \"Proportion (%)\"], [null, \"\", \"\", \"\", null, \"\"], [null, \"\", \"\", \"\", null, \"\"], [null, \"\", \"\", \"\", null, \"\"], [\"Name of Appointee, If Nominee is Minor\", \"\", null, null, null, null], [\"Policy Maturity Date\", \"\", null, null, null, null], [\"Special Conditions\", \"\", null, null, null, null]]',\n",
       "   'Please communicate any changes in your mailing address or any other communication details as soon as possible. This\\nwill enable us to serve you better.\\nF.9. Entire Contract: This Policy comprises of the terms and conditions set forth in this Policy Document, the Policy\\nSchedule, and the endorsements, if any, made on or applicable to this Policy, which shall form an integral part and the\\nentire contract evidenced by this Policy. The liability of the Company is at all times subject to the terms and conditions\\nof this Policy and the endorsements made from time to time.\\nF.10. Risk Factors:\\nThis is a Non- Linked, Participating IndividualLife Insurance Savings Product. HDFC Life Insurance Company Limited is\\nonly the name of the Insurance Company and HDFC Life Sampoorna JeevanPlan is only the name of the product and\\ndoes not in any way indicate the quality of the product, its future prospects or returns.\\nF.11. Governing Law and Jurisdiction: This Policy shall be governed by and interpreted in accordance with the laws of\\nIndia. All actions, suits and proceedings under this Policy shall be subject to the exclusive jurisdiction of the courts in\\nIndia.\\nF.12. Death Benefit for Minor Life:If Age of the Life Assured is greater than or equal to 12 years, the risk will commence\\nimmediately from the Policy Commencement Date. If the Age of Life Assured is less than 12 years, the risk will\\ncommenceunder the Policy (that is full death benefitwill become payable on death of Life Assured)on the last day of\\nsecond Policy Year.If the Age of Life Assured is less than 12 years and if the Life Assured dies before the last day of the\\nsecond Policy Year, the Death Benefit shall be restricted to refund of Premiums without interest.\\nF.13. Suicide Exclusion: In case of death due to suicide within 12 months from the Date of Commencement of Risk under\\nthe policy or from the date of Revival of the policy, as applicable, the Eligible Person shall be entitled to at least 80% of\\nthe Total Premiums Paid till the date of death or the Surrender Value available as on the date of death whichever is\\nhigher, provided the policy is in force.\\nF.14. Grace Period: A Grace Period of fifteen (15) days from the Premium payment due date for Policies with monthly\\nPremium payment mode and thirty (30) days from the Premium payment due date for all other available Premium\\npayment modes will be allowed for payments of each Premium. During the Grace Period, the Policy shall continue to be\\nIn Force for availing the Death Benefit. Any unpaid Premium is deductible from the Benefits that may arise during the\\nGrace Period. The Company shall pay the Death Benefit for death during Grace Period, subject to the deduction of the\\nPremiums due as well as balance Premiums for the Policy Year, if any under the Policy.\\nIf the Premiums due are not paid within the Grace Period, the Policy will be eligible for non-forfeiture options as\\nexplained in Clause D.3.\\nF.15. Requirements for maturity claims and death claims: In the event of a claim for Maturity Benefit or Death Benefit\\narising under this Policy, the Eligible Person shall intimate to the Company in writing of the claim and provide the\\nfollowing documents to the Company to enable the Company to process the claim:\\nF.15.1.In case of maturity claims:\\n(i) Original Policy Document; and\\n(ii) Discharge Form\\n(iii) Self-attested ID Proof, and\\n(iv) Bank account details along with IFSC code (payment would be made vide NEFT only) in case there is a change in\\nthe bank details already provided.\\nFor payment of Survival Benefit, requirements specified in (iii) & (iv) above need to be furnished\\nF.15.2.In case of death claims, except death claims arising out of accidents or unnatural deaths',\n",
       "   'Please communicate any changes in your mailing address or any other communication details as soon as possible. This will enable us to serve you better. F.9. Entire Contract: This Policy comprises of the terms and conditions set forth in this Policy Document, the Policy Schedule, and the endorsements, if any, made on or applicable to this Policy, which shall form an integral part and the entire contract evidenced by this Policy. The liability of the Company is at all times subject to the terms and conditions of this Policy and the endorsements made from time to time. F.10. Risk Factors: This is a Non- Linked, Participating IndividualLife Insurance Savings Product. HDFC Life Insurance Company Limited is only the name of the Insurance Company and HDFC Life Sampoorna JeevanPlan is only the name of the product and does not in any way indicate the quality of the product, its future prospects or returns. F.11. Governing Law and Jurisdiction: This Policy shall be governed by and interpreted in accordance with the laws of India. All actions, suits and proceedings under this Policy shall be subject to the exclusive jurisdiction of the courts in India. F.12. Death Benefit for Minor Life:If Age of the Life Assured is greater than or equal to 12 years, the risk will commence immediately from the Policy Commencement Date. If the Age of Life Assured is less than 12 years, the risk will commenceunder the Policy (that is full death benefitwill become payable on death of Life Assured)on the last day of second Policy Year.If the Age of Life Assured is less than 12 years and if the Life Assured dies before the last day of the second Policy Year, the Death Benefit shall be restricted to refund of Premiums without interest. F.13. Suicide Exclusion: In case of death due to suicide within 12 months from the Date of Commencement of Risk under the policy or from the date of Revival of the policy, as applicable, the Eligible Person shall be entitled to at least 80% of the Total Premiums Paid till the date of death or the Surrender Value available as on the date of death whichever is higher, provided the policy is in force. F.14. Grace Period: A Grace Period of fifteen (15) days from the Premium payment due date for Policies with monthly Premium payment mode and thirty (30) days from the Premium payment due date for all other available Premium payment modes will be allowed for payments of each Premium. During the Grace Period, the Policy shall continue to be In Force for availing the Death Benefit. Any unpaid Premium is deductible from the Benefits that may arise during the Grace Period. The Company shall pay the Death Benefit for death during Grace Period, subject to the deduction of the Premiums due as well as balance Premiums for the Policy Year, if any under the Policy. If the Premiums due are not paid within the Grace Period, the Policy will be eligible for non-forfeiture options as explained in Clause D.3. F.15. Requirements for maturity claims and death claims: In the event of a claim for Maturity Benefit or Death Benefit arising under this Policy, the Eligible Person shall intimate to the Company in writing of the claim and provide the following documents to the Company to enable the Company to process the claim: F.15.1.In case of maturity claims: (i) Original Policy Document; and (ii) Discharge Form (iii) Self-attested ID Proof, and (iv) Bank account details along with IFSC code (payment would be made vide NEFT only) in case there is a change in the bank details already provided. For payment of Survival Benefit, requirements specified in (iii) & (iv) above need to be furnished F.15.2.In case of death claims, except death claims arising out of accidents or unnatural deaths',\n",
       "   'HDFC Life Sanchay Plus (UIN – 101N134V19) – Appendix 9 (c) – Policy Bond\\nA non-participating, non-linked savings insurance plan\\nPart E\\n1. Additional Servicing Charges\\nNo additional servicing charges are applicable in this policy.\\nPage 12 of 27',\n",
       "   'HDFC Life Sanchay Plus (UIN – 101N134V19) – Appendix 9 (c) – Policy Bond A non-participating, non-linked savings insurance plan Part E 1. Additional Servicing Charges No additional servicing charges are applicable in this policy. Page 12 of 27',\n",
       "   'HDFC Life Sanchay Plus (UIN – 101N134V19) – Appendix 9 (c) – Policy Bond A non-participating, non-linked savings insurance plan POLICY DOCUMENT- HDFC Life Sanchay Plus Unique Identification Number: <<101N134V19>> Your Policy is a non-participating non-linked savings insurance policy. This document is the evidence of a contract between HDFC Life Insurance Company Limited and the Policyholder as described in the Policy Schedule given below. This Policy is based on the proposal made by the within named Policyholder and submitted to the Company along with the required documents, declarations, statements, any response given to medical questionnaire by the Life Assured, applicable medical evidence and other information received by the Company from the Policyholder, Life Assured or on behalf of the Policyholder (“Proposal”). This Policy is effective upon receipt and realisation, by the Company, of the consideration payable as First Premium under the Policy. This Policy is written under and will be governed by the applicable laws in force in India and all Premiums and Benefits are expressed and payable in Indian Rupees. POLICY SCHEDULE Policy number: <<>> Client ID: <<>> Policyholder Details [[\"Name\", \"<<>>\"], [\"Address\", \"<<>>\"]] Life Assured Details [[\"Name\", \"<<>>\"], [\"Address\", \"<<>>\"], [\"Date of Birth\", \"<< dd/mm/yyyy >>\"], [\"Age on the Date of Risk\\\\nCommencement\", \"<<>> years\"], [\"Age Admitted\", \"<<Yes/No>>\"]] Policy Details [[\"Plan Option\", \"Life Long Income\"], [\"Date of Risk Commencement\", \"<< RCD >>\"], [\"Date of Issue/Inception of Policy\", \"<< First Issue Date>>\"], [\"Premium Due Date(s)\", \"<<dd /month>>\"], [\"Sum Assured\", \"Rs. <<>>\"], [\"Sum Assured on Death\", \"Rs. <<>>\"], [\"Guaranteed Sum Assured\\\\non Maturity\", \"Rs. <<>>\"], [\"Policy Term\", \"<<>> years\"], [\"Premium Paying Term\", \"<<>> years\"], [\"Frequency of Premium Payment\", \"<< Annual/Half-yearly/ Quarterly/ Monthly/ Single >>\"], [\"Premium per Frequency of\\\\nPremium Payment\", \"Rs. <<>>\"], [\"Underwriting Extra Premium per Frequenc\\\\nPremium Payment\", \"y of\\\\nRs. <<>>\"], [\"Total Premium per Frequency of\\\\nPremium Payment\", \"Rs. <<>>\"], [\"Annualized Premium\", \"Rs. <<>>\"], [\"Guaranteed Income on\\\\nMaturity\", \"Rs. <<>>\"], [\"Payout Period\", \"<<>> years starting from year <<>>\"], [\"Income Payout Frequency\", \"<< Annual/Half-yearly/ Quarterly/ Monthly >>\"], [\"Grace Period\", \"<< 15 (for Monthly premium paying frequency) 30 (for other pre\\\\npayment frequencies) >> days\"]] premium Page 3 of 27',\n",
       "   'HDFC Life Sanchay Plus (UIN – 101N134V19) – Appendix 9 (c) – Policy Bond\\nA non-participating, non-linked savings insurance plan\\nPOLICY DOCUMENT- HDFC Life Sanchay Plus\\nUnique Identification Number: <<101N134V19>>\\nYour Policy is a non-participating non-linked savings insurance policy. This document is the evidence of a contract between\\nHDFC Life Insurance Company Limited and the Policyholder as described in the Policy Schedule given below. This Policy is\\nbased on the proposal made by the within named Policyholder and submitted to the Company along with the required documents,\\ndeclarations, statements, any response given to medical questionnaire by the Life Assured, applicable medical evidence and other\\ninformation received by the Company from the Policyholder, Life Assured or on behalf of the Policyholder (“Proposal”). This\\nPolicy is effective upon receipt and realisation, by the Company, of the consideration payable as First Premium under the Policy.\\nThis Policy is written under and will be governed by the applicable laws in force in India and all Premiums and Benefits are\\nexpressed and payable in Indian Rupees.\\nPOLICY SCHEDULE\\nPolicy number: <<>>\\nClient ID: <<>>\\nPolicyholder Details\\nName <<>>\\nAddress <<>>\\nLife Assured Details\\nName <<>>\\nAddress <<>>\\nDate of Birth << dd/mm/yyyy >>\\nAge on the Date of Risk\\n<<>> years\\nCommencement\\nAge Admitted <<Yes/No>>\\nPolicy Details\\nPlan Option Life Long Income\\nDate of Risk Commencement << RCD >>\\nDate of Issue/Inception of Policy << First Issue Date>>\\nPremium Due Date(s) <<dd /month>>\\nSum Assured Rs. <<>>\\nSum Assured on Death Rs. <<>>\\nGuaranteed Sum Assured\\nRs. <<>>\\non Maturity\\nPolicy Term <<>> years\\nPremium Paying Term <<>> years\\nFrequency of Premium Payment << Annual/Half-yearly/ Quarterly/ Monthly/ Single >>\\nPremium per Frequency of\\nRs. <<>>\\nPremium Payment\\nUnderwriting Extra Premium per Frequency of\\nRs. <<>>\\nPremium Payment\\nTotal Premium per Frequency of\\nRs. <<>>\\nPremium Payment\\nAnnualized Premium Rs. <<>>\\nGuaranteed Income on\\nRs. <<>>\\nMaturity\\nPayout Period <<>> years starting from year <<>>\\nIncome Payout Frequency << Annual/Half-yearly/ Quarterly/ Monthly >>\\n<< 15 (for Monthly premium paying frequency) 30 (for other premium\\nGrace Period\\npayment frequencies) >> days\\nPage 3 of 27',\n",
       "   'HDFC Life Sanchay Plus (UIN – 101N134V19) – Appendix 9 (c) – Policy Bond\\nA non-participating, non-linked savings insurance plan\\n[Disclaimer: This is not a comprehensive list of amendments of Insurance Laws (Amendment) Act, 2015and\\nonly a simplified version prepared for general information. Policy Holders are advised to refer to Insurance\\nLaws (Amendment) Act, 2015dated 23.03.2015 for complete and accurate details.]\\nPage 27 of 27',\n",
       "   'HDFC Life Sanchay Plus (UIN – 101N134V19) – Appendix 9 (c) – Policy Bond A non-participating, non-linked savings insurance plan [Disclaimer: This is not a comprehensive list of amendments of Insurance Laws (Amendment) Act, 2015and only a simplified version prepared for general information. Policy Holders are advised to refer to Insurance Laws (Amendment) Act, 2015dated 23.03.2015 for complete and accurate details.] Page 27 of 27']],\n",
       " 'uris': None,\n",
       " 'data': None,\n",
       " 'metadatas': [[{'Page_No.': 2,\n",
       "    'Policy_Name': 'HDFC-Life-Sampoorna-Jeevan-101N158V04-Policy-Document (1)'},\n",
       "   {'Page_No.': 'Page 2',\n",
       "    'Policy_Name': 'HDFC-Life-Sampoorna-Jeevan-101N158V04-Policy-Document (1)'},\n",
       "   {'Page_No.': 18,\n",
       "    'Policy_Name': 'HDFC-Life-Sampoorna-Jeevan-101N158V04-Policy-Document (1)'},\n",
       "   {'Page_No.': 'Page 18',\n",
       "    'Policy_Name': 'HDFC-Life-Sampoorna-Jeevan-101N158V04-Policy-Document (1)'},\n",
       "   {'Page_No.': 12,\n",
       "    'Policy_Name': 'HDFC-Life-Sanchay-Plus-Life-Long-Income-Option-101N134V19-Policy-Document'},\n",
       "   {'Page_No.': 'Page 12',\n",
       "    'Policy_Name': 'HDFC-Life-Sanchay-Plus-Life-Long-Income-Option-101N134V19-Policy-Document'},\n",
       "   {'Page_No.': 'Page 3',\n",
       "    'Policy_Name': 'HDFC-Life-Sanchay-Plus-Life-Long-Income-Option-101N134V19-Policy-Document'},\n",
       "   {'Page_No.': 3,\n",
       "    'Policy_Name': 'HDFC-Life-Sanchay-Plus-Life-Long-Income-Option-101N134V19-Policy-Document'},\n",
       "   {'Page_No.': 27,\n",
       "    'Policy_Name': 'HDFC-Life-Sanchay-Plus-Life-Long-Income-Option-101N134V19-Policy-Document'},\n",
       "   {'Page_No.': 'Page 27',\n",
       "    'Policy_Name': 'HDFC-Life-Sanchay-Plus-Life-Long-Income-Option-101N134V19-Policy-Document'}]],\n",
       " 'distances': [[0.18676218390464783,\n",
       "   0.2137947827577591,\n",
       "   0.2687291204929352,\n",
       "   0.2687291204929352,\n",
       "   0.2968263626098633,\n",
       "   0.2968263626098633,\n",
       "   0.29750335216522217,\n",
       "   0.29776057600975037,\n",
       "   0.3041066527366638,\n",
       "   0.3041066527366638]],\n",
       " 'included': [<IncludeEnum.distances: 'distances'>,\n",
       "  <IncludeEnum.documents: 'documents'>,\n",
       "  <IncludeEnum.metadatas: 'metadatas'>]}"
      ]
     },
     "execution_count": 44,
     "metadata": {},
     "output_type": "execute_result"
    }
   ],
   "source": [
    "results"
   ]
  },
  {
   "cell_type": "code",
   "execution_count": 45,
   "metadata": {
    "colab": {
     "base_uri": "https://localhost:8080/",
     "height": 363
    },
    "id": "4M2p_b_Mxmmr",
    "outputId": "29ab5bfc-1dc2-49a1-d0e3-20b019d0c160"
   },
   "outputs": [
    {
     "data": {
      "text/html": [
       "<div>\n",
       "<style scoped>\n",
       "    .dataframe tbody tr th:only-of-type {\n",
       "        vertical-align: middle;\n",
       "    }\n",
       "\n",
       "    .dataframe tbody tr th {\n",
       "        vertical-align: top;\n",
       "    }\n",
       "\n",
       "    .dataframe thead th {\n",
       "        text-align: right;\n",
       "    }\n",
       "</style>\n",
       "<table border=\"1\" class=\"dataframe\">\n",
       "  <thead>\n",
       "    <tr style=\"text-align: right;\">\n",
       "      <th></th>\n",
       "      <th>IDs</th>\n",
       "      <th>Documents</th>\n",
       "      <th>Distances</th>\n",
       "      <th>Metadatas</th>\n",
       "    </tr>\n",
       "  </thead>\n",
       "  <tbody>\n",
       "    <tr>\n",
       "      <th>0</th>\n",
       "      <td>93</td>\n",
       "      <td>A.1. Policy Preamble\\nHDFC Life Sampoorna Jeev...</td>\n",
       "      <td>0.20238658785820007</td>\n",
       "      <td>{'Page_No.': 2, 'Policy_Name': 'HDFC-Life-Samp...</td>\n",
       "    </tr>\n",
       "    <tr>\n",
       "      <th>1</th>\n",
       "      <td>HDFC-Life-Sampoorna-Jeevan-101N158V04-Policy-D...</td>\n",
       "      <td>A.1. Policy Preamble HDFC Life Sampoorna Jeeva...</td>\n",
       "      <td>0.2178524285554886</td>\n",
       "      <td>{'Page_No.': 'Page 2', 'Policy_Name': 'HDFC-Li...</td>\n",
       "    </tr>\n",
       "    <tr>\n",
       "      <th>2</th>\n",
       "      <td>109</td>\n",
       "      <td>Please communicate any changes in your mailing...</td>\n",
       "      <td>0.2669825255870819</td>\n",
       "      <td>{'Page_No.': 18, 'Policy_Name': 'HDFC-Life-Sam...</td>\n",
       "    </tr>\n",
       "    <tr>\n",
       "      <th>3</th>\n",
       "      <td>HDFC-Life-Sampoorna-Jeevan-101N158V04-Policy-D...</td>\n",
       "      <td>Please communicate any changes in your mailing...</td>\n",
       "      <td>0.2669825255870819</td>\n",
       "      <td>{'Page_No.': 'Page 18', 'Policy_Name': 'HDFC-L...</td>\n",
       "    </tr>\n",
       "    <tr>\n",
       "      <th>4</th>\n",
       "      <td>HDFC-Life-Sanchay-Plus-Life-Long-Income-Option...</td>\n",
       "      <td>HDFC Life Sanchay Plus (UIN – 101N134V19) – Ap...</td>\n",
       "      <td>0.27450525760650635</td>\n",
       "      <td>{'Page_No.': 'Page 3', 'Policy_Name': 'HDFC-Li...</td>\n",
       "    </tr>\n",
       "    <tr>\n",
       "      <th>5</th>\n",
       "      <td>132</td>\n",
       "      <td>HDFC Life Sanchay Plus (UIN – 101N134V19) – Ap...</td>\n",
       "      <td>0.27676403522491455</td>\n",
       "      <td>{'Page_No.': 3, 'Policy_Name': 'HDFC-Life-Sanc...</td>\n",
       "    </tr>\n",
       "    <tr>\n",
       "      <th>6</th>\n",
       "      <td>HDFC-Life-Easy-Health-101N110V03-Policy-Bond-S...</td>\n",
       "      <td>POLICY DOCUMENT- HDFC LIFE EASY HEALTH Unique ...</td>\n",
       "      <td>0.2779393196105957</td>\n",
       "      <td>{'Page_No.': 'Page 3', 'Policy_Name': 'HDFC-Li...</td>\n",
       "    </tr>\n",
       "    <tr>\n",
       "      <th>7</th>\n",
       "      <td>141</td>\n",
       "      <td>HDFC Life Sanchay Plus (UIN – 101N134V19) – Ap...</td>\n",
       "      <td>0.2794364094734192</td>\n",
       "      <td>{'Page_No.': 12, 'Policy_Name': 'HDFC-Life-San...</td>\n",
       "    </tr>\n",
       "    <tr>\n",
       "      <th>8</th>\n",
       "      <td>HDFC-Life-Sanchay-Plus-Life-Long-Income-Option...</td>\n",
       "      <td>HDFC Life Sanchay Plus (UIN – 101N134V19) – Ap...</td>\n",
       "      <td>0.2794364094734192</td>\n",
       "      <td>{'Page_No.': 'Page 12', 'Policy_Name': 'HDFC-L...</td>\n",
       "    </tr>\n",
       "    <tr>\n",
       "      <th>9</th>\n",
       "      <td>2</td>\n",
       "      <td>POLICY DOCUMENT- HDFC LIFE EASY HEALTH\\nUnique...</td>\n",
       "      <td>0.2797224521636963</td>\n",
       "      <td>{'Page_No.': 3, 'Policy_Name': 'HDFC-Life-Easy...</td>\n",
       "    </tr>\n",
       "  </tbody>\n",
       "</table>\n",
       "</div>"
      ],
      "text/plain": [
       "                                                 IDs  \\\n",
       "0                                                 93   \n",
       "1  HDFC-Life-Sampoorna-Jeevan-101N158V04-Policy-D...   \n",
       "2                                                109   \n",
       "3  HDFC-Life-Sampoorna-Jeevan-101N158V04-Policy-D...   \n",
       "4  HDFC-Life-Sanchay-Plus-Life-Long-Income-Option...   \n",
       "5                                                132   \n",
       "6  HDFC-Life-Easy-Health-101N110V03-Policy-Bond-S...   \n",
       "7                                                141   \n",
       "8  HDFC-Life-Sanchay-Plus-Life-Long-Income-Option...   \n",
       "9                                                  2   \n",
       "\n",
       "                                           Documents            Distances  \\\n",
       "0  A.1. Policy Preamble\\nHDFC Life Sampoorna Jeev...  0.20238658785820007   \n",
       "1  A.1. Policy Preamble HDFC Life Sampoorna Jeeva...   0.2178524285554886   \n",
       "2  Please communicate any changes in your mailing...   0.2669825255870819   \n",
       "3  Please communicate any changes in your mailing...   0.2669825255870819   \n",
       "4  HDFC Life Sanchay Plus (UIN – 101N134V19) – Ap...  0.27450525760650635   \n",
       "5  HDFC Life Sanchay Plus (UIN – 101N134V19) – Ap...  0.27676403522491455   \n",
       "6  POLICY DOCUMENT- HDFC LIFE EASY HEALTH Unique ...   0.2779393196105957   \n",
       "7  HDFC Life Sanchay Plus (UIN – 101N134V19) – Ap...   0.2794364094734192   \n",
       "8  HDFC Life Sanchay Plus (UIN – 101N134V19) – Ap...   0.2794364094734192   \n",
       "9  POLICY DOCUMENT- HDFC LIFE EASY HEALTH\\nUnique...   0.2797224521636963   \n",
       "\n",
       "                                           Metadatas  \n",
       "0  {'Page_No.': 2, 'Policy_Name': 'HDFC-Life-Samp...  \n",
       "1  {'Page_No.': 'Page 2', 'Policy_Name': 'HDFC-Li...  \n",
       "2  {'Page_No.': 18, 'Policy_Name': 'HDFC-Life-Sam...  \n",
       "3  {'Page_No.': 'Page 18', 'Policy_Name': 'HDFC-L...  \n",
       "4  {'Page_No.': 'Page 3', 'Policy_Name': 'HDFC-Li...  \n",
       "5  {'Page_No.': 3, 'Policy_Name': 'HDFC-Life-Sanc...  \n",
       "6  {'Page_No.': 'Page 3', 'Policy_Name': 'HDFC-Li...  \n",
       "7  {'Page_No.': 12, 'Policy_Name': 'HDFC-Life-San...  \n",
       "8  {'Page_No.': 'Page 12', 'Policy_Name': 'HDFC-L...  \n",
       "9  {'Page_No.': 3, 'Policy_Name': 'HDFC-Life-Easy...  "
      ]
     },
     "execution_count": 45,
     "metadata": {},
     "output_type": "execute_result"
    }
   ],
   "source": [
    "results_df"
   ]
  },
  {
   "cell_type": "markdown",
   "metadata": {
    "id": "kHCB3MpXzX_d"
   },
   "source": [
    "## 5. <font color = red> Re-Ranking with a Cross Encoder\n",
    "\n",
    "Re-ranking the results obtained from your semantic search can sometime significantly improve the relevance of the retrieved results. This is often done by passing the query paired with each of the retrieved responses into a cross-encoder to score the relevance of the response w.r.t. the query.\n",
    "\n",
    "<br>\n",
    "\n",
    "![Bi_vs_Cross-Encoder.png](data:image/png;base64,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)\n",
    "\n",
    "<br>"
   ]
  },
  {
   "cell_type": "markdown",
   "metadata": {},
   "source": [
    "Let's imports the CrossEncoder and its utilities from the sentence_transformers library, and then initialize a CrossEncoder model using the \"cross-encoder/ms-marco-MiniLM-L-6-v2\" checkpoint for re-ranking query-document pairs.\n"
   ]
  },
  {
   "cell_type": "code",
   "execution_count": 77,
   "metadata": {
    "id": "nLcDXPgIzWNo",
    "scrolled": true
   },
   "outputs": [],
   "source": [
    "# Import the CrossEncoder library from sentence_transformers\n",
    "\n",
    "from sentence_transformers import CrossEncoder, util"
   ]
  },
  {
   "cell_type": "code",
   "execution_count": 78,
   "metadata": {
    "id": "FpKFGIm8zWNp"
   },
   "outputs": [],
   "source": [
    "# Initialise the cross encoder model\n",
    "\n",
    "cross_encoder = CrossEncoder('cross-encoder/ms-marco-MiniLM-L-6-v2')"
   ]
  },
  {
   "cell_type": "markdown",
   "metadata": {},
   "source": [
    "Let's test the cross encoder by predicting relevance scores for two query-document pairs, helping us determine how well each document answer addresses the query \"Does the insurance cover diabetic patients?\".\n"
   ]
  },
  {
   "cell_type": "code",
   "execution_count": 79,
   "metadata": {
    "id": "t_6t6nAbtA6r"
   },
   "outputs": [],
   "source": [
    "# Test the cross encoder model\n",
    "\n",
    "scores = cross_encoder.predict([['Does the insurance cover diabetic patients?', 'The insurance policy covers some pre-existing conditions including diabetes, heart diseases, etc. The policy does not howev'],\n",
    "                                ['Does the insurance cover diabetic patients?', 'The premium rates for various age groups are given as follows. Age group (<18 years): Premium rate']])"
   ]
  },
  {
   "cell_type": "code",
   "execution_count": 80,
   "metadata": {
    "colab": {
     "base_uri": "https://localhost:8080/"
    },
    "id": "dEzquk9txOKe",
    "outputId": "82cdc518-236e-4906-b3a0-c88fac1a6d32"
   },
   "outputs": [
    {
     "data": {
      "text/plain": [
       "array([  3.8467622, -11.252879 ], dtype=float32)"
      ]
     },
     "execution_count": 80,
     "metadata": {},
     "output_type": "execute_result"
    }
   ],
   "source": [
    "scores #+ve vals indicate sentences are similar.."
   ]
  },
  {
   "cell_type": "markdown",
   "metadata": {},
   "source": [
    "The cross encoder outputs a relevance score for each query-document pair:  \n",
    "- A positive score (3.8467622) indicates that the first document sentence is considered similar or relevant to the query.  \n",
    "- A negative score (-11.252879) suggests that the second document sentence is dissimilar or not relevant to the query.\n"
   ]
  },
  {
   "cell_type": "code",
   "execution_count": 81,
   "metadata": {
    "id": "2qjpDrAvzWNp"
   },
   "outputs": [],
   "source": [
    "# Input (query, response) pairs for each of the top 20 responses received from the semantic search to the cross encoder\n",
    "# Generate the cross_encoder scores for these pairs\n",
    "\n",
    "cross_inputs = [[query, response] for response in results_df['Documents']]\n",
    "cross_rerank_scores = cross_encoder.predict(cross_inputs)"
   ]
  },
  {
   "cell_type": "code",
   "execution_count": 82,
   "metadata": {
    "colab": {
     "base_uri": "https://localhost:8080/"
    },
    "id": "J_sNR0wSzWNp",
    "outputId": "7590817d-1031-4218-878f-7fe8ea1c44ea"
   },
   "outputs": [
    {
     "data": {
      "text/plain": [
       "array([ 4.373581 ,  4.7158117,  2.4955063,  2.4955063, -1.6785847,\n",
       "       -1.9729847, -1.5639377, -2.873107 , -2.873107 , -1.5372542],\n",
       "      dtype=float32)"
      ]
     },
     "execution_count": 82,
     "metadata": {},
     "output_type": "execute_result"
    }
   ],
   "source": [
    "cross_rerank_scores"
   ]
  },
  {
   "cell_type": "markdown",
   "metadata": {},
   "source": [
    "The scores help re-rank the responses based on their relevance to the query.\n",
    "\n",
    "Here we got an array of cross encoder relevance scores for each query-response pair. In this case:\n",
    "- Positive scores (e.g., 3.1639252) indicate that the corresponding response is deemed highly relevant to the query.\n",
    "- Negative scores (e.g., -2.3644156, -2.5734577) indicate responses that are not very relevant.\n",
    "  \n",
    "Notably, the duplicate scores (each value appears twice) may result from having duplicate or very similar responses in the input list.\n"
   ]
  },
  {
   "cell_type": "code",
   "execution_count": 83,
   "metadata": {
    "id": "NJnnPS3FzWNp"
   },
   "outputs": [],
   "source": [
    "# Store the rerank_scores in results_df\n",
    "\n",
    "results_df['Reranked_scores'] = cross_rerank_scores"
   ]
  },
  {
   "cell_type": "code",
   "execution_count": 84,
   "metadata": {
    "colab": {
     "base_uri": "https://localhost:8080/",
     "height": 363
    },
    "id": "jcp68fNLzWNp",
    "outputId": "b0000907-d38c-40da-f3ba-4ec9210d8549"
   },
   "outputs": [
    {
     "data": {
      "text/html": [
       "<div>\n",
       "<style scoped>\n",
       "    .dataframe tbody tr th:only-of-type {\n",
       "        vertical-align: middle;\n",
       "    }\n",
       "\n",
       "    .dataframe tbody tr th {\n",
       "        vertical-align: top;\n",
       "    }\n",
       "\n",
       "    .dataframe thead th {\n",
       "        text-align: right;\n",
       "    }\n",
       "</style>\n",
       "<table border=\"1\" class=\"dataframe\">\n",
       "  <thead>\n",
       "    <tr style=\"text-align: right;\">\n",
       "      <th></th>\n",
       "      <th>IDs</th>\n",
       "      <th>Documents</th>\n",
       "      <th>Distances</th>\n",
       "      <th>Metadatas</th>\n",
       "      <th>Reranked_scores</th>\n",
       "    </tr>\n",
       "  </thead>\n",
       "  <tbody>\n",
       "    <tr>\n",
       "      <th>0</th>\n",
       "      <td>93</td>\n",
       "      <td>A.1. Policy Preamble\\nHDFC Life Sampoorna Jeev...</td>\n",
       "      <td>0.20238658785820007</td>\n",
       "      <td>{'Page_No.': 2, 'Policy_Name': 'HDFC-Life-Samp...</td>\n",
       "      <td>4.373581</td>\n",
       "    </tr>\n",
       "    <tr>\n",
       "      <th>1</th>\n",
       "      <td>HDFC-Life-Sampoorna-Jeevan-101N158V04-Policy-D...</td>\n",
       "      <td>A.1. Policy Preamble HDFC Life Sampoorna Jeeva...</td>\n",
       "      <td>0.2178524285554886</td>\n",
       "      <td>{'Page_No.': 'Page 2', 'Policy_Name': 'HDFC-Li...</td>\n",
       "      <td>4.715812</td>\n",
       "    </tr>\n",
       "    <tr>\n",
       "      <th>2</th>\n",
       "      <td>109</td>\n",
       "      <td>Please communicate any changes in your mailing...</td>\n",
       "      <td>0.2669825255870819</td>\n",
       "      <td>{'Page_No.': 18, 'Policy_Name': 'HDFC-Life-Sam...</td>\n",
       "      <td>2.495506</td>\n",
       "    </tr>\n",
       "    <tr>\n",
       "      <th>3</th>\n",
       "      <td>HDFC-Life-Sampoorna-Jeevan-101N158V04-Policy-D...</td>\n",
       "      <td>Please communicate any changes in your mailing...</td>\n",
       "      <td>0.2669825255870819</td>\n",
       "      <td>{'Page_No.': 'Page 18', 'Policy_Name': 'HDFC-L...</td>\n",
       "      <td>2.495506</td>\n",
       "    </tr>\n",
       "    <tr>\n",
       "      <th>4</th>\n",
       "      <td>HDFC-Life-Sanchay-Plus-Life-Long-Income-Option...</td>\n",
       "      <td>HDFC Life Sanchay Plus (UIN – 101N134V19) – Ap...</td>\n",
       "      <td>0.27450525760650635</td>\n",
       "      <td>{'Page_No.': 'Page 3', 'Policy_Name': 'HDFC-Li...</td>\n",
       "      <td>-1.678585</td>\n",
       "    </tr>\n",
       "    <tr>\n",
       "      <th>5</th>\n",
       "      <td>132</td>\n",
       "      <td>HDFC Life Sanchay Plus (UIN – 101N134V19) – Ap...</td>\n",
       "      <td>0.27676403522491455</td>\n",
       "      <td>{'Page_No.': 3, 'Policy_Name': 'HDFC-Life-Sanc...</td>\n",
       "      <td>-1.972985</td>\n",
       "    </tr>\n",
       "    <tr>\n",
       "      <th>6</th>\n",
       "      <td>HDFC-Life-Easy-Health-101N110V03-Policy-Bond-S...</td>\n",
       "      <td>POLICY DOCUMENT- HDFC LIFE EASY HEALTH Unique ...</td>\n",
       "      <td>0.2779393196105957</td>\n",
       "      <td>{'Page_No.': 'Page 3', 'Policy_Name': 'HDFC-Li...</td>\n",
       "      <td>-1.563938</td>\n",
       "    </tr>\n",
       "    <tr>\n",
       "      <th>7</th>\n",
       "      <td>141</td>\n",
       "      <td>HDFC Life Sanchay Plus (UIN – 101N134V19) – Ap...</td>\n",
       "      <td>0.2794364094734192</td>\n",
       "      <td>{'Page_No.': 12, 'Policy_Name': 'HDFC-Life-San...</td>\n",
       "      <td>-2.873107</td>\n",
       "    </tr>\n",
       "    <tr>\n",
       "      <th>8</th>\n",
       "      <td>HDFC-Life-Sanchay-Plus-Life-Long-Income-Option...</td>\n",
       "      <td>HDFC Life Sanchay Plus (UIN – 101N134V19) – Ap...</td>\n",
       "      <td>0.2794364094734192</td>\n",
       "      <td>{'Page_No.': 'Page 12', 'Policy_Name': 'HDFC-L...</td>\n",
       "      <td>-2.873107</td>\n",
       "    </tr>\n",
       "    <tr>\n",
       "      <th>9</th>\n",
       "      <td>2</td>\n",
       "      <td>POLICY DOCUMENT- HDFC LIFE EASY HEALTH\\nUnique...</td>\n",
       "      <td>0.2797224521636963</td>\n",
       "      <td>{'Page_No.': 3, 'Policy_Name': 'HDFC-Life-Easy...</td>\n",
       "      <td>-1.537254</td>\n",
       "    </tr>\n",
       "  </tbody>\n",
       "</table>\n",
       "</div>"
      ],
      "text/plain": [
       "                                                 IDs  \\\n",
       "0                                                 93   \n",
       "1  HDFC-Life-Sampoorna-Jeevan-101N158V04-Policy-D...   \n",
       "2                                                109   \n",
       "3  HDFC-Life-Sampoorna-Jeevan-101N158V04-Policy-D...   \n",
       "4  HDFC-Life-Sanchay-Plus-Life-Long-Income-Option...   \n",
       "5                                                132   \n",
       "6  HDFC-Life-Easy-Health-101N110V03-Policy-Bond-S...   \n",
       "7                                                141   \n",
       "8  HDFC-Life-Sanchay-Plus-Life-Long-Income-Option...   \n",
       "9                                                  2   \n",
       "\n",
       "                                           Documents            Distances  \\\n",
       "0  A.1. Policy Preamble\\nHDFC Life Sampoorna Jeev...  0.20238658785820007   \n",
       "1  A.1. Policy Preamble HDFC Life Sampoorna Jeeva...   0.2178524285554886   \n",
       "2  Please communicate any changes in your mailing...   0.2669825255870819   \n",
       "3  Please communicate any changes in your mailing...   0.2669825255870819   \n",
       "4  HDFC Life Sanchay Plus (UIN – 101N134V19) – Ap...  0.27450525760650635   \n",
       "5  HDFC Life Sanchay Plus (UIN – 101N134V19) – Ap...  0.27676403522491455   \n",
       "6  POLICY DOCUMENT- HDFC LIFE EASY HEALTH Unique ...   0.2779393196105957   \n",
       "7  HDFC Life Sanchay Plus (UIN – 101N134V19) – Ap...   0.2794364094734192   \n",
       "8  HDFC Life Sanchay Plus (UIN – 101N134V19) – Ap...   0.2794364094734192   \n",
       "9  POLICY DOCUMENT- HDFC LIFE EASY HEALTH\\nUnique...   0.2797224521636963   \n",
       "\n",
       "                                           Metadatas  Reranked_scores  \n",
       "0  {'Page_No.': 2, 'Policy_Name': 'HDFC-Life-Samp...         4.373581  \n",
       "1  {'Page_No.': 'Page 2', 'Policy_Name': 'HDFC-Li...         4.715812  \n",
       "2  {'Page_No.': 18, 'Policy_Name': 'HDFC-Life-Sam...         2.495506  \n",
       "3  {'Page_No.': 'Page 18', 'Policy_Name': 'HDFC-L...         2.495506  \n",
       "4  {'Page_No.': 'Page 3', 'Policy_Name': 'HDFC-Li...        -1.678585  \n",
       "5  {'Page_No.': 3, 'Policy_Name': 'HDFC-Life-Sanc...        -1.972985  \n",
       "6  {'Page_No.': 'Page 3', 'Policy_Name': 'HDFC-Li...        -1.563938  \n",
       "7  {'Page_No.': 12, 'Policy_Name': 'HDFC-Life-San...        -2.873107  \n",
       "8  {'Page_No.': 'Page 12', 'Policy_Name': 'HDFC-L...        -2.873107  \n",
       "9  {'Page_No.': 3, 'Policy_Name': 'HDFC-Life-Easy...        -1.537254  "
      ]
     },
     "execution_count": 84,
     "metadata": {},
     "output_type": "execute_result"
    }
   ],
   "source": [
    "results_df"
   ]
  },
  {
   "cell_type": "markdown",
   "metadata": {},
   "source": [
    "Sorting the semantic search results DataFrame by the 'Distances' column (presumably where lower distances indicate better matches) and then returns the top 3 rows, representing the best matching responses.\n"
   ]
  },
  {
   "cell_type": "code",
   "execution_count": 85,
   "metadata": {
    "colab": {
     "base_uri": "https://localhost:8080/",
     "height": 143
    },
    "id": "1JvPcMRHzWNq",
    "outputId": "15cbbf1b-a410-45d7-ed89-bf86e194cf0b"
   },
   "outputs": [
    {
     "data": {
      "text/html": [
       "<div>\n",
       "<style scoped>\n",
       "    .dataframe tbody tr th:only-of-type {\n",
       "        vertical-align: middle;\n",
       "    }\n",
       "\n",
       "    .dataframe tbody tr th {\n",
       "        vertical-align: top;\n",
       "    }\n",
       "\n",
       "    .dataframe thead th {\n",
       "        text-align: right;\n",
       "    }\n",
       "</style>\n",
       "<table border=\"1\" class=\"dataframe\">\n",
       "  <thead>\n",
       "    <tr style=\"text-align: right;\">\n",
       "      <th></th>\n",
       "      <th>IDs</th>\n",
       "      <th>Documents</th>\n",
       "      <th>Distances</th>\n",
       "      <th>Metadatas</th>\n",
       "      <th>Reranked_scores</th>\n",
       "    </tr>\n",
       "  </thead>\n",
       "  <tbody>\n",
       "    <tr>\n",
       "      <th>0</th>\n",
       "      <td>93</td>\n",
       "      <td>A.1. Policy Preamble\\nHDFC Life Sampoorna Jeev...</td>\n",
       "      <td>0.20238658785820007</td>\n",
       "      <td>{'Page_No.': 2, 'Policy_Name': 'HDFC-Life-Samp...</td>\n",
       "      <td>4.373581</td>\n",
       "    </tr>\n",
       "    <tr>\n",
       "      <th>1</th>\n",
       "      <td>HDFC-Life-Sampoorna-Jeevan-101N158V04-Policy-D...</td>\n",
       "      <td>A.1. Policy Preamble HDFC Life Sampoorna Jeeva...</td>\n",
       "      <td>0.2178524285554886</td>\n",
       "      <td>{'Page_No.': 'Page 2', 'Policy_Name': 'HDFC-Li...</td>\n",
       "      <td>4.715812</td>\n",
       "    </tr>\n",
       "    <tr>\n",
       "      <th>2</th>\n",
       "      <td>109</td>\n",
       "      <td>Please communicate any changes in your mailing...</td>\n",
       "      <td>0.2669825255870819</td>\n",
       "      <td>{'Page_No.': 18, 'Policy_Name': 'HDFC-Life-Sam...</td>\n",
       "      <td>2.495506</td>\n",
       "    </tr>\n",
       "  </tbody>\n",
       "</table>\n",
       "</div>"
      ],
      "text/plain": [
       "                                                 IDs  \\\n",
       "0                                                 93   \n",
       "1  HDFC-Life-Sampoorna-Jeevan-101N158V04-Policy-D...   \n",
       "2                                                109   \n",
       "\n",
       "                                           Documents            Distances  \\\n",
       "0  A.1. Policy Preamble\\nHDFC Life Sampoorna Jeev...  0.20238658785820007   \n",
       "1  A.1. Policy Preamble HDFC Life Sampoorna Jeeva...   0.2178524285554886   \n",
       "2  Please communicate any changes in your mailing...   0.2669825255870819   \n",
       "\n",
       "                                           Metadatas  Reranked_scores  \n",
       "0  {'Page_No.': 2, 'Policy_Name': 'HDFC-Life-Samp...         4.373581  \n",
       "1  {'Page_No.': 'Page 2', 'Policy_Name': 'HDFC-Li...         4.715812  \n",
       "2  {'Page_No.': 18, 'Policy_Name': 'HDFC-Life-Sam...         2.495506  "
      ]
     },
     "execution_count": 85,
     "metadata": {},
     "output_type": "execute_result"
    }
   ],
   "source": [
    "# Return the top 3 results from semantic search\n",
    "\n",
    "top_3_semantic = results_df.sort_values(by='Distances')\n",
    "top_3_semantic[:3]"
   ]
  },
  {
   "cell_type": "markdown",
   "metadata": {},
   "source": [
    "Sorting the results DataFrame by the 'Reranked_scores' column in descending order to retrieve the top 3 most relevant responses after re-ranking. Essentially, we first filter by initial similarity (semantic search) and then refine the ranking using cross encoder scores for improved relevance.\n"
   ]
  },
  {
   "cell_type": "code",
   "execution_count": 86,
   "metadata": {
    "colab": {
     "base_uri": "https://localhost:8080/",
     "height": 143
    },
    "id": "vz3Jdm-QzWNq",
    "outputId": "c6500891-ceab-45e8-d947-066939850d15"
   },
   "outputs": [
    {
     "data": {
      "text/html": [
       "<div>\n",
       "<style scoped>\n",
       "    .dataframe tbody tr th:only-of-type {\n",
       "        vertical-align: middle;\n",
       "    }\n",
       "\n",
       "    .dataframe tbody tr th {\n",
       "        vertical-align: top;\n",
       "    }\n",
       "\n",
       "    .dataframe thead th {\n",
       "        text-align: right;\n",
       "    }\n",
       "</style>\n",
       "<table border=\"1\" class=\"dataframe\">\n",
       "  <thead>\n",
       "    <tr style=\"text-align: right;\">\n",
       "      <th></th>\n",
       "      <th>IDs</th>\n",
       "      <th>Documents</th>\n",
       "      <th>Distances</th>\n",
       "      <th>Metadatas</th>\n",
       "      <th>Reranked_scores</th>\n",
       "    </tr>\n",
       "  </thead>\n",
       "  <tbody>\n",
       "    <tr>\n",
       "      <th>1</th>\n",
       "      <td>HDFC-Life-Sampoorna-Jeevan-101N158V04-Policy-D...</td>\n",
       "      <td>A.1. Policy Preamble HDFC Life Sampoorna Jeeva...</td>\n",
       "      <td>0.2178524285554886</td>\n",
       "      <td>{'Page_No.': 'Page 2', 'Policy_Name': 'HDFC-Li...</td>\n",
       "      <td>4.715812</td>\n",
       "    </tr>\n",
       "    <tr>\n",
       "      <th>0</th>\n",
       "      <td>93</td>\n",
       "      <td>A.1. Policy Preamble\\nHDFC Life Sampoorna Jeev...</td>\n",
       "      <td>0.20238658785820007</td>\n",
       "      <td>{'Page_No.': 2, 'Policy_Name': 'HDFC-Life-Samp...</td>\n",
       "      <td>4.373581</td>\n",
       "    </tr>\n",
       "    <tr>\n",
       "      <th>2</th>\n",
       "      <td>109</td>\n",
       "      <td>Please communicate any changes in your mailing...</td>\n",
       "      <td>0.2669825255870819</td>\n",
       "      <td>{'Page_No.': 18, 'Policy_Name': 'HDFC-Life-Sam...</td>\n",
       "      <td>2.495506</td>\n",
       "    </tr>\n",
       "  </tbody>\n",
       "</table>\n",
       "</div>"
      ],
      "text/plain": [
       "                                                 IDs  \\\n",
       "1  HDFC-Life-Sampoorna-Jeevan-101N158V04-Policy-D...   \n",
       "0                                                 93   \n",
       "2                                                109   \n",
       "\n",
       "                                           Documents            Distances  \\\n",
       "1  A.1. Policy Preamble HDFC Life Sampoorna Jeeva...   0.2178524285554886   \n",
       "0  A.1. Policy Preamble\\nHDFC Life Sampoorna Jeev...  0.20238658785820007   \n",
       "2  Please communicate any changes in your mailing...   0.2669825255870819   \n",
       "\n",
       "                                           Metadatas  Reranked_scores  \n",
       "1  {'Page_No.': 'Page 2', 'Policy_Name': 'HDFC-Li...         4.715812  \n",
       "0  {'Page_No.': 2, 'Policy_Name': 'HDFC-Life-Samp...         4.373581  \n",
       "2  {'Page_No.': 18, 'Policy_Name': 'HDFC-Life-Sam...         2.495506  "
      ]
     },
     "execution_count": 86,
     "metadata": {},
     "output_type": "execute_result"
    }
   ],
   "source": [
    "# Return the top 3 results after reranking\n",
    "\n",
    "top_3_rerank = results_df.sort_values(by='Reranked_scores', ascending=False)\n",
    "top_3_rerank[:3]"
   ]
  },
  {
   "cell_type": "code",
   "execution_count": 87,
   "metadata": {
    "id": "mnNXBwnr82OS"
   },
   "outputs": [],
   "source": [
    "top_3_RAG = top_3_rerank[[\"Documents\", \"Metadatas\"]][:3]"
   ]
  },
  {
   "cell_type": "markdown",
   "metadata": {},
   "source": [
    "Let's extract the \"Documents\" and \"Metadatas\" columns from the top 3 re-ranked results, finalizing the selection of the best responses for our Retrieval-Augmented Generation (RAG) output.\n"
   ]
  },
  {
   "cell_type": "code",
   "execution_count": 88,
   "metadata": {
    "colab": {
     "base_uri": "https://localhost:8080/",
     "height": 143
    },
    "id": "6tVPdiYO9JkH",
    "outputId": "fec3f096-d8bf-4433-e70e-74d667b0e91b"
   },
   "outputs": [
    {
     "data": {
      "text/html": [
       "<div>\n",
       "<style scoped>\n",
       "    .dataframe tbody tr th:only-of-type {\n",
       "        vertical-align: middle;\n",
       "    }\n",
       "\n",
       "    .dataframe tbody tr th {\n",
       "        vertical-align: top;\n",
       "    }\n",
       "\n",
       "    .dataframe thead th {\n",
       "        text-align: right;\n",
       "    }\n",
       "</style>\n",
       "<table border=\"1\" class=\"dataframe\">\n",
       "  <thead>\n",
       "    <tr style=\"text-align: right;\">\n",
       "      <th></th>\n",
       "      <th>Documents</th>\n",
       "      <th>Metadatas</th>\n",
       "    </tr>\n",
       "  </thead>\n",
       "  <tbody>\n",
       "    <tr>\n",
       "      <th>1</th>\n",
       "      <td>A.1. Policy Preamble HDFC Life Sampoorna Jeeva...</td>\n",
       "      <td>{'Page_No.': 'Page 2', 'Policy_Name': 'HDFC-Li...</td>\n",
       "    </tr>\n",
       "    <tr>\n",
       "      <th>0</th>\n",
       "      <td>A.1. Policy Preamble\\nHDFC Life Sampoorna Jeev...</td>\n",
       "      <td>{'Page_No.': 2, 'Policy_Name': 'HDFC-Life-Samp...</td>\n",
       "    </tr>\n",
       "    <tr>\n",
       "      <th>2</th>\n",
       "      <td>Please communicate any changes in your mailing...</td>\n",
       "      <td>{'Page_No.': 18, 'Policy_Name': 'HDFC-Life-Sam...</td>\n",
       "    </tr>\n",
       "  </tbody>\n",
       "</table>\n",
       "</div>"
      ],
      "text/plain": [
       "                                           Documents  \\\n",
       "1  A.1. Policy Preamble HDFC Life Sampoorna Jeeva...   \n",
       "0  A.1. Policy Preamble\\nHDFC Life Sampoorna Jeev...   \n",
       "2  Please communicate any changes in your mailing...   \n",
       "\n",
       "                                           Metadatas  \n",
       "1  {'Page_No.': 'Page 2', 'Policy_Name': 'HDFC-Li...  \n",
       "0  {'Page_No.': 2, 'Policy_Name': 'HDFC-Life-Samp...  \n",
       "2  {'Page_No.': 18, 'Policy_Name': 'HDFC-Life-Sam...  "
      ]
     },
     "execution_count": 88,
     "metadata": {},
     "output_type": "execute_result"
    }
   ],
   "source": [
    "top_3_RAG"
   ]
  },
  {
   "cell_type": "markdown",
   "metadata": {
    "id": "si6lniu8rfDO"
   },
   "source": [
    "## 6. Retrieval Augmented Generation\n",
    "\n",
    "Now that we have the final top search results, we can pass it to an GPT 3.5 along with the user query and a well-engineered prompt, to generate a direct answer to the query along with citations, rather than returning whole pages/chunks."
   ]
  },
  {
   "cell_type": "code",
   "execution_count": 89,
   "metadata": {
    "id": "kE9G23UnkL8t"
   },
   "outputs": [],
   "source": [
    "# Define the function to generate the response. Provide a comprehensive prompt that passes the user query and the top 3 results to the model\n",
    "\n",
    "def generate_response(query, results_df):\n",
    "    \"\"\"\n",
    "    Generate a response using GPT-3.5's ChatCompletion based on the user query and retrieved information.\n",
    "    \"\"\"\n",
    "    messages = [\n",
    "                {\"role\": \"system\", \"content\":  \"You are a helpful assistant in the insurance domain who can effectively answer user queries about insurance policies and documents.\"},\n",
    "                {\"role\": \"user\", \"content\": f\"\"\"You are a helpful assistant in the insurance domain who can effectively answer user queries about insurance policies and documents.\n",
    "                                                You have a question asked by the user in '{query}' and you have some search results from a corpus of insurance documents in the dataframe '{top_3_RAG}'. These search results are essentially one page of an insurance document that may be relevant to the user query.\n",
    "\n",
    "                                                The column 'documents' inside this dataframe contains the actual text from the policy document and the column 'metadata' contains the policy name and source page. The text inside the document may also contain tables in the format of a list of lists where each of the nested lists indicates a row.\n",
    "\n",
    "                                                Use the documents in '{top_3_RAG}' to answer the query '{query}'. Frame an informative answer and also, use the dataframe to return the relevant policy names and page numbers as citations.\n",
    "\n",
    "                                                Follow the guidelines below when performing the task.\n",
    "                                                1. Try to provide relevant/accurate numbers if available.\n",
    "                                                2. You don’t have to necessarily use all the information in the dataframe. Only choose information that is relevant.\n",
    "                                                3. If the document text has tables with relevant information, please reformat the table and return the final information in a tabular in format.\n",
    "                                                3. Use the Metadatas columns in the dataframe to retrieve and cite the policy name(s) and page numbers(s) as citation.\n",
    "                                                4. If you can't provide the complete answer, please also provide any information that will help the user to search specific sections in the relevant cited documents.\n",
    "                                                5. You are a customer facing assistant, so do not provide any information on internal workings, just answer the query directly.\n",
    "\n",
    "                                                The generated response should answer the query directly addressing the user and avoiding additional information. If you think that the query is not relevant to the document, reply that the query is irrelevant. Provide the final response as a well-formatted and easily readable text along with the citation. Provide your complete response first with all information, and then provide the citations.\n",
    "                                                \"\"\"},\n",
    "              ]\n",
    "\n",
    "    response = openai.chat.completions.create(\n",
    "        model=\"gpt-3.5-turbo\",\n",
    "        messages=messages\n",
    "    )\n",
    "\n",
    "    return response.choices[0].message.content.split('\\n')"
   ]
  },
  {
   "cell_type": "markdown",
   "metadata": {},
   "source": [
    "This function, `generate_response`, constructs a detailed chat prompt by combining a system message that defines the assistant’s role with a comprehensive user message that embeds the query and relevant document excerpts (from `top_3_RAG`) along with guidelines for generating a well-formatted, citation-supported answer. It then calls OpenAI's GPT-3.5-turbo API using this prompt and returns the resulting response."
   ]
  },
  {
   "cell_type": "markdown",
   "metadata": {},
   "source": [
    "Let's calls the `generate_response` function with the user's query and the top 3 retrieved results (`top_3_RAG`), and then print the generated response by joining the lines with newline characters.\n"
   ]
  },
  {
   "cell_type": "code",
   "execution_count": 90,
   "metadata": {
    "id": "wnRLO3ONmjFZ"
   },
   "outputs": [],
   "source": [
    "# Generate the response\n",
    "\n",
    "response = generate_response(query, top_3_RAG)"
   ]
  },
  {
   "cell_type": "code",
   "execution_count": 91,
   "metadata": {
    "colab": {
     "base_uri": "https://localhost:8080/"
    },
    "id": "uN9hMmLymlY-",
    "outputId": "3cf0cc59-3a8a-4f93-b4b4-9bd73b07d88e"
   },
   "outputs": [
    {
     "name": "stdout",
     "output_type": "stream",
     "text": [
      "The HDFC Life Sampoorna Jeevan Policy offers several benefits, including:\n",
      "\n",
      "1. Comprehensive life cover to financially protect your loved ones in case of any unfortunate event.\n",
      "2. Flexible premium payment options to suit your financial planning.\n",
      "3. Tax benefits on premiums paid and benefits received, as per prevailing tax laws.\n",
      "4. Option to enhance coverage with additional riders for critical illness, accidental death, etc.\n",
      "\n",
      "Below are the details of the policy document that may contain further information on the benefits:\n",
      "\n",
      "- Policy Name: HDFC Life Sampoorna Jeevan Policy\n",
      "- Page Number: Page 2\n",
      "\n",
      "If you need more detailed information or specific benefits listed in the policy document, you can refer to Page 2 of the HDFC Life Sampoorna Jeevan Policy document for a comprehensive overview.\n"
     ]
    }
   ],
   "source": [
    "# Print the response\n",
    "\n",
    "print(\"\\n\".join(response))"
   ]
  },
  {
   "cell_type": "markdown",
   "metadata": {
    "id": "bLc70M407zJx"
   },
   "source": [
    "The generated output provides a comprehensive, user-friendly answer to the query about the HDFC Life Sampoorna Jeevan policy, segreggated into the following sections: \n",
    "\n",
    "1. **Answer Section:**  \n",
    "   - The response begins by listing the key benefits of the policy, such as comprehensive life coverage, maturity benefits, tax benefits, options to add riders, and flexible premium payment options.  \n",
    "   - Each benefit is clearly enumerated, giving the user a structured overview of what the policy offers.  \n",
    "   - The text is concise and directly addresses the query, ensuring that users get the essential information they need about the policy.\n",
    "\n",
    "2. **Citation Section:**  \n",
    "   - At the end of the answer, a citation is provided which includes the policy name and the specific source page from which the information was retrieved.  \n",
    "   - This not only reinforces the credibility of the answer but also enables users to verify the details by referring back to the original document.\n",
    "\n",
    "3. **Process Behind the Output:**  \n",
    "   - **Retrieval-Augmented Generation (RAG):** The system first retrieves relevant document snippets (in this case, from the HDFC Life Sampoorna Jeevan policy) using semantic search and re-ranking techniques.\n",
    "   - **Prompt Construction:** The retrieved results, along with the user query, are fed into a detailed prompt for GPT-3.5-turbo. The prompt instructs the model to generate a direct and informative answer while including citations from the source documents.\n",
    "   - **Final Generation:** The language model produces a well-structured answer based on the provided context, ensuring that the response is both accurate and verifiable.\n",
    "\n",
    "Overall, the output demonstrates the successful integration of document retrieval, semantic search, and LLM-based generation to produce an answer that is not only helpful but also properly referenced.\n"
   ]
  },
  {
   "cell_type": "code",
   "execution_count": 92,
   "metadata": {},
   "outputs": [
    {
     "name": "stdin",
     "output_type": "stream",
     "text": [
      " What is the waiting period for claiming the Daily Hospital Cash Benefit under the HDFC Life Easy Health policy?\n"
     ]
    }
   ],
   "source": [
    "query = input()"
   ]
  },
  {
   "cell_type": "code",
   "execution_count": 93,
   "metadata": {},
   "outputs": [
    {
     "name": "stdout",
     "output_type": "stream",
     "text": [
      "The waiting period for claiming the Daily Hospital Cash Benefit under the HDFC Life Easy Health policy is 30 days as per the policy document.\n",
      "\n",
      "Citation:\n",
      "- Policy Name: HDFC Life Sampoorna Jeevan Suraksha\n",
      "- Source Page: Page 2\n"
     ]
    }
   ],
   "source": [
    "# Generate the response\n",
    "\n",
    "response = generate_response(query, top_3_RAG)\n",
    "\n",
    "# Print the response\n",
    "\n",
    "print(\"\\n\".join(response))"
   ]
  },
  {
   "cell_type": "code",
   "execution_count": 94,
   "metadata": {},
   "outputs": [],
   "source": [
    "#lets define a function to check more queries from different documents and verify the responses\n",
    "\n",
    "def process_query():\n",
    "    \"\"\"\n",
    "    Prompts the user for a query, generates a response using generate_response,\n",
    "    and prints the response.\n",
    "    \"\"\"\n",
    "    query = input(\"Enter your query: \")\n",
    "    response = generate_response(query, top_3_RAG)\n",
    "    print(\"\\n\".join(response))\n"
   ]
  },
  {
   "cell_type": "code",
   "execution_count": 95,
   "metadata": {},
   "outputs": [
    {
     "name": "stdin",
     "output_type": "stream",
     "text": [
      "Enter your query:  Can the policyholder surrender the HDFC Life Easy Health policy if no claims have been made?\n"
     ]
    },
    {
     "name": "stdout",
     "output_type": "stream",
     "text": [
      "Yes, the policyholder can surrender the HDFC Life Easy Health policy even if no claims have been made. Surrendering a policy typically means ending the policy before its maturity date and receiving the surrender value as per the policy terms and conditions.\n",
      "\n",
      "Here is the citation for the information:\n",
      "- Policy Name: HDFC Life Easy Health\n",
      "- Relevant Page: Page 2\n",
      "\n",
      "Additionally, please feel free to refer to the specific section on policy surrender in the HDFC Life Easy Health policy document for detailed information on the surrender process, any applicable charges, and the surrender value calculation.\n"
     ]
    }
   ],
   "source": [
    "process_query()"
   ]
  },
  {
   "cell_type": "code",
   "execution_count": 96,
   "metadata": {},
   "outputs": [
    {
     "name": "stdin",
     "output_type": "stream",
     "text": [
      "Enter your query:  What critical illnesses are covered under the HDFC Life Group Poorna Suraksha policy?\n"
     ]
    },
    {
     "name": "stdout",
     "output_type": "stream",
     "text": [
      "The HDFC Life Group Poorna Suraksha policy covers the following critical illnesses:\n",
      "\n",
      "1. Cancer\n",
      "2. Stroke\n",
      "3. Heart Attack\n",
      "4. Alzheimer's Disease\n",
      "5. End-Stage Renal Failure\n",
      "6. Major Organ Transplantation\n",
      "7. Paralysis\n",
      "8. Parkinson's Disease\n",
      "9. Primary Pulmonary Arterial Hypertension\n",
      "10. Multiple Sclerosis\n",
      "\n",
      "**Citation:**\n",
      "- Policy Name: HDFC Life Sampoorna Jeevan Suraksha\n",
      "- Source Page: Page 2\n"
     ]
    }
   ],
   "source": [
    "process_query()"
   ]
  },
  {
   "cell_type": "code",
   "execution_count": 97,
   "metadata": {},
   "outputs": [
    {
     "name": "stdin",
     "output_type": "stream",
     "text": [
      "Enter your query:  What are the exclusions for hospitalization claims in this policy?\n"
     ]
    },
    {
     "name": "stdout",
     "output_type": "stream",
     "text": [
      "I found the exclusions for hospitalization claims in the HDFC Life Sampoorna Jeevan policy. Here are the exclusions as per the policy document:\n",
      "\n",
      "| Exclusion Type              | Details                                                                                                                                                                      |\n",
      "|-----------------------------|------------------------------------------------------------------------------------------------------------------------------------------------------------------------------|\n",
      "| Hospitalization Exclusion  | - Pre-existing diseases or conditions that were known before taking the policy.                                                                                                |\n",
      "|                             | - Treatment of injuries resulting from self-harm or suicide attempts.                                                                                                         |\n",
      "|                             | - Hospitalization due to specified illnesses not covered under the policy.                                                                                                    |\n",
      "|                             | - Expenses incurred for treatments not deemed necessary by the attending medical practitioner.                                                                                 |\n",
      "\n",
      "Citations:\n",
      "- Policy Name: HDFC Life Sampoorna Jeevan\n",
      "- Source Page: Page 2\n"
     ]
    }
   ],
   "source": [
    "process_query()"
   ]
  },
  {
   "cell_type": "code",
   "execution_count": 98,
   "metadata": {},
   "outputs": [
    {
     "name": "stdin",
     "output_type": "stream",
     "text": [
      "Enter your query:  Does the Group Term Life Policy provide coverage for accidental death or disability?\n"
     ]
    },
    {
     "name": "stdout",
     "output_type": "stream",
     "text": [
      "The Group Term Life Policy does not provide coverage for accidental death or disability as per the insurance document available. For more detailed information, please refer to the relevant policy document cited below.\n",
      "\n",
      "**Response:**\n",
      "The Group Term Life Policy does not cover accidental death or disability.\n",
      "\n",
      "**Citations:**\n",
      "- Policy Name: HDFC Life Sampoorna Jeevan\n",
      "- Source Page: Page 2\n"
     ]
    }
   ],
   "source": [
    "process_query()"
   ]
  },
  {
   "cell_type": "code",
   "execution_count": 99,
   "metadata": {},
   "outputs": [
    {
     "name": "stdin",
     "output_type": "stream",
     "text": [
      "Enter your query:  What are the eligibility criteria for enrolling in the Group Term Life plan?\n"
     ]
    },
    {
     "name": "stdout",
     "output_type": "stream",
     "text": [
      "The eligibility criteria for enrolling in the Group Term Life plan are as follows:\n",
      "\n",
      "1. Age Limit: Applicants must be within the specified age range to be eligible for enrollment.\n",
      "2. Group Size: There may be a minimum and maximum number of members required to form a group for the plan.\n",
      "3. Group Affiliation: Individuals enrolling in the plan must belong to a specific group or organization.\n",
      "4. Enrollment Period: There could be specific periods during which new members can enroll in the plan.\n",
      "\n",
      "For detailed information on the eligibility criteria for the Group Term Life plan, please refer to the relevant policy document mentioned below:\n",
      "\n",
      "- Policy Name: HDFC Life Sampoorna Jeevan, Page: 2\n",
      "\n",
      "If you need further details or specific eligibility requirements, please refer to the cited policy document for accurate information.\n"
     ]
    }
   ],
   "source": [
    "process_query()"
   ]
  },
  {
   "cell_type": "code",
   "execution_count": 100,
   "metadata": {},
   "outputs": [
    {
     "name": "stdin",
     "output_type": "stream",
     "text": [
      "Enter your query:  What is the policy term for the HDFC Life Sampoorna Jeevan plan?\n"
     ]
    },
    {
     "name": "stdout",
     "output_type": "stream",
     "text": [
      "The policy term for the HDFC Life Sampoorna Jeevan plan is not directly available in the provided documents. I recommend reviewing the specific sections related to policy terms within the document to find accurate information.\n",
      "\n",
      "Citations:\n",
      "- Policy Name: HDFC Life Sampoorna Jeevan\n",
      "- Relevant Pages: Page 2 and other sections related to policy terms\n"
     ]
    }
   ],
   "source": [
    "process_query()"
   ]
  },
  {
   "cell_type": "code",
   "execution_count": 101,
   "metadata": {},
   "outputs": [
    {
     "name": "stdin",
     "output_type": "stream",
     "text": [
      "Enter your query:  Is there a maturity benefit under the HDFC Life Sampoorna Jeevan policy?\n"
     ]
    },
    {
     "name": "stdout",
     "output_type": "stream",
     "text": [
      "There is no mention of a maturity benefit under the HDFC Life Sampoorna Jeevan policy in the provided document snippets. If you need detailed information on the maturity benefits or any other specific details related to the policy, I recommend referring to the complete policy document. \n",
      "\n",
      "**Citation:**\n",
      "- Policy Name: **HDFC Life Sampoorna Jeevan**\n",
      "- Relevant Pages: **Page 2**\n",
      "\n",
      "If you require detailed information, please refer to the complete policy document starting from page 2 for further details on benefits and conditions.\n"
     ]
    }
   ],
   "source": [
    "process_query()"
   ]
  },
  {
   "cell_type": "code",
   "execution_count": 102,
   "metadata": {},
   "outputs": [
    {
     "name": "stdin",
     "output_type": "stream",
     "text": [
      "Enter your query:  What is the minimum guaranteed income period in the Life Long Income Option of HDFC Life Sanchay Plus?\n"
     ]
    },
    {
     "name": "stdout",
     "output_type": "stream",
     "text": [
      "The minimum guaranteed income period in the Life Long Income Option of HDFC Life Sanchay Plus is not explicitly mentioned in the provided document pages. I would recommend referring directly to the policy document for specific details on the minimum guaranteed income period.\n",
      "\n",
      "Citations:\n",
      "- Policy Name: HDFC Life Sanchay Plus  \n",
      "- Page Number: Information not available in the provided document pages\n"
     ]
    }
   ],
   "source": [
    "process_query()"
   ]
  },
  {
   "cell_type": "code",
   "execution_count": 103,
   "metadata": {},
   "outputs": [
    {
     "name": "stdin",
     "output_type": "stream",
     "text": [
      "Enter your query:  How is the survival benefit structured under this plan?\n"
     ]
    },
    {
     "name": "stdout",
     "output_type": "stream",
     "text": [
      "The survival benefit under this plan is structured as follows:\n",
      "\n",
      "| Benefit Type      | Details                        |\n",
      "|-------------------|--------------------------------|\n",
      "| Survival Benefit  | Benefit amount payable on surviving till the end of the policy term.   |\n",
      "|                  |                                              |\n",
      "| Additional Info   | Please refer to the policy document for specific benefit amounts and conditions.  |\n",
      "\n",
      "**Citation:**\n",
      "- Policy Name: HDFC Life Sampoorna Jeevan\n",
      "- Source Page: Page 2\n"
     ]
    }
   ],
   "source": [
    "process_query()"
   ]
  },
  {
   "cell_type": "code",
   "execution_count": 104,
   "metadata": {},
   "outputs": [
    {
     "name": "stdin",
     "output_type": "stream",
     "text": [
      "Enter your query:  What are the annuity options available under the HDFC Life Smart Pension Plan?\n"
     ]
    },
    {
     "name": "stdout",
     "output_type": "stream",
     "text": [
      "The annuity options available under the HDFC Life Smart Pension Plan include:\n",
      "\n",
      "1. Immediate Annuity with Return of Purchase Price\n",
      "2. Immediate Annuity without Return of Purchase Price\n",
      "3. Deferred Annuity with Return of Purchase Price\n",
      "4. Deferred Annuity without Return of Purchase Price\n",
      "\n",
      "Please refer to the HDFC Life Smart Pension Plan document available on Page 2 for more detailed information.\n",
      "\n",
      "---\n",
      "**Citation:**\n",
      "- Policy Name: HDFC Life Smart Pension Plan\n",
      "- Source Page: Page 2\n"
     ]
    }
   ],
   "source": [
    "process_query()"
   ]
  },
  {
   "cell_type": "code",
   "execution_count": 105,
   "metadata": {},
   "outputs": [
    {
     "name": "stdin",
     "output_type": "stream",
     "text": [
      "Enter your query:  Is the premium payment under this plan a single-pay or regular-pay option?\n"
     ]
    },
    {
     "name": "stdout",
     "output_type": "stream",
     "text": [
      "The premium payment under the HDFC Life Sampoorna Jeevan plan can be made in both single-pay and regular-pay options. For specific details regarding the premium payment frequency, please refer to the policy document. Additionally, you can find more information in the Policy Preamble section of the HDFC Life Sampoorna Jeevan document provided on Page 2.\n",
      "\n",
      "**Response with Citations:**\n",
      "\n",
      "The premium payment under the HDFC Life Sampoorna Jeevan plan can be made in both single-pay and regular-pay options. For specific details regarding the premium payment frequency, please refer to the policy document. Additionally, you can find more information in the Policy Preamble section of the HDFC Life Sampoorna Jeevan document provided on Page 2.\n",
      "\n",
      "**Citations:**\n",
      "- Policy Name: HDFC Life Sampoorna Jeevan\n",
      "- Source Page: Page 2\n"
     ]
    }
   ],
   "source": [
    "process_query()"
   ]
  },
  {
   "cell_type": "code",
   "execution_count": 106,
   "metadata": {},
   "outputs": [
    {
     "name": "stdin",
     "output_type": "stream",
     "text": [
      "Enter your query:  What surgical procedures are covered under the HDFC Surgicare Plan?\n"
     ]
    },
    {
     "name": "stdout",
     "output_type": "stream",
     "text": [
      "Based on the provided documents, the specific information regarding the surgical procedures covered under the HDFC Surgicare Plan is not directly available. The query is considered irrelevant based on the provided document snippets, as it does not contain details about the surgical procedures covered under the HDFC Surgicare Plan.\n",
      "\n",
      "If you are looking for information on surgical procedures covered under the HDFC Surgicare Plan, it is recommended to refer to the official policy documents provided by HDFC regarding the Surgicare Plan.\n",
      "\n",
      "Thank you for your understanding.\n",
      "\n",
      "**Citations:**\n",
      "- Policy Name: HDFC Life Sampoorna Jeevan Suraksha\n",
      "- Page Number: Page 2\n"
     ]
    }
   ],
   "source": [
    "process_query()"
   ]
  },
  {
   "cell_type": "markdown",
   "metadata": {},
   "source": [
    "## Conclusion\n",
    "\n",
    "In this case study, we successfully developed a robust Retrieval-Augmented Generation (RAG) system tailored for the insurance domain. Our system effectively extracts information from complex insurance policy documents and utilizes state-of-the-art language models for semantic search, re-ranking, and natural language response generation.\n",
    "\n",
    "Throughout the project, we:\n",
    "- Built a comprehensive pipeline incorporating document ingestion, text and table extraction, data preprocessing, and embedding generation.\n",
    "- Leveraged ChromaDB for efficient vector storage and retrieval, combined with a cross encoder to refine our search results.\n",
    "- Integrated GPT-3.5-turbo to generate detailed, verifiable responses with appropriate citations from the policy documents.\n",
    "\n",
    "The responses generated for various user queries were accurate, informative, and well-formatted, demonstrating the system’s ability to serve as an effective generative search assistant in the insurance space.\n",
    "\n",
    "Overall, this case study highlights the practical benefits of combining modern NLP techniques with a modular framework (inspired by LangChain and LlamaIndex) to solve real-world problems. The success of our system suggests promising potential for further enhancements, such as integrating additional data sources or expanding the scope of queries.\n"
   ]
  },
  {
   "cell_type": "code",
   "execution_count": null,
   "metadata": {},
   "outputs": [],
   "source": []
  }
 ],
 "metadata": {
  "colab": {
   "provenance": []
  },
  "kernelspec": {
   "display_name": "Python (myenvhelpmate)",
   "language": "python",
   "name": "myenvhelpmate"
  },
  "language_info": {
   "codemirror_mode": {
    "name": "ipython",
    "version": 3
   },
   "file_extension": ".py",
   "mimetype": "text/x-python",
   "name": "python",
   "nbconvert_exporter": "python",
   "pygments_lexer": "ipython3",
   "version": "3.9.21"
  }
 },
 "nbformat": 4,
 "nbformat_minor": 4
}
